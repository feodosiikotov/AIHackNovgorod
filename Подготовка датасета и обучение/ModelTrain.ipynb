{
  "nbformat": 4,
  "nbformat_minor": 0,
  "metadata": {
    "colab": {
      "name": "Copy of Untitled24_1.ipynb",
      "provenance": [],
      "collapsed_sections": []
    },
    "kernelspec": {
      "name": "python3",
      "display_name": "Python 3"
    },
    "language_info": {
      "name": "python"
    },
    "accelerator": "GPU",
    "widgets": {
      "application/vnd.jupyter.widget-state+json": {
        "9b350315a8844ea28ffbc720540ab507": {
          "model_module": "catboost-widget",
          "model_name": "CatboostWidgetModel",
          "model_module_version": "^1.0.0",
          "state": {
            "_view_name": "CatboostWidgetView",
            "_dom_classes": [],
            "_model_name": "CatboostWidgetModel",
            "data": {
              "catboost_info": {
                "content": {
                  "data": {
                    "meta": {
                      "name": "experiment",
                      "parameters": "parameters",
                      "test_metrics": [
                        {
                          "best_value": "Max",
                          "name": "F1"
                        },
                        {
                          "best_value": "Min",
                          "name": "Logloss"
                        }
                      ],
                      "learn_sets": [
                        "learn"
                      ],
                      "launch_mode": "Train",
                      "learn_metrics": [
                        {
                          "best_value": "Max",
                          "name": "F1"
                        },
                        {
                          "best_value": "Min",
                          "name": "Logloss"
                        }
                      ],
                      "iteration_count": 81,
                      "test_sets": [
                        "test"
                      ]
                    },
                    "iterations": [
                      {
                        "parameters": [
                          {
                            "auto_class_weights": "Balanced",
                            "grow_policy": "SymmetricTree",
                            "depth": 4,
                            "l2_leaf_reg": 0.1
                          }
                        ],
                        "iteration": 0,
                        "remaining_time": 705.3050844,
                        "passed_time": 8.816313555,
                        "learn": [
                          0.6955726208,
                          0.6246035468
                        ],
                        "test": [
                          0.6949282096,
                          0.6270880253
                        ]
                      },
                      {
                        "parameters": [
                          {
                            "auto_class_weights": "Balanced",
                            "grow_policy": "SymmetricTree",
                            "depth": 4,
                            "l2_leaf_reg": 0.5
                          }
                        ],
                        "iteration": 1,
                        "remaining_time": 631.0971287,
                        "passed_time": 15.9771425,
                        "learn": [
                          0.696018999,
                          0.6238495793
                        ],
                        "test": [
                          0.6955913772,
                          0.6267328445
                        ]
                      },
                      {
                        "parameters": [
                          {
                            "auto_class_weights": "Balanced",
                            "grow_policy": "SymmetricTree",
                            "depth": 4,
                            "l2_leaf_reg": 1
                          }
                        ],
                        "iteration": 2,
                        "remaining_time": 601.0853234,
                        "passed_time": 23.11866628,
                        "learn": [
                          0.696533912,
                          0.6239364165
                        ],
                        "test": [
                          0.6954260182,
                          0.6268948694
                        ]
                      },
                      {
                        "parameters": [
                          {
                            "auto_class_weights": "SqrtBalanced",
                            "grow_policy": "SymmetricTree",
                            "depth": 4,
                            "l2_leaf_reg": 0.1
                          }
                        ],
                        "iteration": 3,
                        "remaining_time": 581.8586415,
                        "passed_time": 30.22642293,
                        "learn": [
                          0.6955726208,
                          0.6246034812
                        ],
                        "test": [
                          0.6949282096,
                          0.6270880253
                        ]
                      },
                      {
                        "parameters": [
                          {
                            "auto_class_weights": "SqrtBalanced",
                            "grow_policy": "SymmetricTree",
                            "depth": 4,
                            "l2_leaf_reg": 0.5
                          }
                        ],
                        "iteration": 4,
                        "remaining_time": 568.8775287,
                        "passed_time": 37.4261532,
                        "learn": [
                          0.696018999,
                          0.623849645
                        ],
                        "test": [
                          0.6955913772,
                          0.6267327788
                        ]
                      },
                      {
                        "parameters": [
                          {
                            "auto_class_weights": "SqrtBalanced",
                            "grow_policy": "SymmetricTree",
                            "depth": 4,
                            "l2_leaf_reg": 1
                          }
                        ],
                        "iteration": 5,
                        "remaining_time": 557.1871386,
                        "passed_time": 44.57497109,
                        "learn": [
                          0.696533912,
                          0.6239364165
                        ],
                        "test": [
                          0.6954260182,
                          0.6268948694
                        ]
                      },
                      {
                        "parameters": [
                          {
                            "auto_class_weights": "Balanced",
                            "grow_policy": "SymmetricTree",
                            "depth": 6,
                            "l2_leaf_reg": 0.1
                          }
                        ],
                        "iteration": 6,
                        "remaining_time": 568.128765,
                        "passed_time": 53.7419102,
                        "learn": [
                          0.7071347943,
                          0.6111037416
                        ],
                        "test": [
                          0.70021732,
                          0.6175299974
                        ]
                      },
                      {
                        "parameters": [
                          {
                            "auto_class_weights": "Balanced",
                            "grow_policy": "SymmetricTree",
                            "depth": 6,
                            "l2_leaf_reg": 0.5
                          }
                        ],
                        "iteration": 7,
                        "remaining_time": 575.154211,
                        "passed_time": 63.03059847,
                        "learn": [
                          0.7081595583,
                          0.6102604427
                        ],
                        "test": [
                          0.7041790629,
                          0.6163875474
                        ]
                      },
                      {
                        "parameters": [
                          {
                            "auto_class_weights": "Balanced",
                            "grow_policy": "SymmetricTree",
                            "depth": 6,
                            "l2_leaf_reg": 1
                          }
                        ],
                        "iteration": 8,
                        "remaining_time": 579.535808,
                        "passed_time": 72.441976,
                        "learn": [
                          0.7094433611,
                          0.6090428184
                        ],
                        "test": [
                          0.7026437404,
                          0.6157332739
                        ]
                      },
                      {
                        "parameters": [
                          {
                            "auto_class_weights": "SqrtBalanced",
                            "grow_policy": "SymmetricTree",
                            "depth": 6,
                            "l2_leaf_reg": 0.1
                          }
                        ],
                        "iteration": 9,
                        "remaining_time": 579.2275688,
                        "passed_time": 81.58134771,
                        "learn": [
                          0.7071347943,
                          0.6111036759
                        ],
                        "test": [
                          0.70021732,
                          0.6175299974
                        ]
                      },
                      {
                        "parameters": [
                          {
                            "auto_class_weights": "SqrtBalanced",
                            "grow_policy": "SymmetricTree",
                            "depth": 6,
                            "l2_leaf_reg": 0.5
                          }
                        ],
                        "iteration": 10,
                        "remaining_time": 578.2726145,
                        "passed_time": 90.87141084,
                        "learn": [
                          0.7081595583,
                          0.610260574
                        ],
                        "test": [
                          0.7041790629,
                          0.6163875474
                        ]
                      },
                      {
                        "parameters": [
                          {
                            "auto_class_weights": "SqrtBalanced",
                            "grow_policy": "SymmetricTree",
                            "depth": 6,
                            "l2_leaf_reg": 1
                          }
                        ],
                        "iteration": 11,
                        "remaining_time": 576.6977298,
                        "passed_time": 100.2952574,
                        "learn": [
                          0.7094433611,
                          0.6090428184
                        ],
                        "test": [
                          0.7026437404,
                          0.6157332083
                        ]
                      },
                      {
                        "parameters": [
                          {
                            "auto_class_weights": "Balanced",
                            "grow_policy": "SymmetricTree",
                            "depth": 8,
                            "l2_leaf_reg": 0.1
                          }
                        ],
                        "iteration": 12,
                        "remaining_time": 609.1280549,
                        "passed_time": 116.4509517,
                        "learn": [
                          0.7196491663,
                          0.6028202073
                        ],
                        "test": [
                          0.7033641137,
                          0.6141157828
                        ]
                      },
                      {
                        "parameters": [
                          {
                            "auto_class_weights": "Balanced",
                            "grow_policy": "SymmetricTree",
                            "depth": 8,
                            "l2_leaf_reg": 0.5
                          }
                        ],
                        "iteration": 13,
                        "remaining_time": 636.8024166,
                        "passed_time": 133.0631915,
                        "learn": [
                          0.7239003154,
                          0.5995365401
                        ],
                        "test": [
                          0.7037783674,
                          0.6112579829
                        ]
                      },
                      {
                        "parameters": [
                          {
                            "auto_class_weights": "Balanced",
                            "grow_policy": "SymmetricTree",
                            "depth": 8,
                            "l2_leaf_reg": 1
                          }
                        ],
                        "iteration": 14,
                        "remaining_time": 661.2170182,
                        "passed_time": 150.276595,
                        "learn": [
                          0.7243181923,
                          0.597369023
                        ],
                        "test": [
                          0.7056898511,
                          0.6103069155
                        ]
                      },
                      {
                        "parameters": [
                          {
                            "auto_class_weights": "SqrtBalanced",
                            "grow_policy": "SymmetricTree",
                            "depth": 8,
                            "l2_leaf_reg": 0.1
                          }
                        ],
                        "iteration": 15,
                        "remaining_time": 676.0278657,
                        "passed_time": 166.4068592,
                        "learn": [
                          0.7196491663,
                          0.6028202729
                        ],
                        "test": [
                          0.7033641137,
                          0.6141157828
                        ]
                      },
                      {
                        "parameters": [
                          {
                            "auto_class_weights": "SqrtBalanced",
                            "grow_policy": "SymmetricTree",
                            "depth": 8,
                            "l2_leaf_reg": 0.5
                          }
                        ],
                        "iteration": 16,
                        "remaining_time": 689.0133592,
                        "passed_time": 183.0191735,
                        "learn": [
                          0.7239003154,
                          0.5995364744
                        ],
                        "test": [
                          0.7037783674,
                          0.6112579829
                        ]
                      },
                      {
                        "parameters": [
                          {
                            "auto_class_weights": "SqrtBalanced",
                            "grow_policy": "SymmetricTree",
                            "depth": 8,
                            "l2_leaf_reg": 1
                          }
                        ],
                        "iteration": 17,
                        "remaining_time": 700.7856712,
                        "passed_time": 200.2244775,
                        "learn": [
                          0.7243181923,
                          0.597369023
                        ],
                        "test": [
                          0.7056898511,
                          0.6103068498
                        ]
                      },
                      {
                        "parameters": [
                          {
                            "auto_class_weights": "Balanced",
                            "grow_policy": "Depthwise",
                            "depth": 4,
                            "l2_leaf_reg": 0.1
                          }
                        ],
                        "iteration": 18,
                        "remaining_time": 662.5986408,
                        "passed_time": 203.0544222,
                        "learn": [
                          0.716830046,
                          0.5998958348
                        ],
                        "test": [
                          0.704873668,
                          0.608830367
                        ]
                      },
                      {
                        "parameters": [
                          {
                            "auto_class_weights": "Balanced",
                            "grow_policy": "Depthwise",
                            "depth": 4,
                            "l2_leaf_reg": 0.5
                          }
                        ],
                        "iteration": 19,
                        "remaining_time": 627.9925816,
                        "passed_time": 205.8992071,
                        "learn": [
                          0.7157033587,
                          0.5999090934
                        ],
                        "test": [
                          0.7031635792,
                          0.6088235366
                        ]
                      },
                      {
                        "parameters": [
                          {
                            "auto_class_weights": "Balanced",
                            "grow_policy": "Depthwise",
                            "depth": 4,
                            "l2_leaf_reg": 1
                          }
                        ],
                        "iteration": 20,
                        "remaining_time": 596.3805281,
                        "passed_time": 208.7331848,
                        "learn": [
                          0.7157033587,
                          0.5999197921
                        ],
                        "test": [
                          0.7031635792,
                          0.6088267547
                        ]
                      },
                      {
                        "parameters": [
                          {
                            "auto_class_weights": "SqrtBalanced",
                            "grow_policy": "Depthwise",
                            "depth": 4,
                            "l2_leaf_reg": 0.1
                          }
                        ],
                        "iteration": 21,
                        "remaining_time": 567.3825184,
                        "passed_time": 211.5663628,
                        "learn": [
                          0.7168355841,
                          0.5998995761
                        ],
                        "test": [
                          0.704873668,
                          0.6088312208
                        ]
                      },
                      {
                        "parameters": [
                          {
                            "auto_class_weights": "SqrtBalanced",
                            "grow_policy": "Depthwise",
                            "depth": 4,
                            "l2_leaf_reg": 0.5
                          }
                        ],
                        "iteration": 22,
                        "remaining_time": 540.6971166,
                        "passed_time": 214.4143738,
                        "learn": [
                          0.7157033587,
                          0.5999104061
                        ],
                        "test": [
                          0.7031635792,
                          0.6088228141
                        ]
                      },
                      {
                        "parameters": [
                          {
                            "auto_class_weights": "SqrtBalanced",
                            "grow_policy": "Depthwise",
                            "depth": 4,
                            "l2_leaf_reg": 1
                          }
                        ],
                        "iteration": 23,
                        "remaining_time": 516.1103291,
                        "passed_time": 217.3096123,
                        "learn": [
                          0.7157033587,
                          0.5999212361
                        ],
                        "test": [
                          0.7031635792,
                          0.6088278712
                        ]
                      },
                      {
                        "parameters": [
                          {
                            "auto_class_weights": "Balanced",
                            "grow_policy": "Depthwise",
                            "depth": 6,
                            "l2_leaf_reg": 0.1
                          }
                        ],
                        "iteration": 24,
                        "remaining_time": 494.8550663,
                        "passed_time": 220.9174403,
                        "learn": [
                          0.7664641926,
                          0.5462350209
                        ],
                        "test": [
                          0.7212584202,
                          0.5793254704
                        ]
                      },
                      {
                        "parameters": [
                          {
                            "auto_class_weights": "Balanced",
                            "grow_policy": "Depthwise",
                            "depth": 6,
                            "l2_leaf_reg": 0.5
                          }
                        ],
                        "iteration": 25,
                        "remaining_time": 475.0380223,
                        "passed_time": 224.5634287,
                        "learn": [
                          0.7648404932,
                          0.5466206686
                        ],
                        "test": [
                          0.7198645591,
                          0.5793806391
                        ]
                      },
                      {
                        "parameters": [
                          {
                            "auto_class_weights": "Balanced",
                            "grow_policy": "Depthwise",
                            "depth": 6,
                            "l2_leaf_reg": 1
                          }
                        ],
                        "iteration": 26,
                        "remaining_time": 456.3782032,
                        "passed_time": 228.1891016,
                        "learn": [
                          0.7654345677,
                          0.5473343678
                        ],
                        "test": [
                          0.7212805962,
                          0.5796432811
                        ]
                      },
                      {
                        "parameters": [
                          {
                            "auto_class_weights": "SqrtBalanced",
                            "grow_policy": "Depthwise",
                            "depth": 6,
                            "l2_leaf_reg": 0.1
                          }
                        ],
                        "iteration": 27,
                        "remaining_time": 438.750598,
                        "passed_time": 231.7927688,
                        "learn": [
                          0.7662456151,
                          0.546268955
                        ],
                        "test": [
                          0.7211050896,
                          0.5793063585
                        ]
                      },
                      {
                        "parameters": [
                          {
                            "auto_class_weights": "SqrtBalanced",
                            "grow_policy": "Depthwise",
                            "depth": 6,
                            "l2_leaf_reg": 0.5
                          }
                        ],
                        "iteration": 28,
                        "remaining_time": 422.1658387,
                        "passed_time": 235.4386408,
                        "learn": [
                          0.7648404932,
                          0.546621128
                        ],
                        "test": [
                          0.7200663839,
                          0.5793617898
                        ]
                      },
                      {
                        "parameters": [
                          {
                            "auto_class_weights": "SqrtBalanced",
                            "grow_policy": "Depthwise",
                            "depth": 6,
                            "l2_leaf_reg": 1
                          }
                        ],
                        "iteration": 29,
                        "remaining_time": 406.4073846,
                        "passed_time": 239.0631674,
                        "learn": [
                          0.7654345677,
                          0.5473343021
                        ],
                        "test": [
                          0.7212805962,
                          0.5796457111
                        ]
                      },
                      {
                        "parameters": [
                          {
                            "auto_class_weights": "Balanced",
                            "grow_policy": "Depthwise",
                            "depth": 8,
                            "l2_leaf_reg": 0.1
                          }
                        ],
                        "iteration": 30,
                        "remaining_time": 394.4003553,
                        "passed_time": 244.5282203,
                        "learn": [
                          0.8570884686,
                          0.4416514882
                        ],
                        "test": [
                          0.7248858997,
                          0.5491542159
                        ]
                      },
                      {
                        "parameters": [
                          {
                            "auto_class_weights": "Balanced",
                            "grow_policy": "Depthwise",
                            "depth": 8,
                            "l2_leaf_reg": 0.5
                          }
                        ],
                        "iteration": 31,
                        "remaining_time": 382.7869566,
                        "passed_time": 249.9833186,
                        "learn": [
                          0.8530381689,
                          0.4474864805
                        ],
                        "test": [
                          0.7227680391,
                          0.5499864738
                        ]
                      },
                      {
                        "parameters": [
                          {
                            "auto_class_weights": "Balanced",
                            "grow_policy": "Depthwise",
                            "depth": 8,
                            "l2_leaf_reg": 1
                          }
                        ],
                        "iteration": 32,
                        "remaining_time": 371.4649655,
                        "passed_time": 255.3821638,
                        "learn": [
                          0.8511801139,
                          0.4504517765
                        ],
                        "test": [
                          0.7244976867,
                          0.5503606353
                        ]
                      },
                      {
                        "parameters": [
                          {
                            "auto_class_weights": "SqrtBalanced",
                            "grow_policy": "Depthwise",
                            "depth": 8,
                            "l2_leaf_reg": 0.1
                          }
                        ],
                        "iteration": 33,
                        "remaining_time": 360.5119941,
                        "passed_time": 260.7959106,
                        "learn": [
                          0.8570884686,
                          0.441651521
                        ],
                        "test": [
                          0.7253140536,
                          0.5490782934
                        ]
                      },
                      {
                        "parameters": [
                          {
                            "auto_class_weights": "SqrtBalanced",
                            "grow_policy": "Depthwise",
                            "depth": 8,
                            "l2_leaf_reg": 0.5
                          }
                        ],
                        "iteration": 34,
                        "remaining_time": 349.8580047,
                        "passed_time": 266.1963079,
                        "learn": [
                          0.8530381689,
                          0.4474864805
                        ],
                        "test": [
                          0.7228286915,
                          0.5500664026
                        ]
                      },
                      {
                        "parameters": [
                          {
                            "auto_class_weights": "SqrtBalanced",
                            "grow_policy": "Depthwise",
                            "depth": 8,
                            "l2_leaf_reg": 1
                          }
                        ],
                        "iteration": 35,
                        "remaining_time": 339.4833355,
                        "passed_time": 271.5866684,
                        "learn": [
                          0.8511801139,
                          0.4504517765
                        ],
                        "test": [
                          0.7244976867,
                          0.5504096959
                        ]
                      },
                      {
                        "parameters": [
                          {
                            "auto_class_weights": "Balanced",
                            "grow_policy": "Lossguide",
                            "depth": 4,
                            "l2_leaf_reg": 0.1
                          }
                        ],
                        "iteration": 36,
                        "remaining_time": 326.682767,
                        "passed_time": 274.7105086,
                        "learn": [
                          0.7179125882,
                          0.5998437193
                        ],
                        "test": [
                          0.7056817826,
                          0.6085865086
                        ]
                      },
                      {
                        "parameters": [
                          {
                            "auto_class_weights": "Balanced",
                            "grow_policy": "Lossguide",
                            "depth": 4,
                            "l2_leaf_reg": 0.5
                          }
                        ],
                        "iteration": 37,
                        "remaining_time": 314.3836071,
                        "passed_time": 277.8273737,
                        "learn": [
                          0.7188318421,
                          0.5997999397
                        ],
                        "test": [
                          0.7059453569,
                          0.6083683298
                        ]
                      },
                      {
                        "parameters": [
                          {
                            "auto_class_weights": "Balanced",
                            "grow_policy": "Lossguide",
                            "depth": 4,
                            "l2_leaf_reg": 1
                          }
                        ],
                        "iteration": 38,
                        "remaining_time": 302.5707719,
                        "passed_time": 280.9585739,
                        "learn": [
                          0.7189134403,
                          0.5999222863
                        ],
                        "test": [
                          0.7049049645,
                          0.6086044384
                        ]
                      },
                      {
                        "parameters": [
                          {
                            "auto_class_weights": "SqrtBalanced",
                            "grow_policy": "Lossguide",
                            "depth": 4,
                            "l2_leaf_reg": 0.1
                          }
                        ],
                        "iteration": 39,
                        "remaining_time": 291.1551936,
                        "passed_time": 284.0538474,
                        "learn": [
                          0.7179257236,
                          0.5998421441
                        ],
                        "test": [
                          0.7056708428,
                          0.6085853264
                        ]
                      },
                      {
                        "parameters": [
                          {
                            "auto_class_weights": "SqrtBalanced",
                            "grow_policy": "Lossguide",
                            "depth": 4,
                            "l2_leaf_reg": 0.5
                          }
                        ],
                        "iteration": 40,
                        "remaining_time": 280.2059507,
                        "passed_time": 287.2110995,
                        "learn": [
                          0.7188318421,
                          0.5997990208
                        ],
                        "test": [
                          0.7059344189,
                          0.6083709569
                        ]
                      },
                      {
                        "parameters": [
                          {
                            "auto_class_weights": "SqrtBalanced",
                            "grow_policy": "Lossguide",
                            "depth": 4,
                            "l2_leaf_reg": 1
                          }
                        ],
                        "iteration": 41,
                        "remaining_time": 269.5510202,
                        "passed_time": 290.2857141,
                        "learn": [
                          0.7189106753,
                          0.5999205141
                        ],
                        "test": [
                          0.7049158856,
                          0.6086006291
                        ]
                      },
                      {
                        "parameters": [
                          {
                            "auto_class_weights": "Balanced",
                            "grow_policy": "Lossguide",
                            "depth": 6,
                            "l2_leaf_reg": 0.1
                          }
                        ],
                        "iteration": 42,
                        "remaining_time": 260.4184937,
                        "passed_time": 294.6840849,
                        "learn": [
                          0.7403368202,
                          0.5742660027
                        ],
                        "test": [
                          0.7178000486,
                          0.5913532132
                        ]
                      },
                      {
                        "parameters": [
                          {
                            "auto_class_weights": "Balanced",
                            "grow_policy": "Lossguide",
                            "depth": 6,
                            "l2_leaf_reg": 0.5
                          }
                        ],
                        "iteration": 43,
                        "remaining_time": 251.2660399,
                        "passed_time": 298.8028582,
                        "learn": [
                          0.7409814851,
                          0.574191177
                        ],
                        "test": [
                          0.7178514098,
                          0.5909478552
                        ]
                      },
                      {
                        "parameters": [
                          {
                            "auto_class_weights": "Balanced",
                            "grow_policy": "Lossguide",
                            "depth": 6,
                            "l2_leaf_reg": 1
                          }
                        ],
                        "iteration": 44,
                        "remaining_time": 242.4050014,
                        "passed_time": 303.0062518,
                        "learn": [
                          0.7410359505,
                          0.5741993816
                        ],
                        "test": [
                          0.7179990161,
                          0.5908575495
                        ]
                      },
                      {
                        "parameters": [
                          {
                            "auto_class_weights": "SqrtBalanced",
                            "grow_policy": "Lossguide",
                            "depth": 6,
                            "l2_leaf_reg": 0.1
                          }
                        ],
                        "iteration": 45,
                        "remaining_time": 233.7121464,
                        "passed_time": 307.1645352,
                        "learn": [
                          0.7403368202,
                          0.5742663965
                        ],
                        "test": [
                          0.7178000486,
                          0.591352425
                        ]
                      },
                      {
                        "parameters": [
                          {
                            "auto_class_weights": "SqrtBalanced",
                            "grow_policy": "Lossguide",
                            "depth": 6,
                            "l2_leaf_reg": 0.5
                          }
                        ],
                        "iteration": 46,
                        "remaining_time": 225.194388,
                        "passed_time": 311.2981246,
                        "learn": [
                          0.7409814851,
                          0.5741913083
                        ],
                        "test": [
                          0.7178514098,
                          0.5909496285
                        ]
                      },
                      {
                        "parameters": [
                          {
                            "auto_class_weights": "SqrtBalanced",
                            "grow_policy": "Lossguide",
                            "depth": 6,
                            "l2_leaf_reg": 1
                          }
                        ],
                        "iteration": 47,
                        "remaining_time": 216.8769337,
                        "passed_time": 315.4573581,
                        "learn": [
                          0.7410388247,
                          0.5741986596
                        ],
                        "test": [
                          0.7179990161,
                          0.5908582719
                        ]
                      },
                      {
                        "parameters": [
                          {
                            "auto_class_weights": "Balanced",
                            "grow_policy": "Lossguide",
                            "depth": 8,
                            "l2_leaf_reg": 0.1
                          }
                        ],
                        "iteration": 48,
                        "remaining_time": 208.8865826,
                        "passed_time": 319.8575796,
                        "learn": [
                          0.7407606785,
                          0.5727194739
                        ],
                        "test": [
                          0.7184697974,
                          0.5895834172
                        ]
                      },
                      {
                        "parameters": [
                          {
                            "auto_class_weights": "Balanced",
                            "grow_policy": "Lossguide",
                            "depth": 8,
                            "l2_leaf_reg": 0.5
                          }
                        ],
                        "iteration": 49,
                        "remaining_time": 200.9951071,
                        "passed_time": 324.1856566,
                        "learn": [
                          0.7402009644,
                          0.5730522513
                        ],
                        "test": [
                          0.7179873584,
                          0.5900155713
                        ]
                      },
                      {
                        "parameters": [
                          {
                            "auto_class_weights": "Balanced",
                            "grow_policy": "Lossguide",
                            "depth": 8,
                            "l2_leaf_reg": 1
                          }
                        ],
                        "iteration": 50,
                        "remaining_time": 193.2270049,
                        "passed_time": 328.4859083,
                        "learn": [
                          0.7401397155,
                          0.5730873669
                        ],
                        "test": [
                          0.716920806,
                          0.5901584843
                        ]
                      },
                      {
                        "parameters": [
                          {
                            "auto_class_weights": "SqrtBalanced",
                            "grow_policy": "Lossguide",
                            "depth": 8,
                            "l2_leaf_reg": 0.1
                          }
                        ],
                        "iteration": 51,
                        "remaining_time": 185.6039653,
                        "passed_time": 332.8071102,
                        "learn": [
                          0.7400860992,
                          0.5727355549
                        ],
                        "test": [
                          0.7165265154,
                          0.5898737749
                        ]
                      },
                      {
                        "parameters": [
                          {
                            "auto_class_weights": "SqrtBalanced",
                            "grow_policy": "Lossguide",
                            "depth": 8,
                            "l2_leaf_reg": 0.5
                          }
                        ],
                        "iteration": 52,
                        "remaining_time": 178.1267388,
                        "passed_time": 337.1684698,
                        "learn": [
                          0.7402067237,
                          0.5730529077
                        ],
                        "test": [
                          0.7179873584,
                          0.5900161624
                        ]
                      },
                      {
                        "parameters": [
                          {
                            "auto_class_weights": "SqrtBalanced",
                            "grow_policy": "Lossguide",
                            "depth": 8,
                            "l2_leaf_reg": 1
                          }
                        ],
                        "iteration": 53,
                        "remaining_time": 170.8248445,
                        "passed_time": 341.649689,
                        "learn": [
                          0.7397385739,
                          0.5730542204
                        ],
                        "test": [
                          0.7171772925,
                          0.5900464395
                        ]
                      }
                    ]
                  },
                  "total_iterations": 81,
                  "passed_iterations": 53
                },
                "path": "catboost_info",
                "name": "catboost_info"
              }
            },
            "_view_module": "catboost-widget",
            "_model_module_version": "^1.0.0",
            "_view_count": null,
            "_view_module_version": "^1.0.0",
            "layout": "IPY_MODEL_bd191fa3c7974ff497103cbc6395d8aa",
            "_model_module": "catboost-widget"
          }
        },
        "3a58d326d64d41ef89a952f0a294430b": {
          "model_module": "catboost-widget",
          "model_name": "CatboostWidgetModel",
          "model_module_version": "^1.0.0",
          "state": {
            "_view_name": "CatboostWidgetView",
            "_dom_classes": [],
            "_model_name": "CatboostWidgetModel",
            "data": {
              "catboost_info": {
                "content": {
                  "data": {
                    "meta": {
                      "name": "experiment",
                      "parameters": "parameters",
                      "test_metrics": [
                        {
                          "best_value": "Max",
                          "name": "Accuracy"
                        },
                        {
                          "best_value": "Min",
                          "name": "MultiClass"
                        }
                      ],
                      "learn_sets": [
                        "learn"
                      ],
                      "launch_mode": "Train",
                      "learn_metrics": [
                        {
                          "best_value": "Max",
                          "name": "Accuracy"
                        },
                        {
                          "best_value": "Min",
                          "name": "MultiClass"
                        }
                      ],
                      "iteration_count": 81,
                      "test_sets": [
                        "test"
                      ]
                    },
                    "iterations": [
                      {
                        "parameters": [
                          {
                            "auto_class_weights": "Balanced",
                            "grow_policy": "SymmetricTree",
                            "depth": 4,
                            "l2_leaf_reg": 0.1
                          }
                        ],
                        "iteration": 0,
                        "remaining_time": 230.7241602,
                        "passed_time": 2.884052002,
                        "learn": [
                          0.5178150316,
                          1.785641581
                        ],
                        "test": [
                          0.2832482201,
                          2.281585699
                        ]
                      },
                      {
                        "parameters": [
                          {
                            "auto_class_weights": "Balanced",
                            "grow_policy": "SymmetricTree",
                            "depth": 4,
                            "l2_leaf_reg": 0.5
                          }
                        ],
                        "iteration": 1,
                        "remaining_time": 203.8209104,
                        "passed_time": 5.160023049,
                        "learn": [
                          0.5139042607,
                          1.789476965
                        ],
                        "test": [
                          0.2846846713,
                          2.279998661
                        ]
                      },
                      {
                        "parameters": [
                          {
                            "auto_class_weights": "Balanced",
                            "grow_policy": "SymmetricTree",
                            "depth": 4,
                            "l2_leaf_reg": 1
                          }
                        ],
                        "iteration": 2,
                        "remaining_time": 193.1831958,
                        "passed_time": 7.430122915,
                        "learn": [
                          0.5095759071,
                          1.787736703
                        ],
                        "test": [
                          0.2709797236,
                          2.257222456
                        ]
                      },
                      {
                        "parameters": [
                          {
                            "auto_class_weights": "SqrtBalanced",
                            "grow_policy": "SymmetricTree",
                            "depth": 4,
                            "l2_leaf_reg": 0.1
                          }
                        ],
                        "iteration": 3,
                        "remaining_time": 186.7875847,
                        "passed_time": 9.703251151,
                        "learn": [
                          0.5120682607,
                          1.782165284
                        ],
                        "test": [
                          0.2787253643,
                          2.255449673
                        ]
                      },
                      {
                        "parameters": [
                          {
                            "auto_class_weights": "SqrtBalanced",
                            "grow_policy": "SymmetricTree",
                            "depth": 4,
                            "l2_leaf_reg": 0.5
                          }
                        ],
                        "iteration": 4,
                        "remaining_time": 182.056019,
                        "passed_time": 11.97736967,
                        "learn": [
                          0.512782249,
                          1.789061767
                        ],
                        "test": [
                          0.2776328864,
                          2.282461917
                        ]
                      },
                      {
                        "parameters": [
                          {
                            "auto_class_weights": "SqrtBalanced",
                            "grow_policy": "SymmetricTree",
                            "depth": 4,
                            "l2_leaf_reg": 1
                          }
                        ],
                        "iteration": 5,
                        "remaining_time": 178.5419311,
                        "passed_time": 14.28335449,
                        "learn": [
                          0.5090918307,
                          1.78802031
                        ],
                        "test": [
                          0.26440732,
                          2.258837717
                        ]
                      },
                      {
                        "parameters": [
                          {
                            "auto_class_weights": "Balanced",
                            "grow_policy": "SymmetricTree",
                            "depth": 6,
                            "l2_leaf_reg": 0.1
                          }
                        ],
                        "iteration": 6,
                        "remaining_time": 185.5483679,
                        "passed_time": 17.55187264,
                        "learn": [
                          0.6428960939,
                          1.462869277
                        ],
                        "test": [
                          0.3128990217,
                          2.207306895
                        ]
                      },
                      {
                        "parameters": [
                          {
                            "auto_class_weights": "Balanced",
                            "grow_policy": "SymmetricTree",
                            "depth": 6,
                            "l2_leaf_reg": 0.5
                          }
                        ],
                        "iteration": 7,
                        "remaining_time": 189.2961691,
                        "passed_time": 20.74478565,
                        "learn": [
                          0.6368760397,
                          1.477042459
                        ],
                        "test": [
                          0.3084718262,
                          2.201442686
                        ]
                      },
                      {
                        "parameters": [
                          {
                            "auto_class_weights": "Balanced",
                            "grow_policy": "SymmetricTree",
                            "depth": 6,
                            "l2_leaf_reg": 1
                          }
                        ],
                        "iteration": 8,
                        "remaining_time": 191.5807213,
                        "passed_time": 23.94759016,
                        "learn": [
                          0.6304323874,
                          1.487008259
                        ],
                        "test": [
                          0.3094019237,
                          2.188905436
                        ]
                      },
                      {
                        "parameters": [
                          {
                            "auto_class_weights": "SqrtBalanced",
                            "grow_policy": "SymmetricTree",
                            "depth": 6,
                            "l2_leaf_reg": 0.1
                          }
                        ],
                        "iteration": 9,
                        "remaining_time": 193.1134044,
                        "passed_time": 27.19907105,
                        "learn": [
                          0.6454926427,
                          1.462194185
                        ],
                        "test": [
                          0.3086592844,
                          2.210485127
                        ]
                      },
                      {
                        "parameters": [
                          {
                            "auto_class_weights": "SqrtBalanced",
                            "grow_policy": "SymmetricTree",
                            "depth": 6,
                            "l2_leaf_reg": 0.5
                          }
                        ],
                        "iteration": 10,
                        "remaining_time": 193.4685684,
                        "passed_time": 30.40220361,
                        "learn": [
                          0.6368760397,
                          1.477042694
                        ],
                        "test": [
                          0.3084718262,
                          2.201442905
                        ]
                      },
                      {
                        "parameters": [
                          {
                            "auto_class_weights": "SqrtBalanced",
                            "grow_policy": "SymmetricTree",
                            "depth": 6,
                            "l2_leaf_reg": 1
                          }
                        ],
                        "iteration": 11,
                        "remaining_time": 193.4756548,
                        "passed_time": 33.64793997,
                        "learn": [
                          0.6330166571,
                          1.488243169
                        ],
                        "test": [
                          0.3113793276,
                          2.175217397
                        ]
                      },
                      {
                        "parameters": [
                          {
                            "auto_class_weights": "Balanced",
                            "grow_policy": "SymmetricTree",
                            "depth": 8,
                            "l2_leaf_reg": 0.1
                          }
                        ],
                        "iteration": 12,
                        "remaining_time": 206.439644,
                        "passed_time": 39.46640252,
                        "learn": [
                          0.7746659531,
                          1.104749065
                        ],
                        "test": [
                          0.3327318448,
                          2.1799411
                        ]
                      },
                      {
                        "parameters": [
                          {
                            "auto_class_weights": "Balanced",
                            "grow_policy": "SymmetricTree",
                            "depth": 8,
                            "l2_leaf_reg": 0.5
                          }
                        ],
                        "iteration": 13,
                        "remaining_time": 216.6553447,
                        "passed_time": 45.27126606,
                        "learn": [
                          0.7592937601,
                          1.136296923
                        ],
                        "test": [
                          0.3300809315,
                          2.205373745
                        ]
                      },
                      {
                        "parameters": [
                          {
                            "auto_class_weights": "Balanced",
                            "grow_policy": "SymmetricTree",
                            "depth": 8,
                            "l2_leaf_reg": 1
                          }
                        ],
                        "iteration": 14,
                        "remaining_time": 224.6423528,
                        "passed_time": 51.05508018,
                        "learn": [
                          0.753034808,
                          1.158499842
                        ],
                        "test": [
                          0.3297203992,
                          2.196561461
                        ]
                      },
                      {
                        "parameters": [
                          {
                            "auto_class_weights": "SqrtBalanced",
                            "grow_policy": "SymmetricTree",
                            "depth": 8,
                            "l2_leaf_reg": 0.1
                          }
                        ],
                        "iteration": 15,
                        "remaining_time": 230.7473533,
                        "passed_time": 56.7993485,
                        "learn": [
                          0.7746359177,
                          1.102214563
                        ],
                        "test": [
                          0.3327318448,
                          2.1799411
                        ]
                      },
                      {
                        "parameters": [
                          {
                            "auto_class_weights": "SqrtBalanced",
                            "grow_policy": "SymmetricTree",
                            "depth": 8,
                            "l2_leaf_reg": 0.5
                          }
                        ],
                        "iteration": 16,
                        "remaining_time": 235.7177757,
                        "passed_time": 62.61253416,
                        "learn": [
                          0.7610225458,
                          1.134929365
                        ],
                        "test": [
                          0.3267615972,
                          2.206534816
                        ]
                      },
                      {
                        "parameters": [
                          {
                            "auto_class_weights": "SqrtBalanced",
                            "grow_policy": "SymmetricTree",
                            "depth": 8,
                            "l2_leaf_reg": 1
                          }
                        ],
                        "iteration": 17,
                        "remaining_time": 239.4976052,
                        "passed_time": 68.42788719,
                        "learn": [
                          0.7496895363,
                          1.160533453
                        ],
                        "test": [
                          0.3280488401,
                          2.199173926
                        ]
                      },
                      {
                        "parameters": [
                          {
                            "auto_class_weights": "Balanced",
                            "grow_policy": "Depthwise",
                            "depth": 4,
                            "l2_leaf_reg": 0.1
                          }
                        ],
                        "iteration": 18,
                        "remaining_time": 230.584116,
                        "passed_time": 70.66287426,
                        "learn": [
                          0.5367258368,
                          1.717880555
                        ],
                        "test": [
                          0.2863587582,
                          2.26677597
                        ]
                      },
                      {
                        "parameters": [
                          {
                            "auto_class_weights": "Balanced",
                            "grow_policy": "Depthwise",
                            "depth": 4,
                            "l2_leaf_reg": 0.5
                          }
                        ],
                        "iteration": 19,
                        "remaining_time": 222.4118396,
                        "passed_time": 72.92191463,
                        "learn": [
                          0.5323239213,
                          1.72220826
                        ],
                        "test": [
                          0.2860267268,
                          2.265597834
                        ]
                      },
                      {
                        "parameters": [
                          {
                            "auto_class_weights": "Balanced",
                            "grow_policy": "Depthwise",
                            "depth": 4,
                            "l2_leaf_reg": 1
                          }
                        ],
                        "iteration": 20,
                        "remaining_time": 214.812315,
                        "passed_time": 75.18431027,
                        "learn": [
                          0.5302442805,
                          1.725762502
                        ],
                        "test": [
                          0.2854420182,
                          2.274480783
                        ]
                      },
                      {
                        "parameters": [
                          {
                            "auto_class_weights": "SqrtBalanced",
                            "grow_policy": "Depthwise",
                            "depth": 4,
                            "l2_leaf_reg": 0.1
                          }
                        ],
                        "iteration": 21,
                        "remaining_time": 207.7575525,
                        "passed_time": 77.46891788,
                        "learn": [
                          0.5367258368,
                          1.717880438
                        ],
                        "test": [
                          0.2863215244,
                          2.266660453
                        ]
                      },
                      {
                        "parameters": [
                          {
                            "auto_class_weights": "SqrtBalanced",
                            "grow_policy": "Depthwise",
                            "depth": 4,
                            "l2_leaf_reg": 0.5
                          }
                        ],
                        "iteration": 22,
                        "remaining_time": 201.0356691,
                        "passed_time": 79.7210412,
                        "learn": [
                          0.5323239213,
                          1.722208377
                        ],
                        "test": [
                          0.2860267268,
                          2.265623431
                        ]
                      },
                      {
                        "parameters": [
                          {
                            "auto_class_weights": "SqrtBalanced",
                            "grow_policy": "Depthwise",
                            "depth": 4,
                            "l2_leaf_reg": 1
                          }
                        ],
                        "iteration": 23,
                        "remaining_time": 194.7183973,
                        "passed_time": 81.98669362,
                        "learn": [
                          0.5302442805,
                          1.725762619
                        ],
                        "test": [
                          0.2859484708,
                          2.274453654
                        ]
                      },
                      {
                        "parameters": [
                          {
                            "auto_class_weights": "Balanced",
                            "grow_policy": "Depthwise",
                            "depth": 6,
                            "l2_leaf_reg": 0.1
                          }
                        ],
                        "iteration": 24,
                        "remaining_time": 190.5771099,
                        "passed_time": 85.07906692,
                        "learn": [
                          0.6756383932,
                          1.387120305
                        ],
                        "test": [
                          0.3248166831,
                          2.218032419
                        ]
                      },
                      {
                        "parameters": [
                          {
                            "auto_class_weights": "Balanced",
                            "grow_policy": "Depthwise",
                            "depth": 6,
                            "l2_leaf_reg": 0.5
                          }
                        ],
                        "iteration": 25,
                        "remaining_time": 186.593579,
                        "passed_time": 88.20787373,
                        "learn": [
                          0.6654403052,
                          1.39997394
                        ],
                        "test": [
                          0.3134735729,
                          2.2263892
                        ]
                      },
                      {
                        "parameters": [
                          {
                            "auto_class_weights": "Balanced",
                            "grow_policy": "Depthwise",
                            "depth": 6,
                            "l2_leaf_reg": 1
                          }
                        ],
                        "iteration": 26,
                        "remaining_time": 182.7098498,
                        "passed_time": 91.3549249,
                        "learn": [
                          0.6611608351,
                          1.413957425
                        ],
                        "test": [
                          0.320439694,
                          2.221997388
                        ]
                      },
                      {
                        "parameters": [
                          {
                            "auto_class_weights": "SqrtBalanced",
                            "grow_policy": "Depthwise",
                            "depth": 6,
                            "l2_leaf_reg": 0.1
                          }
                        ],
                        "iteration": 27,
                        "remaining_time": 178.8350633,
                        "passed_time": 94.47890137,
                        "learn": [
                          0.6756383932,
                          1.387120305
                        ],
                        "test": [
                          0.3248166831,
                          2.218232166
                        ]
                      },
                      {
                        "parameters": [
                          {
                            "auto_class_weights": "SqrtBalanced",
                            "grow_policy": "Depthwise",
                            "depth": 6,
                            "l2_leaf_reg": 0.5
                          }
                        ],
                        "iteration": 28,
                        "remaining_time": 174.988091,
                        "passed_time": 97.58951228,
                        "learn": [
                          0.6654403052,
                          1.399974057
                        ],
                        "test": [
                          0.3146602779,
                          2.226293155
                        ]
                      },
                      {
                        "parameters": [
                          {
                            "auto_class_weights": "SqrtBalanced",
                            "grow_policy": "Depthwise",
                            "depth": 6,
                            "l2_leaf_reg": 1
                          }
                        ],
                        "iteration": 29,
                        "remaining_time": 171.1566317,
                        "passed_time": 100.6803716,
                        "learn": [
                          0.6611608351,
                          1.41395719
                        ],
                        "test": [
                          0.3186392829,
                          2.222025392
                        ]
                      },
                      {
                        "parameters": [
                          {
                            "auto_class_weights": "Balanced",
                            "grow_policy": "Depthwise",
                            "depth": 8,
                            "l2_leaf_reg": 0.1
                          }
                        ],
                        "iteration": 30,
                        "remaining_time": 170.5071063,
                        "passed_time": 105.7144059,
                        "learn": [
                          0.7935497185,
                          1.062597174
                        ],
                        "test": [
                          0.3385533121,
                          2.205057169
                        ]
                      },
                      {
                        "parameters": [
                          {
                            "auto_class_weights": "Balanced",
                            "grow_policy": "Depthwise",
                            "depth": 8,
                            "l2_leaf_reg": 0.5
                          }
                        ],
                        "iteration": 31,
                        "remaining_time": 169.5520891,
                        "passed_time": 110.7278949,
                        "learn": [
                          0.7757073559,
                          1.09354859
                        ],
                        "test": [
                          0.3279862509,
                          2.208560291
                        ]
                      },
                      {
                        "parameters": [
                          {
                            "auto_class_weights": "Balanced",
                            "grow_policy": "Depthwise",
                            "depth": 8,
                            "l2_leaf_reg": 1
                          }
                        ],
                        "iteration": 32,
                        "remaining_time": 168.3517792,
                        "passed_time": 115.7418482,
                        "learn": [
                          0.763602859,
                          1.120676947
                        ],
                        "test": [
                          0.327616787,
                          2.211691705
                        ]
                      },
                      {
                        "parameters": [
                          {
                            "auto_class_weights": "SqrtBalanced",
                            "grow_policy": "Depthwise",
                            "depth": 8,
                            "l2_leaf_reg": 0.1
                          }
                        ],
                        "iteration": 33,
                        "remaining_time": 166.9966063,
                        "passed_time": 120.8060556,
                        "learn": [
                          0.7935497185,
                          1.062597174
                        ],
                        "test": [
                          0.3352074831,
                          2.204266275
                        ]
                      },
                      {
                        "parameters": [
                          {
                            "auto_class_weights": "SqrtBalanced",
                            "grow_policy": "Depthwise",
                            "depth": 8,
                            "l2_leaf_reg": 0.5
                          }
                        ],
                        "iteration": 34,
                        "remaining_time": 165.4535829,
                        "passed_time": 125.8885957,
                        "learn": [
                          0.7757073559,
                          1.093548707
                        ],
                        "test": [
                          0.3278832237,
                          2.208775353
                        ]
                      },
                      {
                        "parameters": [
                          {
                            "auto_class_weights": "SqrtBalanced",
                            "grow_policy": "Depthwise",
                            "depth": 8,
                            "l2_leaf_reg": 1
                          }
                        ],
                        "iteration": 35,
                        "remaining_time": 163.6628398,
                        "passed_time": 130.9302718,
                        "learn": [
                          0.763602859,
                          1.120676947
                        ],
                        "test": [
                          0.3278126198,
                          2.211792782
                        ]
                      },
                      {
                        "parameters": [
                          {
                            "auto_class_weights": "Balanced",
                            "grow_policy": "Lossguide",
                            "depth": 4,
                            "l2_leaf_reg": 0.1
                          }
                        ],
                        "iteration": 36,
                        "remaining_time": 158.7246431,
                        "passed_time": 133.4729953,
                        "learn": [
                          0.5367186929,
                          1.717927745
                        ],
                        "test": [
                          0.2862935663,
                          2.267054259
                        ]
                      },
                      {
                        "parameters": [
                          {
                            "auto_class_weights": "Balanced",
                            "grow_policy": "Lossguide",
                            "depth": 4,
                            "l2_leaf_reg": 0.5
                          }
                        ],
                        "iteration": 37,
                        "remaining_time": 153.9185677,
                        "passed_time": 136.0210599,
                        "learn": [
                          0.5335627811,
                          1.721380447
                        ],
                        "test": [
                          0.2873607598,
                          2.265676814
                        ]
                      },
                      {
                        "parameters": [
                          {
                            "auto_class_weights": "Balanced",
                            "grow_policy": "Lossguide",
                            "depth": 4,
                            "l2_leaf_reg": 1
                          }
                        ],
                        "iteration": 38,
                        "remaining_time": 149.2243521,
                        "passed_time": 138.5654698,
                        "learn": [
                          0.5311396048,
                          1.72265926
                        ],
                        "test": [
                          0.2850577306,
                          2.271004133
                        ]
                      },
                      {
                        "parameters": [
                          {
                            "auto_class_weights": "SqrtBalanced",
                            "grow_policy": "Lossguide",
                            "depth": 4,
                            "l2_leaf_reg": 0.1
                          }
                        ],
                        "iteration": 39,
                        "remaining_time": 144.6645143,
                        "passed_time": 141.1361115,
                        "learn": [
                          0.5367186929,
                          1.717927627
                        ],
                        "test": [
                          0.2862935663,
                          2.267054259
                        ]
                      },
                      {
                        "parameters": [
                          {
                            "auto_class_weights": "SqrtBalanced",
                            "grow_policy": "Lossguide",
                            "depth": 4,
                            "l2_leaf_reg": 0.5
                          }
                        ],
                        "iteration": 40,
                        "remaining_time": 140.1915349,
                        "passed_time": 143.6963233,
                        "learn": [
                          0.5335627811,
                          1.721380212
                        ],
                        "test": [
                          0.2873607598,
                          2.265676814
                        ]
                      },
                      {
                        "parameters": [
                          {
                            "auto_class_weights": "SqrtBalanced",
                            "grow_policy": "Lossguide",
                            "depth": 4,
                            "l2_leaf_reg": 1
                          }
                        ],
                        "iteration": 41,
                        "remaining_time": 135.8139099,
                        "passed_time": 146.2611338,
                        "learn": [
                          0.5311396048,
                          1.72265926
                        ],
                        "test": [
                          0.2850577306,
                          2.271004133
                        ]
                      },
                      {
                        "parameters": [
                          {
                            "auto_class_weights": "Balanced",
                            "grow_policy": "Lossguide",
                            "depth": 6,
                            "l2_leaf_reg": 0.1
                          }
                        ],
                        "iteration": 42,
                        "remaining_time": 132.6076317,
                        "passed_time": 150.0560043,
                        "learn": [
                          0.6337278094,
                          1.452900661
                        ],
                        "test": [
                          0.3073473979,
                          2.21746315
                        ]
                      },
                      {
                        "parameters": [
                          {
                            "auto_class_weights": "Balanced",
                            "grow_policy": "Lossguide",
                            "depth": 6,
                            "l2_leaf_reg": 0.5
                          }
                        ],
                        "iteration": 43,
                        "remaining_time": 129.3106402,
                        "passed_time": 153.7748154,
                        "learn": [
                          0.62931586,
                          1.458734792
                        ],
                        "test": [
                          0.3171381374,
                          2.21855618
                        ]
                      },
                      {
                        "parameters": [
                          {
                            "auto_class_weights": "Balanced",
                            "grow_policy": "Lossguide",
                            "depth": 6,
                            "l2_leaf_reg": 1
                          }
                        ],
                        "iteration": 44,
                        "remaining_time": 125.9929664,
                        "passed_time": 157.491208,
                        "learn": [
                          0.6295591651,
                          1.465358467
                        ],
                        "test": [
                          0.317721193,
                          2.228966441
                        ]
                      },
                      {
                        "parameters": [
                          {
                            "auto_class_weights": "SqrtBalanced",
                            "grow_policy": "Lossguide",
                            "depth": 6,
                            "l2_leaf_reg": 0.1
                          }
                        ],
                        "iteration": 45,
                        "remaining_time": 122.6386488,
                        "passed_time": 161.1822241,
                        "learn": [
                          0.6337278094,
                          1.452900778
                        ],
                        "test": [
                          0.3073473979,
                          2.21746315
                        ]
                      },
                      {
                        "parameters": [
                          {
                            "auto_class_weights": "SqrtBalanced",
                            "grow_policy": "Lossguide",
                            "depth": 6,
                            "l2_leaf_reg": 0.5
                          }
                        ],
                        "iteration": 46,
                        "remaining_time": 119.2621565,
                        "passed_time": 164.8623929,
                        "learn": [
                          0.62931586,
                          1.458734909
                        ],
                        "test": [
                          0.3171381374,
                          2.21855618
                        ]
                      },
                      {
                        "parameters": [
                          {
                            "auto_class_weights": "SqrtBalanced",
                            "grow_policy": "Lossguide",
                            "depth": 6,
                            "l2_leaf_reg": 1
                          }
                        ],
                        "iteration": 47,
                        "remaining_time": 115.8545158,
                        "passed_time": 168.5156594,
                        "learn": [
                          0.6295591651,
                          1.46535835
                        ],
                        "test": [
                          0.317721193,
                          2.22896666
                        ]
                      },
                      {
                        "parameters": [
                          {
                            "auto_class_weights": "Balanced",
                            "grow_policy": "Lossguide",
                            "depth": 8,
                            "l2_leaf_reg": 0.1
                          }
                        ],
                        "iteration": 48,
                        "remaining_time": 112.5924243,
                        "passed_time": 172.4071497,
                        "learn": [
                          0.6339878886,
                          1.392615305
                        ],
                        "test": [
                          0.3158535842,
                          2.236196062
                        ]
                      },
                      {
                        "parameters": [
                          {
                            "auto_class_weights": "Balanced",
                            "grow_policy": "Lossguide",
                            "depth": 8,
                            "l2_leaf_reg": 0.5
                          }
                        ],
                        "iteration": 49,
                        "remaining_time": 109.2952861,
                        "passed_time": 176.2827195,
                        "learn": [
                          0.630942517,
                          1.396531333
                        ],
                        "test": [
                          0.3158900534,
                          2.239831985
                        ]
                      },
                      {
                        "parameters": [
                          {
                            "auto_class_weights": "Balanced",
                            "grow_policy": "Lossguide",
                            "depth": 8,
                            "l2_leaf_reg": 1
                          }
                        ],
                        "iteration": 50,
                        "remaining_time": 105.8693412,
                        "passed_time": 179.97788,
                        "learn": [
                          0.6292036302,
                          1.402952047
                        ],
                        "test": [
                          0.3120103145,
                          2.248649957
                        ]
                      },
                      {
                        "parameters": [
                          {
                            "auto_class_weights": "SqrtBalanced",
                            "grow_policy": "Lossguide",
                            "depth": 8,
                            "l2_leaf_reg": 0.1
                          }
                        ],
                        "iteration": 51,
                        "remaining_time": 102.4791673,
                        "passed_time": 183.7557482,
                        "learn": [
                          0.6339878886,
                          1.392615187
                        ],
                        "test": [
                          0.3158535842,
                          2.236196062
                        ]
                      },
                      {
                        "parameters": [
                          {
                            "auto_class_weights": "SqrtBalanced",
                            "grow_policy": "Lossguide",
                            "depth": 8,
                            "l2_leaf_reg": 0.5
                          }
                        ],
                        "iteration": 52,
                        "remaining_time": 99.05034426,
                        "passed_time": 187.4881516,
                        "learn": [
                          0.630942517,
                          1.396531333
                        ],
                        "test": [
                          0.3158900534,
                          2.239831985
                        ]
                      },
                      {
                        "parameters": [
                          {
                            "auto_class_weights": "SqrtBalanced",
                            "grow_policy": "Lossguide",
                            "depth": 8,
                            "l2_leaf_reg": 1
                          }
                        ],
                        "iteration": 53,
                        "remaining_time": 95.69069489,
                        "passed_time": 191.3813898,
                        "learn": [
                          0.6292036302,
                          1.402952164
                        ],
                        "test": [
                          0.3120103145,
                          2.248650175
                        ]
                      }
                    ]
                  },
                  "total_iterations": 81,
                  "passed_iterations": 53
                },
                "path": "catboost_info",
                "name": "catboost_info"
              }
            },
            "_view_module": "catboost-widget",
            "_model_module_version": "^1.0.0",
            "_view_count": null,
            "_view_module_version": "^1.0.0",
            "layout": "IPY_MODEL_fa55f55ca70b43d9afdf2fd39dd82646",
            "_model_module": "catboost-widget"
          }
        }
      }
    }
  },
  "cells": [
    {
      "cell_type": "code",
      "metadata": {
        "colab": {
          "base_uri": "https://localhost:8080/"
        },
        "id": "1OsMqu0bZ92K",
        "outputId": "529cefe1-683b-4a0a-ce54-c76dbf1d3cd6"
      },
      "source": [
        "from google.colab import drive\n",
        "drive.mount('/content/drive')"
      ],
      "execution_count": null,
      "outputs": [
        {
          "output_type": "stream",
          "name": "stdout",
          "text": [
            "Mounted at /content/drive\n"
          ]
        }
      ]
    },
    {
      "cell_type": "code",
      "metadata": {
        "colab": {
          "base_uri": "https://localhost:8080/"
        },
        "id": "RiOiRBbkCZeX",
        "outputId": "8eb73503-f9de-4e69-aa0b-494557f9443a"
      },
      "source": [
        "!pip install catboost"
      ],
      "execution_count": null,
      "outputs": [
        {
          "output_type": "stream",
          "name": "stdout",
          "text": [
            "Collecting catboost\n",
            "  Downloading catboost-0.26.1-cp37-none-manylinux1_x86_64.whl (67.4 MB)\n",
            "\u001b[K     |████████████████████████████████| 67.4 MB 27 kB/s \n",
            "\u001b[?25hRequirement already satisfied: matplotlib in /usr/local/lib/python3.7/dist-packages (from catboost) (3.2.2)\n",
            "Requirement already satisfied: scipy in /usr/local/lib/python3.7/dist-packages (from catboost) (1.4.1)\n",
            "Requirement already satisfied: numpy>=1.16.0 in /usr/local/lib/python3.7/dist-packages (from catboost) (1.19.5)\n",
            "Requirement already satisfied: graphviz in /usr/local/lib/python3.7/dist-packages (from catboost) (0.10.1)\n",
            "Requirement already satisfied: six in /usr/local/lib/python3.7/dist-packages (from catboost) (1.15.0)\n",
            "Requirement already satisfied: plotly in /usr/local/lib/python3.7/dist-packages (from catboost) (4.4.1)\n",
            "Requirement already satisfied: pandas>=0.24.0 in /usr/local/lib/python3.7/dist-packages (from catboost) (1.1.5)\n",
            "Requirement already satisfied: pytz>=2017.2 in /usr/local/lib/python3.7/dist-packages (from pandas>=0.24.0->catboost) (2018.9)\n",
            "Requirement already satisfied: python-dateutil>=2.7.3 in /usr/local/lib/python3.7/dist-packages (from pandas>=0.24.0->catboost) (2.8.2)\n",
            "Requirement already satisfied: pyparsing!=2.0.4,!=2.1.2,!=2.1.6,>=2.0.1 in /usr/local/lib/python3.7/dist-packages (from matplotlib->catboost) (2.4.7)\n",
            "Requirement already satisfied: cycler>=0.10 in /usr/local/lib/python3.7/dist-packages (from matplotlib->catboost) (0.10.0)\n",
            "Requirement already satisfied: kiwisolver>=1.0.1 in /usr/local/lib/python3.7/dist-packages (from matplotlib->catboost) (1.3.1)\n",
            "Requirement already satisfied: retrying>=1.3.3 in /usr/local/lib/python3.7/dist-packages (from plotly->catboost) (1.3.3)\n",
            "Installing collected packages: catboost\n",
            "Successfully installed catboost-0.26.1\n"
          ]
        }
      ]
    },
    {
      "cell_type": "code",
      "metadata": {
        "id": "ghFrs9WUCw7T"
      },
      "source": [
        "from catboost import CatBoostClassifier\n",
        "import pandas as pd\n",
        "from sklearn.feature_extraction.text import TfidfVectorizer\n",
        "import numpy as np"
      ],
      "execution_count": null,
      "outputs": []
    },
    {
      "cell_type": "code",
      "metadata": {
        "id": "DYUWuS0a7UJn",
        "colab": {
          "base_uri": "https://localhost:8080/"
        },
        "outputId": "159c3357-3be8-4adc-ca34-ddcb0cf002de"
      },
      "source": [
        "wrong_samples = pd.read_csv('drive/My Drive/wrong_samples_color.csv', index_col=0)\n",
        "true_samples = pd.read_csv('drive/My Drive/true_samples_color.csv', index_col=0)"
      ],
      "execution_count": null,
      "outputs": [
        {
          "output_type": "stream",
          "name": "stderr",
          "text": [
            "/usr/local/lib/python3.7/dist-packages/numpy/lib/arraysetops.py:580: FutureWarning: elementwise comparison failed; returning scalar instead, but in the future will perform elementwise comparison\n",
            "  mask |= (ar1 == a)\n"
          ]
        }
      ]
    },
    {
      "cell_type": "code",
      "metadata": {
        "id": "P44UnriQLptK"
      },
      "source": [
        "wrong_samples.columns = ['text', 'class']\n",
        "true_samples.columns = ['text', 'class']"
      ],
      "execution_count": null,
      "outputs": []
    },
    {
      "cell_type": "code",
      "metadata": {
        "id": "E9p64EQyLqXj"
      },
      "source": [
        "p = 0.1\n",
        "idx = np.random.choice([True, False], p=[p, 1-p], size=len(true_samples))\n",
        "true_samples = true_samples[idx]"
      ],
      "execution_count": null,
      "outputs": []
    },
    {
      "cell_type": "code",
      "metadata": {
        "id": "Ul344KI6Lr2U"
      },
      "source": [
        "wrong_samples['class'] = 1\n",
        "true_samples['class'] = 0\n",
        "wrong_samples = wrong_samples.append(true_samples)"
      ],
      "execution_count": null,
      "outputs": []
    },
    {
      "cell_type": "code",
      "metadata": {
        "id": "ECsceger3yNy"
      },
      "source": [
        "wrong_samples.columns = ['text', 'class']"
      ],
      "execution_count": null,
      "outputs": []
    },
    {
      "cell_type": "code",
      "metadata": {
        "colab": {
          "base_uri": "https://localhost:8080/"
        },
        "id": "B1v0JFCj8DFJ",
        "outputId": "ff486d32-a31d-4ad0-a06f-6f89202d0415"
      },
      "source": [
        "import nltk\n",
        "nltk.download(\"stopwords\")"
      ],
      "execution_count": null,
      "outputs": [
        {
          "output_type": "stream",
          "name": "stdout",
          "text": [
            "[nltk_data] Downloading package stopwords to /root/nltk_data...\n",
            "[nltk_data]   Unzipping corpora/stopwords.zip.\n"
          ]
        },
        {
          "output_type": "execute_result",
          "data": {
            "text/plain": [
              "True"
            ]
          },
          "metadata": {},
          "execution_count": 9
        }
      ]
    },
    {
      "cell_type": "code",
      "metadata": {
        "id": "GbWw_sxv8P5Z",
        "colab": {
          "base_uri": "https://localhost:8080/"
        },
        "outputId": "e44c28fe-958d-4963-f45d-b11e9699c271"
      },
      "source": [
        "from nltk.corpus import stopwords\n",
        "from pymystem3 import Mystem\n",
        "from string import punctuation\n",
        "mystem = Mystem() \n",
        "russian_stopwords = stopwords.words(\"russian\")\n"
      ],
      "execution_count": null,
      "outputs": [
        {
          "output_type": "stream",
          "name": "stderr",
          "text": [
            "Installing mystem to /root/.local/bin/mystem from http://download.cdn.yandex.net/mystem/mystem-3.1-linux-64bit.tar.gz\n"
          ]
        }
      ]
    },
    {
      "cell_type": "code",
      "metadata": {
        "colab": {
          "base_uri": "https://localhost:8080/"
        },
        "id": "mWdhJ9mK-bdC",
        "outputId": "4bdf9092-4a5e-4b98-c03d-5bb885e2bd2f"
      },
      "source": [
        "!pip install pymorphy2[fast]"
      ],
      "execution_count": null,
      "outputs": [
        {
          "output_type": "stream",
          "name": "stdout",
          "text": [
            "Collecting pymorphy2[fast]\n",
            "  Downloading pymorphy2-0.9.1-py3-none-any.whl (55 kB)\n",
            "\u001b[K     |████████████████████████████████| 55 kB 2.1 MB/s \n",
            "\u001b[?25hCollecting dawg-python>=0.7.1\n",
            "  Downloading DAWG_Python-0.7.2-py2.py3-none-any.whl (11 kB)\n",
            "Requirement already satisfied: docopt>=0.6 in /usr/local/lib/python3.7/dist-packages (from pymorphy2[fast]) (0.6.2)\n",
            "Collecting pymorphy2-dicts-ru<3.0,>=2.4\n",
            "  Downloading pymorphy2_dicts_ru-2.4.417127.4579844-py2.py3-none-any.whl (8.2 MB)\n",
            "\u001b[K     |████████████████████████████████| 8.2 MB 8.7 MB/s \n",
            "\u001b[?25hCollecting DAWG>=0.8\n",
            "  Downloading DAWG-0.8.0.tar.gz (371 kB)\n",
            "\u001b[K     |████████████████████████████████| 371 kB 51.5 MB/s \n",
            "\u001b[?25hBuilding wheels for collected packages: DAWG\n",
            "  Building wheel for DAWG (setup.py) ... \u001b[?25l\u001b[?25hdone\n",
            "  Created wheel for DAWG: filename=DAWG-0.8.0-cp37-cp37m-linux_x86_64.whl size=870904 sha256=aae11ee91dbcbdf59d52fbd9aa09a1b37f3e0f2d8f7ab0a0d1097e8ffcbab693\n",
            "  Stored in directory: /root/.cache/pip/wheels/85/51/a4/2de41ff197786537075027c27b479a38da92f50abc86634445\n",
            "Successfully built DAWG\n",
            "Installing collected packages: pymorphy2-dicts-ru, dawg-python, pymorphy2, DAWG\n",
            "Successfully installed DAWG-0.8.0 dawg-python-0.7.2 pymorphy2-0.9.1 pymorphy2-dicts-ru-2.4.417127.4579844\n"
          ]
        }
      ]
    },
    {
      "cell_type": "code",
      "metadata": {
        "id": "xOHKoNfG-S4x"
      },
      "source": [
        "from pymorphy2 import MorphAnalyzer\n",
        "morph_analyzer = MorphAnalyzer()\n",
        "stop_words = stopwords.words(\"russian\")\n",
        "import re"
      ],
      "execution_count": null,
      "outputs": []
    },
    {
      "cell_type": "code",
      "metadata": {
        "id": "4wQ_vn418S2z"
      },
      "source": [
        "def preprocess(text):\n",
        "  text = text.lower()\n",
        "  text = re.sub('\\s+', ' ', re.sub(r'[^А-Яа-яёЁ]', ' ', text).strip())\n",
        "  text = [morph_analyzer.parse(word)[0].normal_form for word in text.split()]\n",
        "  text = [word for word in text if word not in stop_words]\n",
        "  return ' '.join(text)"
      ],
      "execution_count": null,
      "outputs": []
    },
    {
      "cell_type": "code",
      "metadata": {
        "id": "phbsUU4j49FI"
      },
      "source": [
        "wrong_samples = wrong_samples[wrong_samples['text'].apply(type) == str]"
      ],
      "execution_count": null,
      "outputs": []
    },
    {
      "cell_type": "code",
      "metadata": {
        "id": "QYbJK3Tj8WlY"
      },
      "source": [
        "wrong_samples['text'] = wrong_samples['text'].apply(preprocess)"
      ],
      "execution_count": null,
      "outputs": []
    },
    {
      "cell_type": "code",
      "metadata": {
        "colab": {
          "base_uri": "https://localhost:8080/"
        },
        "id": "NHFuSistF6TN",
        "outputId": "958c6360-5599-45c3-9abb-8fec19213c28"
      },
      "source": [
        "wrong_samples['text']"
      ],
      "execution_count": null,
      "outputs": [
        {
          "output_type": "execute_result",
          "data": {
            "text/plain": [
              "0          административный регламент предоставление госу...\n",
              "1          итог рассмотрение вопрос указанный абзац второ...\n",
              "2          установить сведение представить гражданский сл...\n",
              "3          б установить сведение представить гражданский ...\n",
              "4          итог рассмотрение вопрос указанный абзац трети...\n",
              "                                 ...                        \n",
              "2520019                             наименование собственник\n",
              "2520023                       вид право владение пользование\n",
              "2520024                                характеристика здание\n",
              "2520025        жилой нежилой административный складской иной\n",
              "2520032                                                     \n",
              "Name: text, Length: 217634, dtype: object"
            ]
          },
          "metadata": {},
          "execution_count": 16
        }
      ]
    },
    {
      "cell_type": "code",
      "metadata": {
        "colab": {
          "base_uri": "https://localhost:8080/"
        },
        "id": "1IDRtPvyFjyM",
        "outputId": "648f8c31-f65b-4b0b-8909-4349d5da34ad"
      },
      "source": [
        "vectorizer = TfidfVectorizer(ngram_range=(1, 3), max_features=5000)\n",
        "X = vectorizer.fit_transform(wrong_samples['text'].values.astype('U'))\n",
        "print(type(X))"
      ],
      "execution_count": null,
      "outputs": [
        {
          "output_type": "stream",
          "name": "stdout",
          "text": [
            "<class 'scipy.sparse.csr.csr_matrix'>\n"
          ]
        }
      ]
    },
    {
      "cell_type": "code",
      "metadata": {
        "id": "ip7kyg_fMtwq"
      },
      "source": [
        "from sklearn.decomposition import TruncatedSVD\n",
        "from catboost.utils import get_confusion_matrix"
      ],
      "execution_count": null,
      "outputs": []
    },
    {
      "cell_type": "code",
      "metadata": {
        "id": "TyWMhK9IM2gA"
      },
      "source": [
        "svd = TruncatedSVD(100)\n",
        "X_svd = svd.fit_transform(X)"
      ],
      "execution_count": null,
      "outputs": []
    },
    {
      "cell_type": "code",
      "metadata": {
        "id": "6fgU0F1IAX0p"
      },
      "source": [
        "from sklearn.model_selection import train_test_split"
      ],
      "execution_count": null,
      "outputs": []
    },
    {
      "cell_type": "code",
      "metadata": {
        "id": "7eUAKAIOBNG0"
      },
      "source": [
        "X_train_svd, X_test_svd, y_train_svd, y_test_svd = train_test_split(X_svd, wrong_samples['class'], stratify=wrong_samples['class'], test_size=0.25)"
      ],
      "execution_count": null,
      "outputs": []
    },
    {
      "cell_type": "code",
      "metadata": {
        "id": "H0ipHWFwJHFk"
      },
      "source": [
        "grid = {\n",
        "        'depth': [4, 6, 8],\n",
        "        'l2_leaf_reg': [0.1, 0.5, 1],\n",
        "        'grow_policy': ['SymmetricTree', 'Depthwise', 'Lossguide'],\n",
        "        'auto_class_weights': [None, 'Balanced', 'SqrtBalanced']\n",
        "}"
      ],
      "execution_count": null,
      "outputs": []
    },
    {
      "cell_type": "code",
      "metadata": {
        "colab": {
          "base_uri": "https://localhost:8080/",
          "height": 1000,
          "referenced_widgets": [
            "9b350315a8844ea28ffbc720540ab507"
          ]
        },
        "id": "6Nilyp5vSAQ7",
        "outputId": "8c3cab00-e350-448d-ad48-581bf9edf526"
      },
      "source": [
        "model = CatBoostClassifier(eval_metric='F1', iterations=100, verbose=25, task_type='GPU')\n",
        "grid_search_result = model.grid_search(grid, \n",
        "                                       X=X_train_svd, \n",
        "                                       y=y_train_svd,\n",
        "                                       plot=True,\n",
        "                                       verbose=10)"
      ],
      "execution_count": null,
      "outputs": [
        {
          "output_type": "stream",
          "name": "stderr",
          "text": [
            "Custom logger is already specified. Specify more than one logger at same time is not thread safe."
          ]
        },
        {
          "output_type": "display_data",
          "data": {
            "application/vnd.jupyter.widget-view+json": {
              "model_id": "9b350315a8844ea28ffbc720540ab507",
              "version_minor": 0,
              "version_major": 2
            },
            "text/plain": [
              "MetricVisualizer(layout=Layout(align_self='stretch', height='500px'))"
            ]
          },
          "metadata": {}
        },
        {
          "output_type": "stream",
          "name": "stdout",
          "text": [
            "0:\tlearn: 0.6578770\ttest: 0.6648350\tbest: 0.6648350 (0)\ttotal: 75.8ms\tremaining: 7.5s\n",
            "25:\tlearn: 0.6698185\ttest: 0.6744504\tbest: 0.6750475 (24)\ttotal: 1.72s\tremaining: 4.89s\n",
            "50:\tlearn: 0.6834305\ttest: 0.6837200\tbest: 0.6837200 (50)\ttotal: 3.29s\tremaining: 3.16s\n",
            "75:\tlearn: 0.6909800\ttest: 0.6913033\tbest: 0.6913033 (75)\ttotal: 4.84s\tremaining: 1.53s\n",
            "99:\tlearn: 0.6955726\ttest: 0.6949282\tbest: 0.6949282 (99)\ttotal: 6.3s\tremaining: 0us\n",
            "bestTest = 0.6949282096\n",
            "bestIteration = 99\n",
            "0:\tloss: 0.6949282\tbest: 0.6949282 (0)\ttotal: 8.82s\tremaining: 11m 45s\n",
            "0:\tlearn: 0.6578770\ttest: 0.6648350\tbest: 0.6648350 (0)\ttotal: 87ms\tremaining: 8.61s\n",
            "25:\tlearn: 0.6728830\ttest: 0.6763658\tbest: 0.6763658 (25)\ttotal: 1.58s\tremaining: 4.51s\n",
            "50:\tlearn: 0.6852067\ttest: 0.6860357\tbest: 0.6860357 (50)\ttotal: 3.12s\tremaining: 3s\n",
            "75:\tlearn: 0.6916978\ttest: 0.6926236\tbest: 0.6926236 (75)\ttotal: 4.63s\tremaining: 1.46s\n",
            "99:\tlearn: 0.6959456\ttest: 0.6955914\tbest: 0.6955914 (99)\ttotal: 6.09s\tremaining: 0us\n",
            "bestTest = 0.6955913772\n",
            "bestIteration = 99\n",
            "0:\tlearn: 0.6578770\ttest: 0.6648350\tbest: 0.6648350 (0)\ttotal: 58.3ms\tremaining: 5.77s\n",
            "25:\tlearn: 0.6735421\ttest: 0.6780563\tbest: 0.6780563 (25)\ttotal: 1.55s\tremaining: 4.43s\n",
            "50:\tlearn: 0.6833860\ttest: 0.6844690\tbest: 0.6846860 (49)\ttotal: 3.08s\tremaining: 2.96s\n",
            "75:\tlearn: 0.6920982\ttest: 0.6911584\tbest: 0.6911584 (75)\ttotal: 4.59s\tremaining: 1.45s\n",
            "99:\tlearn: 0.6958237\ttest: 0.6943762\tbest: 0.6954260 (98)\ttotal: 6.07s\tremaining: 0us\n",
            "bestTest = 0.6954260182\n",
            "bestIteration = 98\n",
            "0:\tlearn: 0.6578770\ttest: 0.6648350\tbest: 0.6648350 (0)\ttotal: 58.9ms\tremaining: 5.83s\n",
            "25:\tlearn: 0.6698185\ttest: 0.6744504\tbest: 0.6750475 (24)\ttotal: 1.59s\tremaining: 4.53s\n",
            "50:\tlearn: 0.6834305\ttest: 0.6837200\tbest: 0.6837200 (50)\ttotal: 3.09s\tremaining: 2.97s\n",
            "75:\tlearn: 0.6909800\ttest: 0.6913033\tbest: 0.6913033 (75)\ttotal: 4.59s\tremaining: 1.45s\n",
            "99:\tlearn: 0.6955726\ttest: 0.6949282\tbest: 0.6949282 (99)\ttotal: 6.04s\tremaining: 0us\n",
            "bestTest = 0.6949282096\n",
            "bestIteration = 99\n",
            "0:\tlearn: 0.6578770\ttest: 0.6648350\tbest: 0.6648350 (0)\ttotal: 60ms\tremaining: 5.94s\n",
            "25:\tlearn: 0.6728830\ttest: 0.6763658\tbest: 0.6763658 (25)\ttotal: 1.62s\tremaining: 4.6s\n",
            "50:\tlearn: 0.6852067\ttest: 0.6860357\tbest: 0.6860357 (50)\ttotal: 3.16s\tremaining: 3.04s\n",
            "75:\tlearn: 0.6916978\ttest: 0.6926236\tbest: 0.6926236 (75)\ttotal: 4.67s\tremaining: 1.48s\n",
            "99:\tlearn: 0.6959456\ttest: 0.6955914\tbest: 0.6955914 (99)\ttotal: 6.13s\tremaining: 0us\n",
            "bestTest = 0.6955913772\n",
            "bestIteration = 99\n",
            "0:\tlearn: 0.6578770\ttest: 0.6648350\tbest: 0.6648350 (0)\ttotal: 59.5ms\tremaining: 5.89s\n",
            "25:\tlearn: 0.6735421\ttest: 0.6780563\tbest: 0.6780563 (25)\ttotal: 1.6s\tremaining: 4.55s\n",
            "50:\tlearn: 0.6833860\ttest: 0.6844690\tbest: 0.6846860 (49)\ttotal: 3.13s\tremaining: 3s\n",
            "75:\tlearn: 0.6920982\ttest: 0.6911584\tbest: 0.6911584 (75)\ttotal: 4.64s\tremaining: 1.47s\n",
            "99:\tlearn: 0.6958237\ttest: 0.6943762\tbest: 0.6954260 (98)\ttotal: 6.08s\tremaining: 0us\n",
            "bestTest = 0.6954260182\n",
            "bestIteration = 98\n",
            "0:\tlearn: 0.6585554\ttest: 0.6683921\tbest: 0.6683921 (0)\ttotal: 85.5ms\tremaining: 8.47s\n",
            "25:\tlearn: 0.6877000\ttest: 0.6873332\tbest: 0.6875538 (24)\ttotal: 2.23s\tremaining: 6.36s\n",
            "50:\tlearn: 0.6978280\ttest: 0.6934812\tbest: 0.6942338 (42)\ttotal: 4.36s\tremaining: 4.19s\n",
            "75:\tlearn: 0.7042982\ttest: 0.6971408\tbest: 0.6981564 (72)\ttotal: 6.47s\tremaining: 2.04s\n",
            "99:\tlearn: 0.7071348\ttest: 0.6996330\tbest: 0.7002173 (96)\ttotal: 8.1s\tremaining: 0us\n",
            "bestTest = 0.70021732\n",
            "bestIteration = 96\n",
            "0:\tlearn: 0.6585554\ttest: 0.6683921\tbest: 0.6683921 (0)\ttotal: 85ms\tremaining: 8.42s\n",
            "25:\tlearn: 0.6875649\ttest: 0.6875499\tbest: 0.6875499 (25)\ttotal: 2.25s\tremaining: 6.4s\n",
            "50:\tlearn: 0.6988332\ttest: 0.6971726\tbest: 0.6971726 (50)\ttotal: 4.44s\tremaining: 4.26s\n",
            "75:\tlearn: 0.7048266\ttest: 0.7011927\tbest: 0.7012143 (73)\ttotal: 6.57s\tremaining: 2.07s\n",
            "99:\tlearn: 0.7080369\ttest: 0.7034881\tbest: 0.7041791 (91)\ttotal: 8.22s\tremaining: 0us\n",
            "bestTest = 0.7041790629\n",
            "bestIteration = 91\n",
            "0:\tlearn: 0.6585554\ttest: 0.6683921\tbest: 0.6683921 (0)\ttotal: 84.9ms\tremaining: 8.4s\n",
            "25:\tlearn: 0.6860378\ttest: 0.6877354\tbest: 0.6877354 (25)\ttotal: 2.24s\tremaining: 6.38s\n",
            "50:\tlearn: 0.6981369\ttest: 0.6966618\tbest: 0.6966618 (50)\ttotal: 4.46s\tremaining: 4.28s\n",
            "75:\tlearn: 0.7070341\ttest: 0.6989164\tbest: 0.7000197 (70)\ttotal: 6.55s\tremaining: 2.07s\n",
            "99:\tlearn: 0.7094169\ttest: 0.7026437\tbest: 0.7026437 (99)\ttotal: 8.35s\tremaining: 0us\n",
            "bestTest = 0.7026437404\n",
            "bestIteration = 99\n",
            "0:\tlearn: 0.6585554\ttest: 0.6683921\tbest: 0.6683921 (0)\ttotal: 84.5ms\tremaining: 8.37s\n",
            "25:\tlearn: 0.6877000\ttest: 0.6873332\tbest: 0.6875538 (24)\ttotal: 2.29s\tremaining: 6.52s\n",
            "50:\tlearn: 0.6978280\ttest: 0.6934812\tbest: 0.6942338 (42)\ttotal: 4.39s\tremaining: 4.22s\n",
            "75:\tlearn: 0.7042982\ttest: 0.6971408\tbest: 0.6981564 (72)\ttotal: 6.51s\tremaining: 2.05s\n",
            "99:\tlearn: 0.7071348\ttest: 0.6996330\tbest: 0.7002173 (96)\ttotal: 8.08s\tremaining: 0us\n",
            "bestTest = 0.70021732\n",
            "bestIteration = 96\n",
            "0:\tlearn: 0.6585554\ttest: 0.6683921\tbest: 0.6683921 (0)\ttotal: 96.3ms\tremaining: 9.53s\n",
            "25:\tlearn: 0.6875649\ttest: 0.6875499\tbest: 0.6875499 (25)\ttotal: 2.25s\tremaining: 6.4s\n",
            "50:\tlearn: 0.6988332\ttest: 0.6971726\tbest: 0.6971726 (50)\ttotal: 4.45s\tremaining: 4.27s\n",
            "75:\tlearn: 0.7048266\ttest: 0.7011927\tbest: 0.7012143 (73)\ttotal: 6.58s\tremaining: 2.08s\n",
            "99:\tlearn: 0.7080369\ttest: 0.7034881\tbest: 0.7041791 (91)\ttotal: 8.2s\tremaining: 0us\n",
            "bestTest = 0.7041790629\n",
            "bestIteration = 91\n",
            "10:\tloss: 0.7041791\tbest: 0.7041791 (7)\ttotal: 1m 30s\tremaining: 9m 38s\n",
            "0:\tlearn: 0.6585554\ttest: 0.6683921\tbest: 0.6683921 (0)\ttotal: 96ms\tremaining: 9.51s\n",
            "25:\tlearn: 0.6860378\ttest: 0.6877354\tbest: 0.6877354 (25)\ttotal: 2.26s\tremaining: 6.44s\n",
            "50:\tlearn: 0.6981369\ttest: 0.6966618\tbest: 0.6966618 (50)\ttotal: 4.45s\tremaining: 4.28s\n",
            "75:\tlearn: 0.7070341\ttest: 0.6989164\tbest: 0.7000197 (70)\ttotal: 6.59s\tremaining: 2.08s\n",
            "99:\tlearn: 0.7094169\ttest: 0.7026437\tbest: 0.7026437 (99)\ttotal: 8.34s\tremaining: 0us\n",
            "bestTest = 0.7026437404\n",
            "bestIteration = 99\n",
            "0:\tlearn: 0.6782678\ttest: 0.6796333\tbest: 0.6796333 (0)\ttotal: 204ms\tremaining: 20.2s\n",
            "25:\tlearn: 0.7059451\ttest: 0.6980897\tbest: 0.6980897 (25)\ttotal: 5.31s\tremaining: 15.1s\n",
            "50:\tlearn: 0.7145940\ttest: 0.7013359\tbest: 0.7028562 (49)\ttotal: 10.3s\tremaining: 9.89s\n",
            "75:\tlearn: 0.7176675\ttest: 0.7023374\tbest: 0.7028562 (49)\ttotal: 13.5s\tremaining: 4.25s\n",
            "99:\tlearn: 0.7196134\ttest: 0.7033099\tbest: 0.7033641 (97)\ttotal: 15.1s\tremaining: 0us\n",
            "bestTest = 0.7033641137\n",
            "bestIteration = 97\n",
            "0:\tlearn: 0.6782678\ttest: 0.6796333\tbest: 0.6796333 (0)\ttotal: 209ms\tremaining: 20.7s\n",
            "25:\tlearn: 0.7051745\ttest: 0.6963024\tbest: 0.6970218 (24)\ttotal: 5.31s\tremaining: 15.1s\n",
            "50:\tlearn: 0.7159675\ttest: 0.6989485\tbest: 0.7020447 (41)\ttotal: 10.3s\tremaining: 9.88s\n",
            "75:\tlearn: 0.7218593\ttest: 0.7032942\tbest: 0.7037784 (72)\ttotal: 13.8s\tremaining: 4.35s\n",
            "99:\tlearn: 0.7238576\ttest: 0.7030319\tbest: 0.7037784 (72)\ttotal: 15.6s\tremaining: 0us\n",
            "bestTest = 0.7037783674\n",
            "bestIteration = 72\n",
            "0:\tlearn: 0.6782678\ttest: 0.6796333\tbest: 0.6796333 (0)\ttotal: 203ms\tremaining: 20.1s\n",
            "25:\tlearn: 0.7075490\ttest: 0.6984366\tbest: 0.7001263 (22)\ttotal: 5.37s\tremaining: 15.3s\n",
            "50:\tlearn: 0.7183210\ttest: 0.7037028\tbest: 0.7050682 (42)\ttotal: 10.4s\tremaining: 9.99s\n",
            "75:\tlearn: 0.7227492\ttest: 0.7047451\tbest: 0.7051984 (58)\ttotal: 14.2s\tremaining: 4.49s\n",
            "99:\tlearn: 0.7243182\ttest: 0.7056570\tbest: 0.7056899 (98)\ttotal: 16.1s\tremaining: 0us\n",
            "bestTest = 0.7056898511\n",
            "bestIteration = 98\n",
            "0:\tlearn: 0.6782678\ttest: 0.6796333\tbest: 0.6796333 (0)\ttotal: 217ms\tremaining: 21.5s\n",
            "25:\tlearn: 0.7059451\ttest: 0.6980897\tbest: 0.6980897 (25)\ttotal: 5.28s\tremaining: 15s\n",
            "50:\tlearn: 0.7145940\ttest: 0.7013359\tbest: 0.7028562 (49)\ttotal: 10.2s\tremaining: 9.82s\n",
            "75:\tlearn: 0.7176675\ttest: 0.7023374\tbest: 0.7028562 (49)\ttotal: 13.4s\tremaining: 4.24s\n",
            "99:\tlearn: 0.7196134\ttest: 0.7033099\tbest: 0.7033641 (97)\ttotal: 15.1s\tremaining: 0us\n",
            "bestTest = 0.7033641137\n",
            "bestIteration = 97\n",
            "0:\tlearn: 0.6782678\ttest: 0.6796333\tbest: 0.6796333 (0)\ttotal: 203ms\tremaining: 20.1s\n",
            "25:\tlearn: 0.7051745\ttest: 0.6963024\tbest: 0.6970218 (24)\ttotal: 5.29s\tremaining: 15.1s\n",
            "50:\tlearn: 0.7159675\ttest: 0.6989485\tbest: 0.7020447 (41)\ttotal: 10.3s\tremaining: 9.88s\n",
            "75:\tlearn: 0.7218593\ttest: 0.7032942\tbest: 0.7037784 (72)\ttotal: 13.8s\tremaining: 4.36s\n",
            "99:\tlearn: 0.7238576\ttest: 0.7030319\tbest: 0.7037784 (72)\ttotal: 15.5s\tremaining: 0us\n",
            "bestTest = 0.7037783674\n",
            "bestIteration = 72\n",
            "0:\tlearn: 0.6782678\ttest: 0.6796333\tbest: 0.6796333 (0)\ttotal: 229ms\tremaining: 22.7s\n",
            "25:\tlearn: 0.7075490\ttest: 0.6984366\tbest: 0.7001263 (22)\ttotal: 5.37s\tremaining: 15.3s\n",
            "50:\tlearn: 0.7183210\ttest: 0.7037028\tbest: 0.7050682 (42)\ttotal: 10.4s\tremaining: 10s\n",
            "75:\tlearn: 0.7227492\ttest: 0.7047451\tbest: 0.7051984 (58)\ttotal: 14.2s\tremaining: 4.49s\n",
            "99:\tlearn: 0.7243182\ttest: 0.7056570\tbest: 0.7056899 (98)\ttotal: 16.1s\tremaining: 0us\n",
            "bestTest = 0.7056898511\n",
            "bestIteration = 98\n",
            "0:\tlearn: 0.6513915\ttest: 0.6516788\tbest: 0.6516788 (0)\ttotal: 18.6ms\tremaining: 1.84s\n",
            "25:\tlearn: 0.7007213\ttest: 0.6956474\tbest: 0.6976827 (20)\ttotal: 456ms\tremaining: 1.3s\n",
            "50:\tlearn: 0.7084080\ttest: 0.6985213\tbest: 0.6994873 (49)\ttotal: 897ms\tremaining: 862ms\n",
            "75:\tlearn: 0.7128181\ttest: 0.7013698\tbest: 0.7016776 (72)\ttotal: 1.33s\tremaining: 420ms\n",
            "99:\tlearn: 0.7168300\ttest: 0.7048737\tbest: 0.7048737 (99)\ttotal: 1.76s\tremaining: 0us\n",
            "bestTest = 0.704873668\n",
            "bestIteration = 99\n",
            "0:\tlearn: 0.6513915\ttest: 0.6516788\tbest: 0.6516788 (0)\ttotal: 18.1ms\tremaining: 1.79s\n",
            "25:\tlearn: 0.7007213\ttest: 0.6956474\tbest: 0.6976827 (20)\ttotal: 454ms\tremaining: 1.29s\n",
            "50:\tlearn: 0.7084080\ttest: 0.6985213\tbest: 0.6994873 (49)\ttotal: 901ms\tremaining: 865ms\n",
            "75:\tlearn: 0.7127695\ttest: 0.7015160\tbest: 0.7015377 (74)\ttotal: 1.34s\tremaining: 423ms\n",
            "99:\tlearn: 0.7156729\ttest: 0.7031636\tbest: 0.7031636 (99)\ttotal: 1.79s\tremaining: 0us\n",
            "bestTest = 0.7031635792\n",
            "bestIteration = 99\n",
            "0:\tlearn: 0.6513915\ttest: 0.6516788\tbest: 0.6516788 (0)\ttotal: 18.8ms\tremaining: 1.86s\n",
            "25:\tlearn: 0.7007213\ttest: 0.6956474\tbest: 0.6976827 (20)\ttotal: 453ms\tremaining: 1.29s\n",
            "50:\tlearn: 0.7084080\ttest: 0.6985213\tbest: 0.6994873 (49)\ttotal: 911ms\tremaining: 875ms\n",
            "75:\tlearn: 0.7127695\ttest: 0.7015160\tbest: 0.7015377 (74)\ttotal: 1.34s\tremaining: 423ms\n",
            "99:\tlearn: 0.7156729\ttest: 0.7031636\tbest: 0.7031636 (99)\ttotal: 1.77s\tremaining: 0us\n",
            "bestTest = 0.7031635792\n",
            "bestIteration = 99\n",
            "20:\tloss: 0.7031636\tbest: 0.7056899 (14)\ttotal: 3m 28s\tremaining: 9m 56s\n",
            "0:\tlearn: 0.6513915\ttest: 0.6516788\tbest: 0.6516788 (0)\ttotal: 18ms\tremaining: 1.78s\n",
            "25:\tlearn: 0.7007213\ttest: 0.6956474\tbest: 0.6976827 (20)\ttotal: 446ms\tremaining: 1.27s\n",
            "50:\tlearn: 0.7084080\ttest: 0.6985213\tbest: 0.6994873 (49)\ttotal: 901ms\tremaining: 865ms\n",
            "75:\tlearn: 0.7128695\ttest: 0.7013698\tbest: 0.7016776 (72)\ttotal: 1.35s\tremaining: 426ms\n",
            "99:\tlearn: 0.7168356\ttest: 0.7048737\tbest: 0.7048737 (99)\ttotal: 1.75s\tremaining: 0us\n",
            "bestTest = 0.704873668\n",
            "bestIteration = 99\n",
            "0:\tlearn: 0.6513915\ttest: 0.6516788\tbest: 0.6516788 (0)\ttotal: 17.9ms\tremaining: 1.77s\n",
            "25:\tlearn: 0.7007213\ttest: 0.6956474\tbest: 0.6976827 (20)\ttotal: 463ms\tremaining: 1.32s\n",
            "50:\tlearn: 0.7084080\ttest: 0.6985213\tbest: 0.6994873 (49)\ttotal: 921ms\tremaining: 885ms\n",
            "75:\tlearn: 0.7127668\ttest: 0.7015160\tbest: 0.7015377 (74)\ttotal: 1.38s\tremaining: 434ms\n",
            "99:\tlearn: 0.7156702\ttest: 0.7031636\tbest: 0.7031636 (99)\ttotal: 1.79s\tremaining: 0us\n",
            "bestTest = 0.7031635792\n",
            "bestIteration = 99\n",
            "0:\tlearn: 0.6513915\ttest: 0.6516788\tbest: 0.6516788 (0)\ttotal: 18.5ms\tremaining: 1.83s\n",
            "25:\tlearn: 0.7007213\ttest: 0.6956474\tbest: 0.6976827 (20)\ttotal: 496ms\tremaining: 1.41s\n",
            "50:\tlearn: 0.7084080\ttest: 0.6985213\tbest: 0.6994873 (49)\ttotal: 961ms\tremaining: 923ms\n",
            "75:\tlearn: 0.7127695\ttest: 0.7015160\tbest: 0.7015377 (74)\ttotal: 1.4s\tremaining: 443ms\n",
            "99:\tlearn: 0.7156729\ttest: 0.7031636\tbest: 0.7031636 (99)\ttotal: 1.83s\tremaining: 0us\n",
            "bestTest = 0.7031635792\n",
            "bestIteration = 99\n",
            "0:\tlearn: 0.6952109\ttest: 0.6814850\tbest: 0.6814850 (0)\ttotal: 25.9ms\tremaining: 2.56s\n",
            "25:\tlearn: 0.7342190\ttest: 0.7101540\tbest: 0.7108187 (23)\ttotal: 655ms\tremaining: 1.86s\n",
            "50:\tlearn: 0.7473634\ttest: 0.7148054\tbest: 0.7157144 (49)\ttotal: 1.26s\tremaining: 1.22s\n",
            "75:\tlearn: 0.7585924\ttest: 0.7188348\tbest: 0.7198793 (73)\ttotal: 1.9s\tremaining: 599ms\n",
            "99:\tlearn: 0.7664642\ttest: 0.7212584\tbest: 0.7212584 (99)\ttotal: 2.5s\tremaining: 0us\n",
            "bestTest = 0.7212584202\n",
            "bestIteration = 99\n",
            "0:\tlearn: 0.6952109\ttest: 0.6816904\tbest: 0.6816904 (0)\ttotal: 37.3ms\tremaining: 3.69s\n",
            "25:\tlearn: 0.7342576\ttest: 0.7106009\tbest: 0.7106009 (25)\ttotal: 667ms\tremaining: 1.9s\n",
            "50:\tlearn: 0.7468180\ttest: 0.7143028\tbest: 0.7153160 (39)\ttotal: 1.33s\tremaining: 1.28s\n",
            "75:\tlearn: 0.7581074\ttest: 0.7185600\tbest: 0.7192864 (73)\ttotal: 1.97s\tremaining: 623ms\n",
            "99:\tlearn: 0.7648405\ttest: 0.7191372\tbest: 0.7198646 (93)\ttotal: 2.59s\tremaining: 0us\n",
            "bestTest = 0.7198645591\n",
            "bestIteration = 93\n",
            "0:\tlearn: 0.6952109\ttest: 0.6816904\tbest: 0.6816904 (0)\ttotal: 25.3ms\tremaining: 2.5s\n",
            "25:\tlearn: 0.7338450\ttest: 0.7103625\tbest: 0.7103625 (25)\ttotal: 640ms\tremaining: 1.82s\n",
            "50:\tlearn: 0.7462566\ttest: 0.7143443\tbest: 0.7159142 (46)\ttotal: 1.32s\tremaining: 1.27s\n",
            "75:\tlearn: 0.7575360\ttest: 0.7196473\tbest: 0.7202448 (72)\ttotal: 1.96s\tremaining: 620ms\n",
            "99:\tlearn: 0.7654346\ttest: 0.7209687\tbest: 0.7212806 (94)\ttotal: 2.56s\tremaining: 0us\n",
            "bestTest = 0.7212805962\n",
            "bestIteration = 94\n",
            "0:\tlearn: 0.6952109\ttest: 0.6816904\tbest: 0.6816904 (0)\ttotal: 26.5ms\tremaining: 2.62s\n",
            "25:\tlearn: 0.7342274\ttest: 0.7101540\tbest: 0.7108297 (23)\ttotal: 657ms\tremaining: 1.87s\n",
            "50:\tlearn: 0.7478075\ttest: 0.7151910\tbest: 0.7157032 (49)\ttotal: 1.3s\tremaining: 1.25s\n",
            "75:\tlearn: 0.7586424\ttest: 0.7188005\tbest: 0.7198337 (73)\ttotal: 1.95s\tremaining: 615ms\n",
            "99:\tlearn: 0.7662456\ttest: 0.7205417\tbest: 0.7211051 (84)\ttotal: 2.53s\tremaining: 0us\n",
            "bestTest = 0.7211050896\n",
            "bestIteration = 84\n",
            "0:\tlearn: 0.6952109\ttest: 0.6816904\tbest: 0.6816904 (0)\ttotal: 25.4ms\tremaining: 2.52s\n",
            "25:\tlearn: 0.7342576\ttest: 0.7106009\tbest: 0.7106009 (25)\ttotal: 668ms\tremaining: 1.9s\n",
            "50:\tlearn: 0.7468180\ttest: 0.7143028\tbest: 0.7153049 (39)\ttotal: 1.29s\tremaining: 1.24s\n",
            "75:\tlearn: 0.7581074\ttest: 0.7187718\tbest: 0.7194975 (73)\ttotal: 1.94s\tremaining: 613ms\n",
            "99:\tlearn: 0.7648405\ttest: 0.7193399\tbest: 0.7200664 (93)\ttotal: 2.57s\tremaining: 0us\n",
            "bestTest = 0.7200663839\n",
            "bestIteration = 93\n",
            "0:\tlearn: 0.6952109\ttest: 0.6816904\tbest: 0.6816904 (0)\ttotal: 28.2ms\tremaining: 2.79s\n",
            "25:\tlearn: 0.7338450\ttest: 0.7103625\tbest: 0.7103625 (25)\ttotal: 649ms\tremaining: 1.85s\n",
            "50:\tlearn: 0.7462566\ttest: 0.7143555\tbest: 0.7159254 (46)\ttotal: 1.29s\tremaining: 1.24s\n",
            "75:\tlearn: 0.7575360\ttest: 0.7196473\tbest: 0.7202448 (72)\ttotal: 1.94s\tremaining: 612ms\n",
            "99:\tlearn: 0.7654346\ttest: 0.7209687\tbest: 0.7212806 (94)\ttotal: 2.54s\tremaining: 0us\n",
            "bestTest = 0.7212805962\n",
            "bestIteration = 94\n",
            "0:\tlearn: 0.7164087\ttest: 0.6850382\tbest: 0.6850382 (0)\ttotal: 43.4ms\tremaining: 4.3s\n",
            "25:\tlearn: 0.7902229\ttest: 0.7174072\tbest: 0.7207106 (22)\ttotal: 1.13s\tremaining: 3.21s\n",
            "50:\tlearn: 0.8160524\ttest: 0.7199597\tbest: 0.7232690 (32)\ttotal: 2.24s\tremaining: 2.15s\n",
            "75:\tlearn: 0.8399851\ttest: 0.7223536\tbest: 0.7248859 (54)\ttotal: 3.36s\tremaining: 1.06s\n",
            "99:\tlearn: 0.8570885\ttest: 0.7216878\tbest: 0.7248859 (54)\ttotal: 4.4s\tremaining: 0us\n",
            "bestTest = 0.7248858997\n",
            "bestIteration = 54\n",
            "30:\tloss: 0.7248859\tbest: 0.7248859 (30)\ttotal: 4m 4s\tremaining: 6m 34s\n",
            "0:\tlearn: 0.7164087\ttest: 0.6850382\tbest: 0.6850382 (0)\ttotal: 41.8ms\tremaining: 4.14s\n",
            "25:\tlearn: 0.7903771\ttest: 0.7202104\tbest: 0.7206389 (22)\ttotal: 1.18s\tremaining: 3.37s\n",
            "50:\tlearn: 0.8134410\ttest: 0.7193507\tbest: 0.7220535 (40)\ttotal: 2.25s\tremaining: 2.17s\n",
            "75:\tlearn: 0.8353581\ttest: 0.7194657\tbest: 0.7227680 (62)\ttotal: 3.32s\tremaining: 1.05s\n",
            "99:\tlearn: 0.8530382\ttest: 0.7208774\tbest: 0.7227680 (62)\ttotal: 4.37s\tremaining: 0us\n",
            "bestTest = 0.7227680391\n",
            "bestIteration = 62\n",
            "0:\tlearn: 0.7164087\ttest: 0.6850382\tbest: 0.6850382 (0)\ttotal: 42.3ms\tremaining: 4.19s\n",
            "25:\tlearn: 0.7874184\ttest: 0.7187679\tbest: 0.7207238 (15)\ttotal: 1.14s\tremaining: 3.26s\n",
            "50:\tlearn: 0.8116772\ttest: 0.7244977\tbest: 0.7244977 (50)\ttotal: 2.24s\tremaining: 2.15s\n",
            "75:\tlearn: 0.8347346\ttest: 0.7212712\tbest: 0.7244977 (50)\ttotal: 3.31s\tremaining: 1.04s\n",
            "99:\tlearn: 0.8511801\ttest: 0.7196070\tbest: 0.7244977 (50)\ttotal: 4.34s\tremaining: 0us\n",
            "bestTest = 0.7244976867\n",
            "bestIteration = 50\n",
            "0:\tlearn: 0.7164087\ttest: 0.6850382\tbest: 0.6850382 (0)\ttotal: 41.4ms\tremaining: 4.1s\n",
            "25:\tlearn: 0.7902229\ttest: 0.7176100\tbest: 0.7209227 (22)\ttotal: 1.15s\tremaining: 3.26s\n",
            "50:\tlearn: 0.8160524\ttest: 0.7203652\tbest: 0.7232807 (32)\ttotal: 2.23s\tremaining: 2.15s\n",
            "75:\tlearn: 0.8399851\ttest: 0.7221021\tbest: 0.7253141 (54)\ttotal: 3.31s\tremaining: 1.05s\n",
            "99:\tlearn: 0.8570885\ttest: 0.7224333\tbest: 0.7253141 (54)\ttotal: 4.35s\tremaining: 0us\n",
            "bestTest = 0.7253140536\n",
            "bestIteration = 54\n",
            "0:\tlearn: 0.7164087\ttest: 0.6850382\tbest: 0.6850382 (0)\ttotal: 41.4ms\tremaining: 4.09s\n",
            "25:\tlearn: 0.7903771\ttest: 0.7203774\tbest: 0.7206159 (22)\ttotal: 1.14s\tremaining: 3.23s\n",
            "50:\tlearn: 0.8134410\ttest: 0.7193746\tbest: 0.7222470 (40)\ttotal: 2.22s\tremaining: 2.14s\n",
            "75:\tlearn: 0.8353581\ttest: 0.7192877\tbest: 0.7228287 (62)\ttotal: 3.29s\tremaining: 1.04s\n",
            "99:\tlearn: 0.8530382\ttest: 0.7209024\tbest: 0.7228287 (62)\ttotal: 4.34s\tremaining: 0us\n",
            "bestTest = 0.7228286915\n",
            "bestIteration = 62\n",
            "0:\tlearn: 0.7164087\ttest: 0.6850382\tbest: 0.6850382 (0)\ttotal: 42.2ms\tremaining: 4.18s\n",
            "25:\tlearn: 0.7874184\ttest: 0.7187449\tbest: 0.7207011 (15)\ttotal: 1.15s\tremaining: 3.27s\n",
            "50:\tlearn: 0.8116772\ttest: 0.7244977\tbest: 0.7244977 (50)\ttotal: 2.24s\tremaining: 2.15s\n",
            "75:\tlearn: 0.8347346\ttest: 0.7210456\tbest: 0.7244977 (50)\ttotal: 3.3s\tremaining: 1.04s\n",
            "99:\tlearn: 0.8511801\ttest: 0.7194513\tbest: 0.7244977 (50)\ttotal: 4.33s\tremaining: 0us\n",
            "bestTest = 0.7244976867\n",
            "bestIteration = 50\n",
            "0:\tlearn: 0.6513915\ttest: 0.6516788\tbest: 0.6516788 (0)\ttotal: 21.1ms\tremaining: 2.08s\n",
            "25:\tlearn: 0.7009846\ttest: 0.6949159\tbest: 0.6977628 (20)\ttotal: 515ms\tremaining: 1.47s\n",
            "50:\tlearn: 0.7083198\ttest: 0.6984962\tbest: 0.6984962 (50)\ttotal: 1.03s\tremaining: 991ms\n",
            "75:\tlearn: 0.7123299\ttest: 0.7003563\tbest: 0.7003563 (75)\ttotal: 1.55s\tremaining: 490ms\n",
            "99:\tlearn: 0.7179126\ttest: 0.7056818\tbest: 0.7056818 (99)\ttotal: 2.03s\tremaining: 0us\n",
            "bestTest = 0.7056817826\n",
            "bestIteration = 99\n",
            "0:\tlearn: 0.6513915\ttest: 0.6516788\tbest: 0.6516788 (0)\ttotal: 20.1ms\tremaining: 1.99s\n",
            "25:\tlearn: 0.7009846\ttest: 0.6949159\tbest: 0.6977628 (20)\ttotal: 504ms\tremaining: 1.43s\n",
            "50:\tlearn: 0.7084894\ttest: 0.6988530\tbest: 0.6988530 (50)\ttotal: 1.03s\tremaining: 989ms\n",
            "75:\tlearn: 0.7114176\ttest: 0.7010007\tbest: 0.7010007 (75)\ttotal: 1.57s\tremaining: 496ms\n",
            "99:\tlearn: 0.7188318\ttest: 0.7058027\tbest: 0.7059454 (97)\ttotal: 2.06s\tremaining: 0us\n",
            "bestTest = 0.7059453569\n",
            "bestIteration = 97\n",
            "0:\tlearn: 0.6513915\ttest: 0.6516788\tbest: 0.6516788 (0)\ttotal: 23.9ms\tremaining: 2.37s\n",
            "25:\tlearn: 0.7007731\ttest: 0.6945054\tbest: 0.6973441 (20)\ttotal: 518ms\tremaining: 1.47s\n",
            "50:\tlearn: 0.7084151\ttest: 0.6984610\tbest: 0.6984824 (49)\ttotal: 1.06s\tremaining: 1.02s\n",
            "75:\tlearn: 0.7123387\ttest: 0.7002451\tbest: 0.7002451 (75)\ttotal: 1.59s\tremaining: 503ms\n",
            "99:\tlearn: 0.7186655\ttest: 0.7047372\tbest: 0.7049050 (95)\ttotal: 2.07s\tremaining: 0us\n",
            "bestTest = 0.7049049645\n",
            "bestIteration = 95\n",
            "0:\tlearn: 0.6513915\ttest: 0.6516788\tbest: 0.6516788 (0)\ttotal: 20.7ms\tremaining: 2.05s\n",
            "25:\tlearn: 0.7009793\ttest: 0.6949159\tbest: 0.6977628 (20)\ttotal: 498ms\tremaining: 1.42s\n",
            "50:\tlearn: 0.7083198\ttest: 0.6984962\tbest: 0.6984962 (50)\ttotal: 1.03s\tremaining: 987ms\n",
            "75:\tlearn: 0.7123217\ttest: 0.7003563\tbest: 0.7003563 (75)\ttotal: 1.53s\tremaining: 485ms\n",
            "99:\tlearn: 0.7179126\ttest: 0.7056708\tbest: 0.7056708 (99)\ttotal: 2.03s\tremaining: 0us\n",
            "bestTest = 0.7056708428\n",
            "bestIteration = 99\n",
            "0:\tlearn: 0.6513915\ttest: 0.6516788\tbest: 0.6516788 (0)\ttotal: 20.6ms\tremaining: 2.03s\n",
            "25:\tlearn: 0.7009846\ttest: 0.6949159\tbest: 0.6977628 (20)\ttotal: 523ms\tremaining: 1.49s\n",
            "50:\tlearn: 0.7084894\ttest: 0.6988530\tbest: 0.6988530 (50)\ttotal: 1.06s\tremaining: 1.02s\n",
            "75:\tlearn: 0.7114203\ttest: 0.7009898\tbest: 0.7009898 (75)\ttotal: 1.58s\tremaining: 501ms\n",
            "99:\tlearn: 0.7188318\ttest: 0.7057917\tbest: 0.7059344 (97)\ttotal: 2.1s\tremaining: 0us\n",
            "bestTest = 0.7059344189\n",
            "bestIteration = 97\n",
            "40:\tloss: 0.7059344\tbest: 0.7253141 (33)\ttotal: 4m 47s\tremaining: 4m 40s\n",
            "0:\tlearn: 0.6513915\ttest: 0.6516788\tbest: 0.6516788 (0)\ttotal: 20.1ms\tremaining: 1.99s\n",
            "25:\tlearn: 0.7007731\ttest: 0.6945054\tbest: 0.6973441 (20)\ttotal: 523ms\tremaining: 1.49s\n",
            "50:\tlearn: 0.7084151\ttest: 0.6984503\tbest: 0.6984824 (49)\ttotal: 1.03s\tremaining: 986ms\n",
            "75:\tlearn: 0.7123387\ttest: 0.7002559\tbest: 0.7002559 (75)\ttotal: 1.53s\tremaining: 484ms\n",
            "99:\tlearn: 0.7186628\ttest: 0.7047481\tbest: 0.7049159 (95)\ttotal: 2s\tremaining: 0us\n",
            "bestTest = 0.7049158856\n",
            "bestIteration = 95\n",
            "0:\tlearn: 0.6833281\ttest: 0.6815328\tbest: 0.6815328 (0)\ttotal: 31.3ms\tremaining: 3.1s\n",
            "25:\tlearn: 0.7185167\ttest: 0.7081330\tbest: 0.7081330 (25)\ttotal: 809ms\tremaining: 2.3s\n",
            "50:\tlearn: 0.7263905\ttest: 0.7114643\tbest: 0.7123067 (36)\ttotal: 1.59s\tremaining: 1.53s\n",
            "75:\tlearn: 0.7336894\ttest: 0.7142723\tbest: 0.7146029 (66)\ttotal: 2.38s\tremaining: 750ms\n",
            "99:\tlearn: 0.7403368\ttest: 0.7178000\tbest: 0.7178000 (99)\ttotal: 3.17s\tremaining: 0us\n",
            "bestTest = 0.7178000486\n",
            "bestIteration = 99\n",
            "0:\tlearn: 0.6833281\ttest: 0.6815328\tbest: 0.6815328 (0)\ttotal: 31.2ms\tremaining: 3.09s\n",
            "25:\tlearn: 0.7180610\ttest: 0.7072019\tbest: 0.7072019 (25)\ttotal: 793ms\tremaining: 2.25s\n",
            "50:\tlearn: 0.7265103\ttest: 0.7113541\tbest: 0.7122737 (45)\ttotal: 1.56s\tremaining: 1.5s\n",
            "75:\tlearn: 0.7343110\ttest: 0.7167419\tbest: 0.7175002 (72)\ttotal: 2.33s\tremaining: 735ms\n",
            "99:\tlearn: 0.7409579\ttest: 0.7151768\tbest: 0.7178514 (85)\ttotal: 3.06s\tremaining: 0us\n",
            "bestTest = 0.7178514098\n",
            "bestIteration = 85\n",
            "0:\tlearn: 0.6833281\ttest: 0.6815328\tbest: 0.6815328 (0)\ttotal: 34.4ms\tremaining: 3.4s\n",
            "25:\tlearn: 0.7180610\ttest: 0.7072019\tbest: 0.7072019 (25)\ttotal: 803ms\tremaining: 2.29s\n",
            "50:\tlearn: 0.7265075\ttest: 0.7113211\tbest: 0.7123176 (45)\ttotal: 1.6s\tremaining: 1.53s\n",
            "75:\tlearn: 0.7343391\ttest: 0.7166746\tbest: 0.7172586 (72)\ttotal: 2.36s\tremaining: 745ms\n",
            "99:\tlearn: 0.7410360\ttest: 0.7173346\tbest: 0.7179990 (85)\ttotal: 3.11s\tremaining: 0us\n",
            "bestTest = 0.7179990161\n",
            "bestIteration = 85\n",
            "0:\tlearn: 0.6833281\ttest: 0.6815328\tbest: 0.6815328 (0)\ttotal: 30.9ms\tremaining: 3.06s\n",
            "25:\tlearn: 0.7185085\ttest: 0.7081330\tbest: 0.7081330 (25)\ttotal: 769ms\tremaining: 2.19s\n",
            "50:\tlearn: 0.7263877\ttest: 0.7114533\tbest: 0.7123067 (36)\ttotal: 1.58s\tremaining: 1.52s\n",
            "75:\tlearn: 0.7336894\ttest: 0.7142723\tbest: 0.7146029 (66)\ttotal: 2.35s\tremaining: 742ms\n",
            "99:\tlearn: 0.7403368\ttest: 0.7178000\tbest: 0.7178000 (99)\ttotal: 3.1s\tremaining: 0us\n",
            "bestTest = 0.7178000486\n",
            "bestIteration = 99\n",
            "0:\tlearn: 0.6833281\ttest: 0.6815328\tbest: 0.6815328 (0)\ttotal: 31.4ms\tremaining: 3.1s\n",
            "25:\tlearn: 0.7180610\ttest: 0.7072019\tbest: 0.7072019 (25)\ttotal: 789ms\tremaining: 2.25s\n",
            "50:\tlearn: 0.7265103\ttest: 0.7113541\tbest: 0.7122737 (45)\ttotal: 1.57s\tremaining: 1.51s\n",
            "75:\tlearn: 0.7343110\ttest: 0.7167419\tbest: 0.7175002 (72)\ttotal: 2.34s\tremaining: 740ms\n",
            "99:\tlearn: 0.7409579\ttest: 0.7151768\tbest: 0.7178514 (85)\ttotal: 3.08s\tremaining: 0us\n",
            "bestTest = 0.7178514098\n",
            "bestIteration = 85\n",
            "0:\tlearn: 0.6833281\ttest: 0.6815328\tbest: 0.6815328 (0)\ttotal: 31.7ms\tremaining: 3.13s\n",
            "25:\tlearn: 0.7180610\ttest: 0.7072019\tbest: 0.7072019 (25)\ttotal: 843ms\tremaining: 2.4s\n",
            "50:\tlearn: 0.7265075\ttest: 0.7113211\tbest: 0.7123176 (45)\ttotal: 1.61s\tremaining: 1.55s\n",
            "75:\tlearn: 0.7343391\ttest: 0.7166746\tbest: 0.7172586 (72)\ttotal: 2.38s\tremaining: 752ms\n",
            "99:\tlearn: 0.7410388\ttest: 0.7173346\tbest: 0.7179990 (85)\ttotal: 3.1s\tremaining: 0us\n",
            "bestTest = 0.7179990161\n",
            "bestIteration = 85\n",
            "0:\tlearn: 0.6830147\ttest: 0.6813008\tbest: 0.6813008 (0)\ttotal: 33.2ms\tremaining: 3.28s\n",
            "25:\tlearn: 0.7201705\ttest: 0.7075626\tbest: 0.7081481 (21)\ttotal: 892ms\tremaining: 2.54s\n",
            "50:\tlearn: 0.7277343\ttest: 0.7149269\tbest: 0.7149269 (50)\ttotal: 1.72s\tremaining: 1.65s\n",
            "75:\tlearn: 0.7342771\ttest: 0.7172144\tbest: 0.7181787 (66)\ttotal: 2.56s\tremaining: 810ms\n",
            "99:\tlearn: 0.7406532\ttest: 0.7166334\tbest: 0.7184698 (88)\ttotal: 3.35s\tremaining: 0us\n",
            "bestTest = 0.7184697974\n",
            "bestIteration = 88\n",
            "0:\tlearn: 0.6830147\ttest: 0.6813008\tbest: 0.6813008 (0)\ttotal: 33ms\tremaining: 3.27s\n",
            "25:\tlearn: 0.7199331\ttest: 0.7070620\tbest: 0.7081264 (21)\ttotal: 864ms\tremaining: 2.46s\n",
            "50:\tlearn: 0.7267794\ttest: 0.7152782\tbest: 0.7154409 (49)\ttotal: 1.69s\tremaining: 1.62s\n",
            "75:\tlearn: 0.7347889\ttest: 0.7163143\tbest: 0.7179874 (60)\ttotal: 2.49s\tremaining: 787ms\n",
            "99:\tlearn: 0.7402010\ttest: 0.7149052\tbest: 0.7179874 (60)\ttotal: 3.26s\tremaining: 0us\n",
            "bestTest = 0.7179873584\n",
            "bestIteration = 60\n",
            "0:\tlearn: 0.6830147\ttest: 0.6813008\tbest: 0.6813008 (0)\ttotal: 32.6ms\tremaining: 3.23s\n",
            "25:\tlearn: 0.7208944\ttest: 0.7080408\tbest: 0.7090497 (23)\ttotal: 874ms\tremaining: 2.49s\n",
            "50:\tlearn: 0.7276620\ttest: 0.7138383\tbest: 0.7143174 (48)\ttotal: 1.66s\tremaining: 1.59s\n",
            "75:\tlearn: 0.7338660\ttest: 0.7157858\tbest: 0.7161523 (70)\ttotal: 2.48s\tremaining: 783ms\n",
            "99:\tlearn: 0.7400790\ttest: 0.7156074\tbest: 0.7169208 (88)\ttotal: 3.24s\tremaining: 0us\n",
            "bestTest = 0.716920806\n",
            "bestIteration = 88\n",
            "50:\tloss: 0.7169208\tbest: 0.7253141 (33)\ttotal: 5m 28s\tremaining: 3m 13s\n",
            "0:\tlearn: 0.6830147\ttest: 0.6813008\tbest: 0.6813008 (0)\ttotal: 33.1ms\tremaining: 3.27s\n",
            "25:\tlearn: 0.7201733\ttest: 0.7075844\tbest: 0.7081481 (21)\ttotal: 882ms\tremaining: 2.51s\n",
            "50:\tlearn: 0.7275963\ttest: 0.7133928\tbest: 0.7146404 (40)\ttotal: 1.73s\tremaining: 1.66s\n",
            "75:\tlearn: 0.7349067\ttest: 0.7154118\tbest: 0.7165265 (72)\ttotal: 2.54s\tremaining: 801ms\n",
            "99:\tlearn: 0.7400861\ttest: 0.7163664\tbest: 0.7165265 (72)\ttotal: 3.26s\tremaining: 0us\n",
            "bestTest = 0.7165265154\n",
            "bestIteration = 72\n",
            "0:\tlearn: 0.6830147\ttest: 0.6813008\tbest: 0.6813008 (0)\ttotal: 36.2ms\tremaining: 3.58s\n",
            "25:\tlearn: 0.7199331\ttest: 0.7070620\tbest: 0.7081264 (21)\ttotal: 870ms\tremaining: 2.48s\n",
            "50:\tlearn: 0.7267822\ttest: 0.7152782\tbest: 0.7154409 (49)\ttotal: 1.7s\tremaining: 1.63s\n",
            "75:\tlearn: 0.7347889\ttest: 0.7163143\tbest: 0.7179874 (60)\ttotal: 2.54s\tremaining: 801ms\n",
            "99:\tlearn: 0.7402067\ttest: 0.7149165\tbest: 0.7179874 (60)\ttotal: 3.31s\tremaining: 0us\n",
            "bestTest = 0.7179873584\n",
            "bestIteration = 60\n",
            "0:\tlearn: 0.6830147\ttest: 0.6813008\tbest: 0.6813008 (0)\ttotal: 32.3ms\tremaining: 3.2s\n",
            "25:\tlearn: 0.7208944\ttest: 0.7080408\tbest: 0.7090497 (23)\ttotal: 823ms\tremaining: 2.34s\n",
            "50:\tlearn: 0.7276648\ttest: 0.7138494\tbest: 0.7143174 (48)\ttotal: 1.68s\tremaining: 1.62s\n",
            "75:\tlearn: 0.7341693\ttest: 0.7159840\tbest: 0.7163644 (74)\ttotal: 2.5s\tremaining: 790ms\n",
            "99:\tlearn: 0.7397386\ttest: 0.7164677\tbest: 0.7171773 (94)\ttotal: 3.34s\tremaining: 0us\n",
            "bestTest = 0.7171772925\n",
            "bestIteration = 94\n",
            "Estimating final quality...\n",
            "0:\tlearn: 0.2504339\ttest: 0.2003559\tbest: 0.2003559 (0)\n",
            "25:\tlearn: 0.2665084\ttest: 0.1807652\tbest: 0.2003559 (0)\n",
            "50:\tlearn: 0.3493252\ttest: 0.2248748\tbest: 0.2248748 (50)\n",
            "75:\tlearn: 0.4270140\ttest: 0.2608624\tbest: 0.2608624 (75)\n",
            "99:\tlearn: 0.4995981\ttest: 0.2963080\tbest: 0.2963080 (99)\ttotal: 1m\tremaining: 0us\n"
          ]
        }
      ]
    },
    {
      "cell_type": "code",
      "metadata": {
        "id": "u6TjOO1PCL3O"
      },
      "source": [
        "#bin_params = grid_search_result['params']\n",
        "bin_params = {'auto_class_weights': 'SqrtBalanced',\n",
        "              'depth': 8,\n",
        "              'grow_policy': 'Depthwise'\n",
        "              }"
      ],
      "execution_count": null,
      "outputs": []
    },
    {
      "cell_type": "code",
      "metadata": {
        "colab": {
          "base_uri": "https://localhost:8080/"
        },
        "id": "xzreHy3SG9Vs",
        "outputId": "d4a00de4-0372-4859-c55a-d1f12cb517c5"
      },
      "source": [
        "bin_params"
      ],
      "execution_count": null,
      "outputs": [
        {
          "output_type": "execute_result",
          "data": {
            "text/plain": [
              "{'auto_class_weights': 'SqrtBalanced', 'depth': 8, 'grow_policy': 'Depthwise'}"
            ]
          },
          "metadata": {},
          "execution_count": 57
        }
      ]
    },
    {
      "cell_type": "code",
      "metadata": {
        "colab": {
          "base_uri": "https://localhost:8080/"
        },
        "id": "nsO7mHMgSgiH",
        "outputId": "be7fa31f-ce0b-477c-c472-45b1f840220f"
      },
      "source": [
        "model = CatBoostClassifier(eval_metric='F1', iterations=300, **bin_params)\n",
        "model.fit(X_train_svd, y_train_svd, eval_set=(X_test_svd, y_test_svd))"
      ],
      "execution_count": null,
      "outputs": [
        {
          "output_type": "stream",
          "name": "stderr",
          "text": [
            "Custom logger is already specified. Specify more than one logger at same time is not thread safe."
          ]
        },
        {
          "output_type": "stream",
          "name": "stdout",
          "text": [
            "Learning rate set to 0.18833\n",
            "0:\tlearn: 0.1081363\ttest: 0.0918956\tbest: 0.0918956 (0)\ttotal: 660ms\tremaining: 3m 17s\n",
            "1:\tlearn: 0.0835182\ttest: 0.0743767\tbest: 0.0918956 (0)\ttotal: 1.29s\tremaining: 3m 11s\n",
            "2:\tlearn: 0.1211223\ttest: 0.0980251\tbest: 0.0980251 (2)\ttotal: 1.91s\tremaining: 3m 9s\n",
            "3:\tlearn: 0.1524680\ttest: 0.1125768\tbest: 0.1125768 (3)\ttotal: 2.54s\tremaining: 3m 8s\n",
            "4:\tlearn: 0.1739373\ttest: 0.1308747\tbest: 0.1308747 (4)\ttotal: 3.22s\tremaining: 3m 10s\n",
            "5:\tlearn: 0.1828965\ttest: 0.1382386\tbest: 0.1382386 (5)\ttotal: 3.88s\tremaining: 3m 10s\n",
            "6:\tlearn: 0.1951069\ttest: 0.1542944\tbest: 0.1542944 (6)\ttotal: 4.48s\tremaining: 3m 7s\n",
            "7:\tlearn: 0.2032581\ttest: 0.1588902\tbest: 0.1588902 (7)\ttotal: 5.1s\tremaining: 3m 6s\n",
            "8:\tlearn: 0.2202174\ttest: 0.1722851\tbest: 0.1722851 (8)\ttotal: 5.76s\tremaining: 3m 6s\n",
            "9:\tlearn: 0.2365280\ttest: 0.1828149\tbest: 0.1828149 (9)\ttotal: 6.36s\tremaining: 3m 4s\n",
            "10:\tlearn: 0.2553239\ttest: 0.1924886\tbest: 0.1924886 (10)\ttotal: 7.02s\tremaining: 3m 4s\n",
            "11:\tlearn: 0.2678510\ttest: 0.2088261\tbest: 0.2088261 (11)\ttotal: 7.65s\tremaining: 3m 3s\n",
            "12:\tlearn: 0.2903962\ttest: 0.2274414\tbest: 0.2274414 (12)\ttotal: 8.29s\tremaining: 3m 3s\n",
            "13:\tlearn: 0.3063706\ttest: 0.2326322\tbest: 0.2326322 (13)\ttotal: 8.95s\tremaining: 3m 2s\n",
            "14:\tlearn: 0.3195338\ttest: 0.2422682\tbest: 0.2422682 (14)\ttotal: 9.6s\tremaining: 3m 2s\n",
            "15:\tlearn: 0.3344743\ttest: 0.2520587\tbest: 0.2520587 (15)\ttotal: 10.2s\tremaining: 3m 1s\n",
            "16:\tlearn: 0.3512662\ttest: 0.2599800\tbest: 0.2599800 (16)\ttotal: 10.9s\tremaining: 3m 1s\n",
            "17:\tlearn: 0.3679724\ttest: 0.2704892\tbest: 0.2704892 (17)\ttotal: 11.5s\tremaining: 3m\n",
            "18:\tlearn: 0.3822719\ttest: 0.2811850\tbest: 0.2811850 (18)\ttotal: 12.2s\tremaining: 3m\n",
            "19:\tlearn: 0.3954706\ttest: 0.2917543\tbest: 0.2917543 (19)\ttotal: 12.8s\tremaining: 2m 59s\n",
            "20:\tlearn: 0.4041627\ttest: 0.2969338\tbest: 0.2969338 (20)\ttotal: 13.5s\tremaining: 2m 59s\n",
            "21:\tlearn: 0.4180941\ttest: 0.3063312\tbest: 0.3063312 (21)\ttotal: 14.1s\tremaining: 2m 57s\n",
            "22:\tlearn: 0.4268853\ttest: 0.3082276\tbest: 0.3082276 (22)\ttotal: 14.6s\tremaining: 2m 55s\n",
            "23:\tlearn: 0.4349137\ttest: 0.3136884\tbest: 0.3136884 (23)\ttotal: 15.2s\tremaining: 2m 55s\n",
            "24:\tlearn: 0.4477555\ttest: 0.3266300\tbest: 0.3266300 (24)\ttotal: 15.9s\tremaining: 2m 54s\n",
            "25:\tlearn: 0.4602187\ttest: 0.3343922\tbest: 0.3343922 (25)\ttotal: 16.5s\tremaining: 2m 53s\n",
            "26:\tlearn: 0.4697151\ttest: 0.3400960\tbest: 0.3400960 (26)\ttotal: 17.1s\tremaining: 2m 53s\n",
            "27:\tlearn: 0.4781391\ttest: 0.3469770\tbest: 0.3469770 (27)\ttotal: 17.7s\tremaining: 2m 52s\n",
            "28:\tlearn: 0.4845307\ttest: 0.3520511\tbest: 0.3520511 (28)\ttotal: 18.3s\tremaining: 2m 51s\n",
            "29:\tlearn: 0.4933226\ttest: 0.3608818\tbest: 0.3608818 (29)\ttotal: 18.9s\tremaining: 2m 50s\n",
            "30:\tlearn: 0.5043003\ttest: 0.3687845\tbest: 0.3687845 (30)\ttotal: 19.6s\tremaining: 2m 50s\n",
            "31:\tlearn: 0.5090865\ttest: 0.3726613\tbest: 0.3726613 (31)\ttotal: 20.2s\tremaining: 2m 49s\n",
            "32:\tlearn: 0.5157753\ttest: 0.3760302\tbest: 0.3760302 (32)\ttotal: 20.8s\tremaining: 2m 48s\n",
            "33:\tlearn: 0.5220414\ttest: 0.3752399\tbest: 0.3760302 (32)\ttotal: 21.5s\tremaining: 2m 48s\n",
            "34:\tlearn: 0.5251115\ttest: 0.3785868\tbest: 0.3785868 (34)\ttotal: 22.1s\tremaining: 2m 47s\n",
            "35:\tlearn: 0.5301437\ttest: 0.3852853\tbest: 0.3852853 (35)\ttotal: 22.7s\tremaining: 2m 46s\n",
            "36:\tlearn: 0.5338230\ttest: 0.3886352\tbest: 0.3886352 (36)\ttotal: 23.3s\tremaining: 2m 45s\n",
            "37:\tlearn: 0.5389562\ttest: 0.3860204\tbest: 0.3886352 (36)\ttotal: 24s\tremaining: 2m 45s\n",
            "38:\tlearn: 0.5456780\ttest: 0.3877526\tbest: 0.3886352 (36)\ttotal: 24.6s\tremaining: 2m 44s\n",
            "39:\tlearn: 0.5541257\ttest: 0.3928167\tbest: 0.3928167 (39)\ttotal: 25.3s\tremaining: 2m 44s\n",
            "40:\tlearn: 0.5593665\ttest: 0.3939835\tbest: 0.3939835 (40)\ttotal: 25.9s\tremaining: 2m 43s\n",
            "41:\tlearn: 0.5630936\ttest: 0.3976396\tbest: 0.3976396 (41)\ttotal: 26.5s\tremaining: 2m 42s\n",
            "42:\tlearn: 0.5690244\ttest: 0.4022927\tbest: 0.4022927 (42)\ttotal: 27.1s\tremaining: 2m 42s\n",
            "43:\tlearn: 0.5748252\ttest: 0.4045233\tbest: 0.4045233 (43)\ttotal: 27.8s\tremaining: 2m 41s\n",
            "44:\tlearn: 0.5797590\ttest: 0.4082610\tbest: 0.4082610 (44)\ttotal: 28.5s\tremaining: 2m 41s\n",
            "45:\tlearn: 0.5853672\ttest: 0.4113704\tbest: 0.4113704 (45)\ttotal: 29.2s\tremaining: 2m 40s\n",
            "46:\tlearn: 0.5895402\ttest: 0.4129038\tbest: 0.4129038 (46)\ttotal: 29.8s\tremaining: 2m 40s\n",
            "47:\tlearn: 0.5930369\ttest: 0.4142790\tbest: 0.4142790 (47)\ttotal: 30.4s\tremaining: 2m 39s\n",
            "48:\tlearn: 0.5986693\ttest: 0.4180479\tbest: 0.4180479 (48)\ttotal: 31s\tremaining: 2m 38s\n",
            "49:\tlearn: 0.6022674\ttest: 0.4175131\tbest: 0.4180479 (48)\ttotal: 31.6s\tremaining: 2m 38s\n",
            "50:\tlearn: 0.6063186\ttest: 0.4176141\tbest: 0.4180479 (48)\ttotal: 32.3s\tremaining: 2m 37s\n",
            "51:\tlearn: 0.6103695\ttest: 0.4202679\tbest: 0.4202679 (51)\ttotal: 32.9s\tremaining: 2m 36s\n",
            "52:\tlearn: 0.6147443\ttest: 0.4226991\tbest: 0.4226991 (52)\ttotal: 33.5s\tremaining: 2m 36s\n",
            "53:\tlearn: 0.6199434\ttest: 0.4228167\tbest: 0.4228167 (53)\ttotal: 34.1s\tremaining: 2m 35s\n",
            "54:\tlearn: 0.6265722\ttest: 0.4278243\tbest: 0.4278243 (54)\ttotal: 34.8s\tremaining: 2m 34s\n",
            "55:\tlearn: 0.6297624\ttest: 0.4301864\tbest: 0.4301864 (55)\ttotal: 35.4s\tremaining: 2m 34s\n",
            "56:\tlearn: 0.6365195\ttest: 0.4334835\tbest: 0.4334835 (56)\ttotal: 36.1s\tremaining: 2m 33s\n",
            "57:\tlearn: 0.6376809\ttest: 0.4354251\tbest: 0.4354251 (57)\ttotal: 36.7s\tremaining: 2m 33s\n",
            "58:\tlearn: 0.6430637\ttest: 0.4359787\tbest: 0.4359787 (58)\ttotal: 37.4s\tremaining: 2m 32s\n",
            "59:\tlearn: 0.6482766\ttest: 0.4412938\tbest: 0.4412938 (59)\ttotal: 38s\tremaining: 2m 32s\n",
            "60:\tlearn: 0.6515708\ttest: 0.4429835\tbest: 0.4429835 (60)\ttotal: 38.7s\tremaining: 2m 31s\n",
            "61:\tlearn: 0.6534954\ttest: 0.4428764\tbest: 0.4429835 (60)\ttotal: 39.3s\tremaining: 2m 30s\n",
            "62:\tlearn: 0.6594648\ttest: 0.4449073\tbest: 0.4449073 (62)\ttotal: 39.9s\tremaining: 2m 30s\n",
            "63:\tlearn: 0.6631657\ttest: 0.4455070\tbest: 0.4455070 (63)\ttotal: 40.6s\tremaining: 2m 29s\n",
            "64:\tlearn: 0.6670111\ttest: 0.4468293\tbest: 0.4468293 (64)\ttotal: 41.1s\tremaining: 2m 28s\n",
            "65:\tlearn: 0.6710874\ttest: 0.4483293\tbest: 0.4483293 (65)\ttotal: 41.9s\tremaining: 2m 28s\n",
            "66:\tlearn: 0.6735035\ttest: 0.4512778\tbest: 0.4512778 (66)\ttotal: 42.5s\tremaining: 2m 27s\n",
            "67:\tlearn: 0.6769585\ttest: 0.4490609\tbest: 0.4512778 (66)\ttotal: 43.1s\tremaining: 2m 26s\n",
            "68:\tlearn: 0.6826824\ttest: 0.4538870\tbest: 0.4538870 (68)\ttotal: 43.7s\tremaining: 2m 26s\n",
            "69:\tlearn: 0.6868670\ttest: 0.4543582\tbest: 0.4543582 (69)\ttotal: 44.3s\tremaining: 2m 25s\n",
            "70:\tlearn: 0.6921210\ttest: 0.4532553\tbest: 0.4543582 (69)\ttotal: 44.9s\tremaining: 2m 24s\n",
            "71:\tlearn: 0.6980935\ttest: 0.4554581\tbest: 0.4554581 (71)\ttotal: 45.6s\tremaining: 2m 24s\n",
            "72:\tlearn: 0.7051389\ttest: 0.4574513\tbest: 0.4574513 (72)\ttotal: 46.2s\tremaining: 2m 23s\n",
            "73:\tlearn: 0.7089047\ttest: 0.4610752\tbest: 0.4610752 (73)\ttotal: 46.8s\tremaining: 2m 22s\n",
            "74:\tlearn: 0.7145180\ttest: 0.4650987\tbest: 0.4650987 (74)\ttotal: 47.4s\tremaining: 2m 22s\n",
            "75:\tlearn: 0.7187320\ttest: 0.4692153\tbest: 0.4692153 (75)\ttotal: 47.9s\tremaining: 2m 21s\n",
            "76:\tlearn: 0.7233709\ttest: 0.4685065\tbest: 0.4692153 (75)\ttotal: 48.5s\tremaining: 2m 20s\n",
            "77:\tlearn: 0.7265324\ttest: 0.4673728\tbest: 0.4692153 (75)\ttotal: 49.1s\tremaining: 2m 19s\n",
            "78:\tlearn: 0.7304162\ttest: 0.4677088\tbest: 0.4692153 (75)\ttotal: 49.8s\tremaining: 2m 19s\n",
            "79:\tlearn: 0.7333119\ttest: 0.4699680\tbest: 0.4699680 (79)\ttotal: 50.4s\tremaining: 2m 18s\n",
            "80:\tlearn: 0.7379297\ttest: 0.4706986\tbest: 0.4706986 (80)\ttotal: 51s\tremaining: 2m 17s\n",
            "81:\tlearn: 0.7425929\ttest: 0.4733060\tbest: 0.4733060 (81)\ttotal: 51.6s\tremaining: 2m 17s\n",
            "82:\tlearn: 0.7480942\ttest: 0.4752422\tbest: 0.4752422 (82)\ttotal: 52.2s\tremaining: 2m 16s\n",
            "83:\tlearn: 0.7525991\ttest: 0.4777995\tbest: 0.4777995 (83)\ttotal: 52.9s\tremaining: 2m 15s\n",
            "84:\tlearn: 0.7568388\ttest: 0.4789348\tbest: 0.4789348 (84)\ttotal: 53.5s\tremaining: 2m 15s\n",
            "85:\tlearn: 0.7605670\ttest: 0.4799137\tbest: 0.4799137 (85)\ttotal: 54.1s\tremaining: 2m 14s\n",
            "86:\tlearn: 0.7636419\ttest: 0.4799047\tbest: 0.4799137 (85)\ttotal: 54.7s\tremaining: 2m 13s\n",
            "87:\tlearn: 0.7662917\ttest: 0.4806581\tbest: 0.4806581 (87)\ttotal: 55.3s\tremaining: 2m 13s\n",
            "88:\tlearn: 0.7698011\ttest: 0.4818882\tbest: 0.4818882 (88)\ttotal: 55.9s\tremaining: 2m 12s\n",
            "89:\tlearn: 0.7732091\ttest: 0.4836970\tbest: 0.4836970 (89)\ttotal: 56.5s\tremaining: 2m 11s\n",
            "90:\tlearn: 0.7764428\ttest: 0.4831185\tbest: 0.4836970 (89)\ttotal: 57.1s\tremaining: 2m 11s\n",
            "91:\tlearn: 0.7779142\ttest: 0.4863361\tbest: 0.4863361 (91)\ttotal: 57.6s\tremaining: 2m 10s\n",
            "92:\tlearn: 0.7830356\ttest: 0.4883654\tbest: 0.4883654 (92)\ttotal: 58.3s\tremaining: 2m 9s\n",
            "93:\tlearn: 0.7855003\ttest: 0.4908392\tbest: 0.4908392 (93)\ttotal: 58.9s\tremaining: 2m 9s\n",
            "94:\tlearn: 0.7870591\ttest: 0.4919888\tbest: 0.4919888 (94)\ttotal: 59.5s\tremaining: 2m 8s\n",
            "95:\tlearn: 0.7906386\ttest: 0.4934174\tbest: 0.4934174 (95)\ttotal: 1m\tremaining: 2m 7s\n",
            "96:\tlearn: 0.7931184\ttest: 0.4950757\tbest: 0.4950757 (96)\ttotal: 1m\tremaining: 2m 7s\n",
            "97:\tlearn: 0.7949466\ttest: 0.4946515\tbest: 0.4950757 (96)\ttotal: 1m 1s\tremaining: 2m 6s\n",
            "98:\tlearn: 0.7983603\ttest: 0.4950325\tbest: 0.4950757 (96)\ttotal: 1m 1s\tremaining: 2m 5s\n",
            "99:\tlearn: 0.8021843\ttest: 0.4940759\tbest: 0.4950757 (96)\ttotal: 1m 2s\tremaining: 2m 5s\n",
            "100:\tlearn: 0.8052518\ttest: 0.4946259\tbest: 0.4950757 (96)\ttotal: 1m 3s\tremaining: 2m 4s\n",
            "101:\tlearn: 0.8092092\ttest: 0.4974469\tbest: 0.4974469 (101)\ttotal: 1m 3s\tremaining: 2m 3s\n",
            "102:\tlearn: 0.8118472\ttest: 0.4980853\tbest: 0.4980853 (102)\ttotal: 1m 4s\tremaining: 2m 3s\n",
            "103:\tlearn: 0.8143921\ttest: 0.5003576\tbest: 0.5003576 (103)\ttotal: 1m 5s\tremaining: 2m 2s\n",
            "104:\tlearn: 0.8161999\ttest: 0.5006616\tbest: 0.5006616 (104)\ttotal: 1m 5s\tremaining: 2m 1s\n",
            "105:\tlearn: 0.8185823\ttest: 0.5011325\tbest: 0.5011325 (105)\ttotal: 1m 6s\tremaining: 2m 1s\n",
            "106:\tlearn: 0.8204196\ttest: 0.5005826\tbest: 0.5011325 (105)\ttotal: 1m 6s\tremaining: 2m\n",
            "107:\tlearn: 0.8225523\ttest: 0.4986063\tbest: 0.5011325 (105)\ttotal: 1m 7s\tremaining: 1m 59s\n",
            "108:\tlearn: 0.8258331\ttest: 0.4996170\tbest: 0.5011325 (105)\ttotal: 1m 8s\tremaining: 1m 59s\n",
            "109:\tlearn: 0.8292551\ttest: 0.5001832\tbest: 0.5011325 (105)\ttotal: 1m 8s\tremaining: 1m 58s\n",
            "110:\tlearn: 0.8320282\ttest: 0.5036969\tbest: 0.5036969 (110)\ttotal: 1m 9s\tremaining: 1m 58s\n",
            "111:\tlearn: 0.8342029\ttest: 0.5037844\tbest: 0.5037844 (111)\ttotal: 1m 10s\tremaining: 1m 57s\n",
            "112:\tlearn: 0.8367928\ttest: 0.5036221\tbest: 0.5037844 (111)\ttotal: 1m 10s\tremaining: 1m 56s\n",
            "113:\tlearn: 0.8388955\ttest: 0.5035347\tbest: 0.5037844 (111)\ttotal: 1m 11s\tremaining: 1m 56s\n",
            "114:\tlearn: 0.8421983\ttest: 0.5047464\tbest: 0.5047464 (114)\ttotal: 1m 11s\tremaining: 1m 55s\n",
            "115:\tlearn: 0.8448004\ttest: 0.5039753\tbest: 0.5047464 (114)\ttotal: 1m 12s\tremaining: 1m 55s\n",
            "116:\tlearn: 0.8462961\ttest: 0.5058348\tbest: 0.5058348 (116)\ttotal: 1m 13s\tremaining: 1m 54s\n",
            "117:\tlearn: 0.8472706\ttest: 0.5073821\tbest: 0.5073821 (117)\ttotal: 1m 13s\tremaining: 1m 53s\n",
            "118:\tlearn: 0.8478525\ttest: 0.5070865\tbest: 0.5073821 (117)\ttotal: 1m 14s\tremaining: 1m 53s\n",
            "119:\tlearn: 0.8491517\ttest: 0.5054594\tbest: 0.5073821 (117)\ttotal: 1m 14s\tremaining: 1m 52s\n",
            "120:\tlearn: 0.8506724\ttest: 0.5058672\tbest: 0.5073821 (117)\ttotal: 1m 15s\tremaining: 1m 51s\n",
            "121:\tlearn: 0.8520337\ttest: 0.5045786\tbest: 0.5073821 (117)\ttotal: 1m 16s\tremaining: 1m 51s\n",
            "122:\tlearn: 0.8545102\ttest: 0.5067462\tbest: 0.5073821 (117)\ttotal: 1m 16s\tremaining: 1m 50s\n",
            "123:\tlearn: 0.8556229\ttest: 0.5079546\tbest: 0.5079546 (123)\ttotal: 1m 17s\tremaining: 1m 49s\n",
            "124:\tlearn: 0.8566293\ttest: 0.5089746\tbest: 0.5089746 (124)\ttotal: 1m 17s\tremaining: 1m 49s\n",
            "125:\tlearn: 0.8578477\ttest: 0.5098199\tbest: 0.5098199 (125)\ttotal: 1m 18s\tremaining: 1m 48s\n",
            "126:\tlearn: 0.8590162\ttest: 0.5097851\tbest: 0.5098199 (125)\ttotal: 1m 19s\tremaining: 1m 47s\n",
            "127:\tlearn: 0.8608750\ttest: 0.5093910\tbest: 0.5098199 (125)\ttotal: 1m 19s\tremaining: 1m 47s\n",
            "128:\tlearn: 0.8622152\ttest: 0.5097095\tbest: 0.5098199 (125)\ttotal: 1m 20s\tremaining: 1m 46s\n",
            "129:\tlearn: 0.8633518\ttest: 0.5107183\tbest: 0.5107183 (129)\ttotal: 1m 20s\tremaining: 1m 45s\n",
            "130:\tlearn: 0.8642937\ttest: 0.5092641\tbest: 0.5107183 (129)\ttotal: 1m 21s\tremaining: 1m 45s\n",
            "131:\tlearn: 0.8659301\ttest: 0.5109617\tbest: 0.5109617 (131)\ttotal: 1m 22s\tremaining: 1m 44s\n",
            "132:\tlearn: 0.8667913\ttest: 0.5121199\tbest: 0.5121199 (132)\ttotal: 1m 22s\tremaining: 1m 43s\n",
            "133:\tlearn: 0.8675410\ttest: 0.5127046\tbest: 0.5127046 (133)\ttotal: 1m 23s\tremaining: 1m 43s\n",
            "134:\tlearn: 0.8692834\ttest: 0.5114883\tbest: 0.5127046 (133)\ttotal: 1m 24s\tremaining: 1m 42s\n",
            "135:\tlearn: 0.8708538\ttest: 0.5123940\tbest: 0.5127046 (133)\ttotal: 1m 24s\tremaining: 1m 42s\n",
            "136:\tlearn: 0.8715642\ttest: 0.5114661\tbest: 0.5127046 (133)\ttotal: 1m 25s\tremaining: 1m 41s\n",
            "137:\tlearn: 0.8733345\ttest: 0.5127347\tbest: 0.5127347 (137)\ttotal: 1m 25s\tremaining: 1m 40s\n",
            "138:\tlearn: 0.8745151\ttest: 0.5129644\tbest: 0.5129644 (138)\ttotal: 1m 26s\tremaining: 1m 40s\n",
            "139:\tlearn: 0.8754826\ttest: 0.5124685\tbest: 0.5129644 (138)\ttotal: 1m 27s\tremaining: 1m 39s\n",
            "140:\tlearn: 0.8763219\ttest: 0.5135496\tbest: 0.5135496 (140)\ttotal: 1m 27s\tremaining: 1m 38s\n",
            "141:\tlearn: 0.8770535\ttest: 0.5140377\tbest: 0.5140377 (141)\ttotal: 1m 28s\tremaining: 1m 38s\n",
            "142:\tlearn: 0.8770648\ttest: 0.5145405\tbest: 0.5145405 (142)\ttotal: 1m 28s\tremaining: 1m 37s\n",
            "143:\tlearn: 0.8777144\ttest: 0.5135496\tbest: 0.5145405 (142)\ttotal: 1m 29s\tremaining: 1m 36s\n",
            "144:\tlearn: 0.8793603\ttest: 0.5143184\tbest: 0.5145405 (142)\ttotal: 1m 30s\tremaining: 1m 36s\n",
            "145:\tlearn: 0.8806656\ttest: 0.5158700\tbest: 0.5158700 (145)\ttotal: 1m 30s\tremaining: 1m 35s\n",
            "146:\tlearn: 0.8816251\ttest: 0.5165176\tbest: 0.5165176 (146)\ttotal: 1m 31s\tremaining: 1m 35s\n",
            "147:\tlearn: 0.8824608\ttest: 0.5162890\tbest: 0.5165176 (146)\ttotal: 1m 31s\tremaining: 1m 34s\n",
            "148:\tlearn: 0.8826260\ttest: 0.5171140\tbest: 0.5171140 (148)\ttotal: 1m 32s\tremaining: 1m 33s\n",
            "149:\tlearn: 0.8834117\ttest: 0.5169970\tbest: 0.5171140 (148)\ttotal: 1m 33s\tremaining: 1m 33s\n",
            "150:\tlearn: 0.8840478\ttest: 0.5165845\tbest: 0.5171140 (148)\ttotal: 1m 33s\tremaining: 1m 32s\n",
            "151:\tlearn: 0.8850222\ttest: 0.5157142\tbest: 0.5171140 (148)\ttotal: 1m 34s\tremaining: 1m 31s\n",
            "152:\tlearn: 0.8853548\ttest: 0.5154726\tbest: 0.5171140 (148)\ttotal: 1m 34s\tremaining: 1m 31s\n",
            "153:\tlearn: 0.8865001\ttest: 0.5147116\tbest: 0.5171140 (148)\ttotal: 1m 35s\tremaining: 1m 30s\n",
            "154:\tlearn: 0.8881255\ttest: 0.5149854\tbest: 0.5171140 (148)\ttotal: 1m 36s\tremaining: 1m 30s\n",
            "155:\tlearn: 0.8881873\ttest: 0.5167514\tbest: 0.5171140 (148)\ttotal: 1m 36s\tremaining: 1m 29s\n",
            "156:\tlearn: 0.8883383\ttest: 0.5161030\tbest: 0.5171140 (148)\ttotal: 1m 37s\tremaining: 1m 28s\n",
            "157:\tlearn: 0.8890816\ttest: 0.5170641\tbest: 0.5171140 (148)\ttotal: 1m 38s\tremaining: 1m 28s\n",
            "158:\tlearn: 0.8897289\ttest: 0.5156063\tbest: 0.5171140 (148)\ttotal: 1m 38s\tremaining: 1m 27s\n",
            "159:\tlearn: 0.8905629\ttest: 0.5163098\tbest: 0.5171140 (148)\ttotal: 1m 39s\tremaining: 1m 26s\n",
            "160:\tlearn: 0.8910047\ttest: 0.5168687\tbest: 0.5171140 (148)\ttotal: 1m 39s\tremaining: 1m 26s\n",
            "161:\tlearn: 0.8910143\ttest: 0.5174826\tbest: 0.5174826 (161)\ttotal: 1m 40s\tremaining: 1m 25s\n",
            "162:\tlearn: 0.8920961\ttest: 0.5185590\tbest: 0.5185590 (162)\ttotal: 1m 41s\tremaining: 1m 24s\n",
            "163:\tlearn: 0.8923864\ttest: 0.5175050\tbest: 0.5185590 (162)\ttotal: 1m 41s\tremaining: 1m 24s\n",
            "164:\tlearn: 0.8925866\ttest: 0.5174880\tbest: 0.5185590 (162)\ttotal: 1m 42s\tremaining: 1m 23s\n",
            "165:\tlearn: 0.8934860\ttest: 0.5188593\tbest: 0.5188593 (165)\ttotal: 1m 42s\tremaining: 1m 23s\n",
            "166:\tlearn: 0.8941040\ttest: 0.5185014\tbest: 0.5188593 (165)\ttotal: 1m 43s\tremaining: 1m 22s\n",
            "167:\tlearn: 0.8952999\ttest: 0.5178112\tbest: 0.5188593 (165)\ttotal: 1m 44s\tremaining: 1m 21s\n",
            "168:\tlearn: 0.8955598\ttest: 0.5183031\tbest: 0.5188593 (165)\ttotal: 1m 44s\tremaining: 1m 21s\n",
            "169:\tlearn: 0.8962638\ttest: 0.5174156\tbest: 0.5188593 (165)\ttotal: 1m 45s\tremaining: 1m 20s\n",
            "170:\tlearn: 0.8968194\ttest: 0.5185190\tbest: 0.5188593 (165)\ttotal: 1m 46s\tremaining: 1m 20s\n",
            "171:\tlearn: 0.8971760\ttest: 0.5191324\tbest: 0.5191324 (171)\ttotal: 1m 46s\tremaining: 1m 19s\n",
            "172:\tlearn: 0.8979098\ttest: 0.5203936\tbest: 0.5203936 (172)\ttotal: 1m 47s\tremaining: 1m 18s\n",
            "173:\tlearn: 0.8984136\ttest: 0.5218984\tbest: 0.5218984 (173)\ttotal: 1m 47s\tremaining: 1m 18s\n",
            "174:\tlearn: 0.8985122\ttest: 0.5218085\tbest: 0.5218984 (173)\ttotal: 1m 48s\tremaining: 1m 17s\n",
            "175:\tlearn: 0.8990547\ttest: 0.5218759\tbest: 0.5218984 (173)\ttotal: 1m 48s\tremaining: 1m 16s\n",
            "176:\tlearn: 0.8992628\ttest: 0.5217381\tbest: 0.5218984 (173)\ttotal: 1m 49s\tremaining: 1m 16s\n",
            "177:\tlearn: 0.8995297\ttest: 0.5219238\tbest: 0.5219238 (177)\ttotal: 1m 49s\tremaining: 1m 15s\n",
            "178:\tlearn: 0.8998750\ttest: 0.5218954\tbest: 0.5219238 (177)\ttotal: 1m 50s\tremaining: 1m 14s\n",
            "179:\tlearn: 0.9005873\ttest: 0.5224156\tbest: 0.5224156 (179)\ttotal: 1m 51s\tremaining: 1m 14s\n",
            "180:\tlearn: 0.9007536\ttest: 0.5238062\tbest: 0.5238062 (180)\ttotal: 1m 51s\tremaining: 1m 13s\n",
            "181:\tlearn: 0.9016548\ttest: 0.5246494\tbest: 0.5246494 (181)\ttotal: 1m 52s\tremaining: 1m 12s\n",
            "182:\tlearn: 0.9018384\ttest: 0.5249681\tbest: 0.5249681 (182)\ttotal: 1m 52s\tremaining: 1m 12s\n",
            "183:\tlearn: 0.9025259\ttest: 0.5239678\tbest: 0.5249681 (182)\ttotal: 1m 53s\tremaining: 1m 11s\n",
            "184:\tlearn: 0.9028931\ttest: 0.5239885\tbest: 0.5249681 (182)\ttotal: 1m 53s\tremaining: 1m 10s\n",
            "185:\tlearn: 0.9036519\ttest: 0.5241986\tbest: 0.5249681 (182)\ttotal: 1m 54s\tremaining: 1m 10s\n",
            "186:\tlearn: 0.9044836\ttest: 0.5239021\tbest: 0.5249681 (182)\ttotal: 1m 55s\tremaining: 1m 9s\n",
            "187:\tlearn: 0.9051460\ttest: 0.5251061\tbest: 0.5251061 (187)\ttotal: 1m 55s\tremaining: 1m 8s\n",
            "188:\tlearn: 0.9055314\ttest: 0.5241743\tbest: 0.5251061 (187)\ttotal: 1m 56s\tremaining: 1m 8s\n",
            "189:\tlearn: 0.9059806\ttest: 0.5252189\tbest: 0.5252189 (189)\ttotal: 1m 56s\tremaining: 1m 7s\n",
            "190:\tlearn: 0.9061856\ttest: 0.5262395\tbest: 0.5262395 (190)\ttotal: 1m 57s\tremaining: 1m 7s\n",
            "191:\tlearn: 0.9065208\ttest: 0.5260573\tbest: 0.5262395 (190)\ttotal: 1m 58s\tremaining: 1m 6s\n",
            "192:\tlearn: 0.9069082\ttest: 0.5265790\tbest: 0.5265790 (192)\ttotal: 1m 58s\tremaining: 1m 5s\n",
            "193:\tlearn: 0.9070774\ttest: 0.5266238\tbest: 0.5266238 (193)\ttotal: 1m 59s\tremaining: 1m 5s\n",
            "194:\tlearn: 0.9073865\ttest: 0.5288879\tbest: 0.5288879 (194)\ttotal: 1m 59s\tremaining: 1m 4s\n",
            "195:\tlearn: 0.9077627\ttest: 0.5282550\tbest: 0.5288879 (194)\ttotal: 2m\tremaining: 1m 3s\n",
            "196:\tlearn: 0.9079003\ttest: 0.5270763\tbest: 0.5288879 (194)\ttotal: 2m\tremaining: 1m 3s\n",
            "197:\tlearn: 0.9082945\ttest: 0.5287089\tbest: 0.5288879 (194)\ttotal: 2m 1s\tremaining: 1m 2s\n",
            "198:\tlearn: 0.9083484\ttest: 0.5268267\tbest: 0.5288879 (194)\ttotal: 2m 2s\tremaining: 1m 2s\n",
            "199:\tlearn: 0.9086958\ttest: 0.5259854\tbest: 0.5288879 (194)\ttotal: 2m 2s\tremaining: 1m 1s\n",
            "200:\tlearn: 0.9088612\ttest: 0.5264626\tbest: 0.5288879 (194)\ttotal: 2m 3s\tremaining: 1m\n",
            "201:\tlearn: 0.9093380\ttest: 0.5264179\tbest: 0.5288879 (194)\ttotal: 2m 4s\tremaining: 1m\n",
            "202:\tlearn: 0.9096464\ttest: 0.5260768\tbest: 0.5288879 (194)\ttotal: 2m 4s\tremaining: 59.6s\n",
            "203:\tlearn: 0.9097586\ttest: 0.5261907\tbest: 0.5288879 (194)\ttotal: 2m 5s\tremaining: 58.9s\n",
            "204:\tlearn: 0.9102394\ttest: 0.5266676\tbest: 0.5288879 (194)\ttotal: 2m 5s\tremaining: 58.3s\n",
            "205:\tlearn: 0.9105121\ttest: 0.5270310\tbest: 0.5288879 (194)\ttotal: 2m 6s\tremaining: 57.6s\n",
            "206:\tlearn: 0.9108332\ttest: 0.5291173\tbest: 0.5291173 (206)\ttotal: 2m 6s\tremaining: 57s\n",
            "207:\tlearn: 0.9112313\ttest: 0.5295011\tbest: 0.5295011 (207)\ttotal: 2m 7s\tremaining: 56.4s\n",
            "208:\tlearn: 0.9115058\ttest: 0.5290476\tbest: 0.5295011 (207)\ttotal: 2m 8s\tremaining: 55.8s\n",
            "209:\tlearn: 0.9117210\ttest: 0.5271442\tbest: 0.5295011 (207)\ttotal: 2m 8s\tremaining: 55.2s\n",
            "210:\tlearn: 0.9118587\ttest: 0.5277116\tbest: 0.5295011 (207)\ttotal: 2m 9s\tremaining: 54.5s\n",
            "211:\tlearn: 0.9122522\ttest: 0.5285732\tbest: 0.5295011 (207)\ttotal: 2m 9s\tremaining: 53.9s\n",
            "212:\tlearn: 0.9122725\ttest: 0.5272575\tbest: 0.5295011 (207)\ttotal: 2m 10s\tremaining: 53.3s\n",
            "213:\tlearn: 0.9127932\ttest: 0.5273259\tbest: 0.5295011 (207)\ttotal: 2m 11s\tremaining: 52.7s\n",
            "214:\tlearn: 0.9131908\ttest: 0.5286408\tbest: 0.5295011 (207)\ttotal: 2m 11s\tremaining: 52.1s\n",
            "215:\tlearn: 0.9132290\ttest: 0.5289582\tbest: 0.5295011 (207)\ttotal: 2m 12s\tremaining: 51.4s\n",
            "216:\tlearn: 0.9133665\ttest: 0.5283238\tbest: 0.5295011 (207)\ttotal: 2m 12s\tremaining: 50.8s\n",
            "217:\tlearn: 0.9134066\ttest: 0.5273713\tbest: 0.5295011 (207)\ttotal: 2m 13s\tremaining: 50.2s\n",
            "218:\tlearn: 0.9136592\ttest: 0.5297286\tbest: 0.5297286 (218)\ttotal: 2m 14s\tremaining: 49.6s\n",
            "219:\tlearn: 0.9139921\ttest: 0.5278933\tbest: 0.5297286 (218)\ttotal: 2m 14s\tremaining: 49s\n",
            "220:\tlearn: 0.9146958\ttest: 0.5292302\tbest: 0.5297286 (218)\ttotal: 2m 15s\tremaining: 48.4s\n",
            "221:\tlearn: 0.9148838\ttest: 0.5298855\tbest: 0.5298855 (221)\ttotal: 2m 15s\tremaining: 47.7s\n",
            "222:\tlearn: 0.9151548\ttest: 0.5301345\tbest: 0.5301345 (222)\ttotal: 2m 16s\tremaining: 47.1s\n",
            "223:\tlearn: 0.9153212\ttest: 0.5294102\tbest: 0.5301345 (222)\ttotal: 2m 16s\tremaining: 46.5s\n",
            "224:\tlearn: 0.9154893\ttest: 0.5301786\tbest: 0.5301786 (224)\ttotal: 2m 17s\tremaining: 45.8s\n",
            "225:\tlearn: 0.9156527\ttest: 0.5296604\tbest: 0.5301786 (224)\ttotal: 2m 18s\tremaining: 45.2s\n",
            "226:\tlearn: 0.9156646\ttest: 0.5294112\tbest: 0.5301786 (224)\ttotal: 2m 18s\tremaining: 44.6s\n",
            "227:\tlearn: 0.9161823\ttest: 0.5307185\tbest: 0.5307185 (227)\ttotal: 2m 19s\tremaining: 44s\n",
            "228:\tlearn: 0.9165360\ttest: 0.5310144\tbest: 0.5310144 (228)\ttotal: 2m 19s\tremaining: 43.4s\n",
            "229:\tlearn: 0.9169490\ttest: 0.5320726\tbest: 0.5320726 (229)\ttotal: 2m 20s\tremaining: 42.8s\n",
            "230:\tlearn: 0.9170216\ttest: 0.5322957\tbest: 0.5322957 (230)\ttotal: 2m 21s\tremaining: 42.1s\n",
            "231:\tlearn: 0.9170598\ttest: 0.5327236\tbest: 0.5327236 (231)\ttotal: 2m 21s\tremaining: 41.5s\n",
            "232:\tlearn: 0.9172265\ttest: 0.5316876\tbest: 0.5327236 (231)\ttotal: 2m 22s\tremaining: 40.9s\n",
            "233:\tlearn: 0.9173614\ttest: 0.5313294\tbest: 0.5327236 (231)\ttotal: 2m 22s\tremaining: 40.3s\n",
            "234:\tlearn: 0.9174441\ttest: 0.5313047\tbest: 0.5327236 (231)\ttotal: 2m 23s\tremaining: 39.6s\n",
            "235:\tlearn: 0.9174460\ttest: 0.5322045\tbest: 0.5327236 (231)\ttotal: 2m 23s\tremaining: 39s\n",
            "236:\tlearn: 0.9175345\ttest: 0.5324729\tbest: 0.5327236 (231)\ttotal: 2m 24s\tremaining: 38.4s\n",
            "237:\tlearn: 0.9176027\ttest: 0.5330828\tbest: 0.5330828 (237)\ttotal: 2m 24s\tremaining: 37.8s\n",
            "238:\tlearn: 0.9177211\ttest: 0.5324982\tbest: 0.5330828 (237)\ttotal: 2m 25s\tremaining: 37.2s\n",
            "239:\tlearn: 0.9177430\ttest: 0.5321866\tbest: 0.5330828 (237)\ttotal: 2m 26s\tremaining: 36.5s\n",
            "240:\tlearn: 0.9178413\ttest: 0.5306308\tbest: 0.5330828 (237)\ttotal: 2m 26s\tremaining: 35.9s\n",
            "241:\tlearn: 0.9178956\ttest: 0.5318698\tbest: 0.5330828 (237)\ttotal: 2m 27s\tremaining: 35.3s\n",
            "242:\tlearn: 0.9183288\ttest: 0.5319177\tbest: 0.5330828 (237)\ttotal: 2m 28s\tremaining: 34.7s\n",
            "243:\tlearn: 0.9186493\ttest: 0.5317125\tbest: 0.5330828 (237)\ttotal: 2m 28s\tremaining: 34.1s\n",
            "244:\tlearn: 0.9186796\ttest: 0.5318059\tbest: 0.5330828 (237)\ttotal: 2m 29s\tremaining: 33.5s\n",
            "245:\tlearn: 0.9187200\ttest: 0.5317853\tbest: 0.5330828 (237)\ttotal: 2m 29s\tremaining: 32.9s\n",
            "246:\tlearn: 0.9188664\ttest: 0.5307707\tbest: 0.5330828 (237)\ttotal: 2m 30s\tremaining: 32.3s\n",
            "247:\tlearn: 0.9189799\ttest: 0.5312194\tbest: 0.5330828 (237)\ttotal: 2m 31s\tremaining: 31.7s\n",
            "248:\tlearn: 0.9190058\ttest: 0.5325719\tbest: 0.5330828 (237)\ttotal: 2m 31s\tremaining: 31.1s\n",
            "249:\tlearn: 0.9190810\ttest: 0.5312461\tbest: 0.5330828 (237)\ttotal: 2m 32s\tremaining: 30.5s\n",
            "250:\tlearn: 0.9193971\ttest: 0.5322828\tbest: 0.5330828 (237)\ttotal: 2m 33s\tremaining: 29.9s\n",
            "251:\tlearn: 0.9195085\ttest: 0.5319428\tbest: 0.5330828 (237)\ttotal: 2m 33s\tremaining: 29.3s\n",
            "252:\tlearn: 0.9195846\ttest: 0.5322371\tbest: 0.5330828 (237)\ttotal: 2m 34s\tremaining: 28.7s\n",
            "253:\tlearn: 0.9196995\ttest: 0.5329317\tbest: 0.5330828 (237)\ttotal: 2m 34s\tremaining: 28s\n",
            "254:\tlearn: 0.9197554\ttest: 0.5336536\tbest: 0.5336536 (254)\ttotal: 2m 35s\tremaining: 27.4s\n",
            "255:\tlearn: 0.9197539\ttest: 0.5344633\tbest: 0.5344633 (255)\ttotal: 2m 35s\tremaining: 26.8s\n",
            "256:\tlearn: 0.9199230\ttest: 0.5349744\tbest: 0.5349744 (256)\ttotal: 2m 36s\tremaining: 26.2s\n",
            "257:\tlearn: 0.9199845\ttest: 0.5333110\tbest: 0.5349744 (256)\ttotal: 2m 37s\tremaining: 25.6s\n",
            "258:\tlearn: 0.9200612\ttest: 0.5329573\tbest: 0.5349744 (256)\ttotal: 2m 37s\tremaining: 25s\n",
            "259:\tlearn: 0.9200433\ttest: 0.5328688\tbest: 0.5349744 (256)\ttotal: 2m 38s\tremaining: 24.4s\n",
            "260:\tlearn: 0.9201785\ttest: 0.5332257\tbest: 0.5349744 (256)\ttotal: 2m 39s\tremaining: 23.8s\n",
            "261:\tlearn: 0.9202623\ttest: 0.5328175\tbest: 0.5349744 (256)\ttotal: 2m 39s\tremaining: 23.1s\n",
            "262:\tlearn: 0.9203037\ttest: 0.5318470\tbest: 0.5349744 (256)\ttotal: 2m 40s\tremaining: 22.5s\n",
            "263:\tlearn: 0.9202766\ttest: 0.5314868\tbest: 0.5349744 (256)\ttotal: 2m 40s\tremaining: 21.9s\n",
            "264:\tlearn: 0.9202766\ttest: 0.5313522\tbest: 0.5349744 (256)\ttotal: 2m 41s\tremaining: 21.3s\n",
            "265:\tlearn: 0.9202867\ttest: 0.5325464\tbest: 0.5349744 (256)\ttotal: 2m 41s\tremaining: 20.7s\n",
            "266:\tlearn: 0.9203612\ttest: 0.5330002\tbest: 0.5349744 (256)\ttotal: 2m 42s\tremaining: 20.1s\n",
            "267:\tlearn: 0.9204719\ttest: 0.5330658\tbest: 0.5349744 (256)\ttotal: 2m 43s\tremaining: 19.5s\n",
            "268:\tlearn: 0.9204898\ttest: 0.5330886\tbest: 0.5349744 (256)\ttotal: 2m 43s\tremaining: 18.9s\n",
            "269:\tlearn: 0.9205455\ttest: 0.5326377\tbest: 0.5349744 (256)\ttotal: 2m 44s\tremaining: 18.3s\n",
            "270:\tlearn: 0.9205856\ttest: 0.5328404\tbest: 0.5349744 (256)\ttotal: 2m 44s\tremaining: 17.6s\n",
            "271:\tlearn: 0.9206035\ttest: 0.5325491\tbest: 0.5349744 (256)\ttotal: 2m 45s\tremaining: 17s\n",
            "272:\tlearn: 0.9206949\ttest: 0.5321890\tbest: 0.5349744 (256)\ttotal: 2m 46s\tremaining: 16.4s\n",
            "273:\tlearn: 0.9206993\ttest: 0.5323488\tbest: 0.5349744 (256)\ttotal: 2m 46s\tremaining: 15.8s\n",
            "274:\tlearn: 0.9206658\ttest: 0.5321026\tbest: 0.5349744 (256)\ttotal: 2m 47s\tremaining: 15.2s\n",
            "275:\tlearn: 0.9206881\ttest: 0.5318766\tbest: 0.5349744 (256)\ttotal: 2m 47s\tremaining: 14.6s\n",
            "276:\tlearn: 0.9207829\ttest: 0.5325745\tbest: 0.5349744 (256)\ttotal: 2m 48s\tremaining: 14s\n",
            "277:\tlearn: 0.9208130\ttest: 0.5327089\tbest: 0.5349744 (256)\ttotal: 2m 49s\tremaining: 13.4s\n",
            "278:\tlearn: 0.9208921\ttest: 0.5320774\tbest: 0.5349744 (256)\ttotal: 2m 49s\tremaining: 12.8s\n",
            "279:\tlearn: 0.9209445\ttest: 0.5313562\tbest: 0.5349744 (256)\ttotal: 2m 50s\tremaining: 12.2s\n",
            "280:\tlearn: 0.9209935\ttest: 0.5312878\tbest: 0.5349744 (256)\ttotal: 2m 50s\tremaining: 11.6s\n",
            "281:\tlearn: 0.9210002\ttest: 0.5321939\tbest: 0.5349744 (256)\ttotal: 2m 51s\tremaining: 10.9s\n",
            "282:\tlearn: 0.9209590\ttest: 0.5317419\tbest: 0.5349744 (256)\ttotal: 2m 52s\tremaining: 10.3s\n",
            "283:\tlearn: 0.9209166\ttest: 0.5313145\tbest: 0.5349744 (256)\ttotal: 2m 52s\tremaining: 9.73s\n",
            "284:\tlearn: 0.9209478\ttest: 0.5313582\tbest: 0.5349744 (256)\ttotal: 2m 53s\tremaining: 9.12s\n",
            "285:\tlearn: 0.9210760\ttest: 0.5314951\tbest: 0.5349744 (256)\ttotal: 2m 53s\tremaining: 8.51s\n",
            "286:\tlearn: 0.9212453\ttest: 0.5311339\tbest: 0.5349744 (256)\ttotal: 2m 54s\tremaining: 7.9s\n",
            "287:\tlearn: 0.9212988\ttest: 0.5308409\tbest: 0.5349744 (256)\ttotal: 2m 55s\tremaining: 7.29s\n",
            "288:\tlearn: 0.9212754\ttest: 0.5302967\tbest: 0.5349744 (256)\ttotal: 2m 55s\tremaining: 6.68s\n",
            "289:\tlearn: 0.9213800\ttest: 0.5303651\tbest: 0.5349744 (256)\ttotal: 2m 56s\tremaining: 6.08s\n",
            "290:\tlearn: 0.9214868\ttest: 0.5300930\tbest: 0.5349744 (256)\ttotal: 2m 56s\tremaining: 5.47s\n",
            "291:\tlearn: 0.9215178\ttest: 0.5307936\tbest: 0.5349744 (256)\ttotal: 2m 57s\tremaining: 4.86s\n",
            "292:\tlearn: 0.9215634\ttest: 0.5316528\tbest: 0.5349744 (256)\ttotal: 2m 57s\tremaining: 4.25s\n",
            "293:\tlearn: 0.9215402\ttest: 0.5319017\tbest: 0.5349744 (256)\ttotal: 2m 58s\tremaining: 3.64s\n",
            "294:\tlearn: 0.9215557\ttest: 0.5319702\tbest: 0.5349744 (256)\ttotal: 2m 59s\tremaining: 3.04s\n",
            "295:\tlearn: 0.9215589\ttest: 0.5317898\tbest: 0.5349744 (256)\ttotal: 2m 59s\tremaining: 2.43s\n",
            "296:\tlearn: 0.9217110\ttest: 0.5321049\tbest: 0.5349744 (256)\ttotal: 3m\tremaining: 1.82s\n",
            "297:\tlearn: 0.9217921\ttest: 0.5320821\tbest: 0.5349744 (256)\ttotal: 3m\tremaining: 1.21s\n",
            "298:\tlearn: 0.9217666\ttest: 0.5320616\tbest: 0.5349744 (256)\ttotal: 3m 1s\tremaining: 607ms\n",
            "299:\tlearn: 0.9218244\ttest: 0.5318812\tbest: 0.5349744 (256)\ttotal: 3m 1s\tremaining: 0us\n",
            "\n",
            "bestTest = 0.5349744334\n",
            "bestIteration = 256\n",
            "\n",
            "Shrink model to first 257 iterations.\n"
          ]
        },
        {
          "output_type": "execute_result",
          "data": {
            "text/plain": [
              "<catboost.core.CatBoostClassifier at 0x7f2a3a03d710>"
            ]
          },
          "metadata": {},
          "execution_count": 59
        }
      ]
    },
    {
      "cell_type": "code",
      "metadata": {
        "id": "tbC6YuR9lJw-"
      },
      "source": [
        "model.save_model(\"/content/drive/MyDrive/bin_model.cbm\")"
      ],
      "execution_count": null,
      "outputs": []
    },
    {
      "cell_type": "code",
      "metadata": {
        "colab": {
          "base_uri": "https://localhost:8080/"
        },
        "id": "wfmQTyqYo3L3",
        "outputId": "8d7496cc-3232-417b-b635-89dbfeb60cb9"
      },
      "source": [
        "from catboost import Pool\n",
        "get_confusion_matrix(model, Pool(X_test_svd, y_test_svd))"
      ],
      "execution_count": null,
      "outputs": [
        {
          "output_type": "execute_result",
          "data": {
            "text/plain": [
              "array([[47898.,  1737.],\n",
              "       [ 2834.,  1940.]])"
            ]
          },
          "metadata": {},
          "execution_count": 63
        }
      ]
    },
    {
      "cell_type": "code",
      "metadata": {
        "colab": {
          "base_uri": "https://localhost:8080/"
        },
        "id": "uGR5efMEpZy5",
        "outputId": "47f928b4-3379-45a3-ff3c-fb2bf533ce2f"
      },
      "source": [
        "from sklearn.metrics import precision_recall_fscore_support as prfs\n",
        "y_pred = model.predict(X_test_svd)\n",
        "prfs(y_test_svd, y_pred)"
      ],
      "execution_count": null,
      "outputs": [
        {
          "output_type": "execute_result",
          "data": {
            "text/plain": [
              "(array([0.94413782, 0.52760403]),\n",
              " array([0.96500453, 0.40636783]),\n",
              " array([0.95445714, 0.45911726]),\n",
              " array([49635,  4774]))"
            ]
          },
          "metadata": {},
          "execution_count": 64
        }
      ]
    },
    {
      "cell_type": "code",
      "metadata": {
        "id": "0cajHFO8l7N-"
      },
      "source": [
        "wrong_samples = pd.read_csv('drive/My Drive/wrong_samples_color.csv', index_col=0)\n",
        "wrong_samples.columns = ['text', 'class']\n",
        "wrong_samples = wrong_samples[wrong_samples['text'].apply(type) == str]\n",
        "wrong_samples['text'] = wrong_samples['text'].apply(preprocess)"
      ],
      "execution_count": null,
      "outputs": []
    },
    {
      "cell_type": "code",
      "metadata": {
        "id": "B-9uGwM5mxLV"
      },
      "source": [
        "vectorizer = TfidfVectorizer(ngram_range=(1, 3), max_features=5000)\n",
        "X = vectorizer.fit_transform(wrong_samples['text'].values.astype('U'))\n",
        "svd = TruncatedSVD(100)\n",
        "X_svd = svd.fit_transform(X)"
      ],
      "execution_count": null,
      "outputs": []
    },
    {
      "cell_type": "code",
      "metadata": {
        "id": "EMUDYaQsncYK"
      },
      "source": [
        "X_train, X_test, y_train, y_test = train_test_split(X_svd, wrong_samples['class'], stratify=wrong_samples['class'], test_size=0.25)"
      ],
      "execution_count": null,
      "outputs": []
    },
    {
      "cell_type": "code",
      "metadata": {
        "id": "v1X8hUWZnzQw"
      },
      "source": [
        "from sklearn.preprocessing import LabelEncoder\n",
        "le = LabelEncoder()\n",
        "y_train = le.fit_transform(y_train)\n",
        "y_test = le.transform(y_test)"
      ],
      "execution_count": null,
      "outputs": []
    },
    {
      "cell_type": "code",
      "metadata": {
        "colab": {
          "base_uri": "https://localhost:8080/",
          "height": 1000,
          "referenced_widgets": [
            "3a58d326d64d41ef89a952f0a294430b"
          ]
        },
        "id": "TJK8Dd8bn045",
        "outputId": "a7c4d857-fdaf-4d72-fd24-de0f38577bad"
      },
      "source": [
        "model = CatBoostClassifier(eval_metric='Accuracy', iterations=100, verbose=25, task_type='GPU')\n",
        "grid_search_result_multi = model.grid_search(grid, \n",
        "                                       X=X_train, \n",
        "                                       y=y_train,\n",
        "                                       plot=True,\n",
        "                                       verbose=10)"
      ],
      "execution_count": null,
      "outputs": [
        {
          "output_type": "display_data",
          "data": {
            "application/vnd.jupyter.widget-view+json": {
              "model_id": "3a58d326d64d41ef89a952f0a294430b",
              "version_minor": 0,
              "version_major": 2
            },
            "text/plain": [
              "MetricVisualizer(layout=Layout(align_self='stretch', height='500px'))"
            ]
          },
          "metadata": {}
        },
        {
          "output_type": "stream",
          "name": "stdout",
          "text": [
            "0:\tlearn: 0.1912972\ttest: 0.1324809\tbest: 0.1324809 (0)\ttotal: 15.6ms\tremaining: 1.54s\n",
            "25:\tlearn: 0.4009151\ttest: 0.2157960\tbest: 0.2427378 (24)\ttotal: 402ms\tremaining: 1.14s\n",
            "50:\tlearn: 0.4531266\ttest: 0.2307940\tbest: 0.2427378 (24)\ttotal: 793ms\tremaining: 762ms\n",
            "75:\tlearn: 0.4952143\ttest: 0.2707874\tbest: 0.2707874 (75)\ttotal: 1.18s\tremaining: 371ms\n",
            "99:\tlearn: 0.5178150\ttest: 0.2799490\tbest: 0.2832482 (86)\ttotal: 1.53s\tremaining: 0us\n",
            "bestTest = 0.2832482201\n",
            "bestIteration = 86\n",
            "0:\tloss: 0.2832482\tbest: 0.2832482 (0)\ttotal: 2.88s\tremaining: 3m 50s\n",
            "0:\tlearn: 0.1912972\ttest: 0.1324809\tbest: 0.1324809 (0)\ttotal: 12.6ms\tremaining: 1.25s\n",
            "25:\tlearn: 0.4001156\ttest: 0.2155190\tbest: 0.2415914 (24)\ttotal: 332ms\tremaining: 945ms\n",
            "50:\tlearn: 0.4501296\ttest: 0.2283518\tbest: 0.2415914 (24)\ttotal: 648ms\tremaining: 622ms\n",
            "75:\tlearn: 0.4899425\ttest: 0.2696726\tbest: 0.2696726 (75)\ttotal: 939ms\tremaining: 297ms\n",
            "99:\tlearn: 0.5139043\ttest: 0.2782755\tbest: 0.2846847 (94)\ttotal: 1.24s\tremaining: 0us\n",
            "bestTest = 0.2846846713\n",
            "bestIteration = 94\n",
            "0:\tlearn: 0.1912972\ttest: 0.1324809\tbest: 0.1324809 (0)\ttotal: 21.4ms\tremaining: 2.12s\n",
            "25:\tlearn: 0.3945567\ttest: 0.2149566\tbest: 0.2410849 (24)\ttotal: 332ms\tremaining: 946ms\n",
            "50:\tlearn: 0.4563210\ttest: 0.2204021\tbest: 0.2410849 (24)\ttotal: 623ms\tremaining: 598ms\n",
            "75:\tlearn: 0.4941973\ttest: 0.2496992\tbest: 0.2496992 (75)\ttotal: 948ms\tremaining: 299ms\n",
            "99:\tlearn: 0.5095759\ttest: 0.2709797\tbest: 0.2709797 (99)\ttotal: 1.24s\tremaining: 0us\n",
            "bestTest = 0.2709797236\n",
            "bestIteration = 99\n",
            "0:\tlearn: 0.1912972\ttest: 0.1324809\tbest: 0.1324809 (0)\ttotal: 24.5ms\tremaining: 2.42s\n",
            "25:\tlearn: 0.4009151\ttest: 0.2157960\tbest: 0.2427378 (24)\ttotal: 318ms\tremaining: 904ms\n",
            "50:\tlearn: 0.4584659\ttest: 0.2324263\tbest: 0.2427378 (24)\ttotal: 619ms\tremaining: 595ms\n",
            "75:\tlearn: 0.4918752\ttest: 0.2612333\tbest: 0.2612333 (75)\ttotal: 939ms\tremaining: 297ms\n",
            "99:\tlearn: 0.5120683\ttest: 0.2787254\tbest: 0.2787254 (99)\ttotal: 1.23s\tremaining: 0us\n",
            "bestTest = 0.2787253643\n",
            "bestIteration = 99\n",
            "0:\tlearn: 0.1912972\ttest: 0.1324809\tbest: 0.1324809 (0)\ttotal: 12.9ms\tremaining: 1.28s\n",
            "25:\tlearn: 0.4001156\ttest: 0.2155190\tbest: 0.2415914 (24)\ttotal: 314ms\tremaining: 892ms\n",
            "50:\tlearn: 0.4501296\ttest: 0.2283518\tbest: 0.2415914 (24)\ttotal: 634ms\tremaining: 609ms\n",
            "75:\tlearn: 0.4921144\ttest: 0.2708666\tbest: 0.2708666 (75)\ttotal: 943ms\tremaining: 298ms\n",
            "99:\tlearn: 0.5120422\ttest: 0.2776329\tbest: 0.2776329 (99)\ttotal: 1.23s\tremaining: 0us\n",
            "bestTest = 0.2776328864\n",
            "bestIteration = 99\n",
            "0:\tlearn: 0.1912972\ttest: 0.1324809\tbest: 0.1324809 (0)\ttotal: 12.6ms\tremaining: 1.25s\n",
            "25:\tlearn: 0.3945567\ttest: 0.2149566\tbest: 0.2410849 (24)\ttotal: 320ms\tremaining: 912ms\n",
            "50:\tlearn: 0.4563210\ttest: 0.2204021\tbest: 0.2410849 (24)\ttotal: 635ms\tremaining: 610ms\n",
            "75:\tlearn: 0.4892866\ttest: 0.2442324\tbest: 0.2442324 (75)\ttotal: 951ms\tremaining: 300ms\n",
            "99:\tlearn: 0.5090918\ttest: 0.2570092\tbest: 0.2644073 (97)\ttotal: 1.25s\tremaining: 0us\n",
            "bestTest = 0.26440732\n",
            "bestIteration = 97\n",
            "0:\tlearn: 0.2468148\ttest: 0.1245377\tbest: 0.1245377 (0)\ttotal: 20.4ms\tremaining: 2.02s\n",
            "25:\tlearn: 0.5241658\ttest: 0.2711340\tbest: 0.2711340 (25)\ttotal: 567ms\tremaining: 1.61s\n",
            "50:\tlearn: 0.5909523\ttest: 0.2900472\tbest: 0.2911205 (43)\ttotal: 1.13s\tremaining: 1.09s\n",
            "75:\tlearn: 0.6183900\ttest: 0.3018575\tbest: 0.3018575 (75)\ttotal: 1.68s\tremaining: 531ms\n",
            "99:\tlearn: 0.6425942\ttest: 0.3128990\tbest: 0.3128990 (99)\ttotal: 2.22s\tremaining: 0us\n",
            "bestTest = 0.3128990217\n",
            "bestIteration = 99\n",
            "0:\tlearn: 0.2468148\ttest: 0.1245377\tbest: 0.1245377 (0)\ttotal: 20ms\tremaining: 1.98s\n",
            "25:\tlearn: 0.5213546\ttest: 0.2642625\tbest: 0.2642625 (25)\ttotal: 542ms\tremaining: 1.54s\n",
            "50:\tlearn: 0.5919506\ttest: 0.2934284\tbest: 0.2934284 (50)\ttotal: 1.09s\tremaining: 1.05s\n",
            "75:\tlearn: 0.6153247\ttest: 0.3024214\tbest: 0.3083784 (66)\ttotal: 1.63s\tremaining: 515ms\n",
            "99:\tlearn: 0.6368760\ttest: 0.3059224\tbest: 0.3084718 (81)\ttotal: 2.15s\tremaining: 0us\n",
            "bestTest = 0.3084718262\n",
            "bestIteration = 81\n",
            "0:\tlearn: 0.2468148\ttest: 0.1245377\tbest: 0.1245377 (0)\ttotal: 20.5ms\tremaining: 2.03s\n",
            "25:\tlearn: 0.5156559\ttest: 0.2646979\tbest: 0.2646979 (25)\ttotal: 550ms\tremaining: 1.56s\n",
            "50:\tlearn: 0.5820882\ttest: 0.2896378\tbest: 0.2896378 (50)\ttotal: 1.1s\tremaining: 1.05s\n",
            "75:\tlearn: 0.6109081\ttest: 0.3022424\tbest: 0.3024625 (74)\ttotal: 1.64s\tremaining: 519ms\n",
            "99:\tlearn: 0.6293165\ttest: 0.3077269\tbest: 0.3094019 (97)\ttotal: 2.16s\tremaining: 0us\n",
            "bestTest = 0.3094019237\n",
            "bestIteration = 97\n",
            "0:\tlearn: 0.2468148\ttest: 0.1245377\tbest: 0.1245377 (0)\ttotal: 34.6ms\tremaining: 3.43s\n",
            "25:\tlearn: 0.5211700\ttest: 0.2712543\tbest: 0.2712543 (25)\ttotal: 564ms\tremaining: 1.6s\n",
            "50:\tlearn: 0.5910403\ttest: 0.2881625\tbest: 0.3035537 (49)\ttotal: 1.11s\tremaining: 1.07s\n",
            "75:\tlearn: 0.6241312\ttest: 0.2997199\tbest: 0.3068388 (66)\ttotal: 1.7s\tremaining: 537ms\n",
            "99:\tlearn: 0.6454926\ttest: 0.3076418\tbest: 0.3086593 (83)\ttotal: 2.21s\tremaining: 0us\n",
            "bestTest = 0.3086592844\n",
            "bestIteration = 83\n",
            "0:\tlearn: 0.2468148\ttest: 0.1245377\tbest: 0.1245377 (0)\ttotal: 20.3ms\tremaining: 2s\n",
            "25:\tlearn: 0.5213546\ttest: 0.2642625\tbest: 0.2642625 (25)\ttotal: 541ms\tremaining: 1.54s\n",
            "50:\tlearn: 0.5919506\ttest: 0.2934284\tbest: 0.2934284 (50)\ttotal: 1.09s\tremaining: 1.04s\n",
            "75:\tlearn: 0.6153247\ttest: 0.3024214\tbest: 0.3083784 (66)\ttotal: 1.64s\tremaining: 517ms\n",
            "99:\tlearn: 0.6368760\ttest: 0.3059224\tbest: 0.3084718 (81)\ttotal: 2.16s\tremaining: 0us\n",
            "bestTest = 0.3084718262\n",
            "bestIteration = 81\n",
            "10:\tloss: 0.3084718\tbest: 0.3128990 (6)\ttotal: 30.4s\tremaining: 3m 13s\n",
            "0:\tlearn: 0.2468148\ttest: 0.1245377\tbest: 0.1245377 (0)\ttotal: 21ms\tremaining: 2.08s\n",
            "25:\tlearn: 0.5156559\ttest: 0.2646979\tbest: 0.2646979 (25)\ttotal: 544ms\tremaining: 1.55s\n",
            "50:\tlearn: 0.5820882\ttest: 0.2896378\tbest: 0.2896378 (50)\ttotal: 1.12s\tremaining: 1.08s\n",
            "75:\tlearn: 0.6109081\ttest: 0.3022424\tbest: 0.3024625 (74)\ttotal: 1.68s\tremaining: 531ms\n",
            "99:\tlearn: 0.6330167\ttest: 0.3096301\tbest: 0.3113793 (96)\ttotal: 2.2s\tremaining: 0us\n",
            "bestTest = 0.3113793276\n",
            "bestIteration = 96\n",
            "0:\tlearn: 0.3093957\ttest: 0.1654032\tbest: 0.1654032 (0)\ttotal: 41.3ms\tremaining: 4.08s\n",
            "25:\tlearn: 0.6454147\ttest: 0.3010485\tbest: 0.3010485 (25)\ttotal: 1.23s\tremaining: 3.51s\n",
            "50:\tlearn: 0.7146630\ttest: 0.3128018\tbest: 0.3128018 (50)\ttotal: 2.44s\tremaining: 2.35s\n",
            "75:\tlearn: 0.7530311\ttest: 0.3227681\tbest: 0.3241411 (70)\ttotal: 3.63s\tremaining: 1.15s\n",
            "99:\tlearn: 0.7746660\ttest: 0.3291201\tbest: 0.3327318 (94)\ttotal: 4.78s\tremaining: 0us\n",
            "bestTest = 0.3327318448\n",
            "bestIteration = 94\n",
            "0:\tlearn: 0.3093957\ttest: 0.1654032\tbest: 0.1654032 (0)\ttotal: 40.8ms\tremaining: 4.04s\n",
            "25:\tlearn: 0.6330742\ttest: 0.3004979\tbest: 0.3007486 (21)\ttotal: 1.2s\tremaining: 3.42s\n",
            "50:\tlearn: 0.7051389\ttest: 0.3140235\tbest: 0.3155846 (49)\ttotal: 2.41s\tremaining: 2.32s\n",
            "75:\tlearn: 0.7376144\ttest: 0.3252130\tbest: 0.3252130 (75)\ttotal: 3.6s\tremaining: 1.14s\n",
            "99:\tlearn: 0.7592938\ttest: 0.3277975\tbest: 0.3300809 (97)\ttotal: 4.76s\tremaining: 0us\n",
            "bestTest = 0.3300809315\n",
            "bestIteration = 97\n",
            "0:\tlearn: 0.3093957\ttest: 0.1654032\tbest: 0.1654032 (0)\ttotal: 41.5ms\tremaining: 4.11s\n",
            "25:\tlearn: 0.6315835\ttest: 0.2995944\tbest: 0.3004395 (23)\ttotal: 1.2s\tremaining: 3.42s\n",
            "50:\tlearn: 0.6985552\ttest: 0.3132815\tbest: 0.3147055 (49)\ttotal: 2.41s\tremaining: 2.32s\n",
            "75:\tlearn: 0.7328129\ttest: 0.3204287\tbest: 0.3211935 (60)\ttotal: 3.58s\tremaining: 1.13s\n",
            "99:\tlearn: 0.7530348\ttest: 0.3297204\tbest: 0.3297204 (99)\ttotal: 4.73s\tremaining: 0us\n",
            "bestTest = 0.3297203992\n",
            "bestIteration = 99\n",
            "0:\tlearn: 0.3093957\ttest: 0.1654032\tbest: 0.1654032 (0)\ttotal: 40.7ms\tremaining: 4.03s\n",
            "25:\tlearn: 0.6454147\ttest: 0.3010485\tbest: 0.3010485 (25)\ttotal: 1.2s\tremaining: 3.4s\n",
            "50:\tlearn: 0.7146630\ttest: 0.3128018\tbest: 0.3128018 (50)\ttotal: 2.37s\tremaining: 2.28s\n",
            "75:\tlearn: 0.7530311\ttest: 0.3227681\tbest: 0.3241411 (70)\ttotal: 3.54s\tremaining: 1.12s\n",
            "99:\tlearn: 0.7746242\ttest: 0.3269272\tbest: 0.3327318 (94)\ttotal: 4.67s\tremaining: 0us\n",
            "bestTest = 0.3327318448\n",
            "bestIteration = 94\n",
            "0:\tlearn: 0.3093957\ttest: 0.1654032\tbest: 0.1654032 (0)\ttotal: 41.8ms\tremaining: 4.14s\n",
            "25:\tlearn: 0.6330742\ttest: 0.3004979\tbest: 0.3007486 (21)\ttotal: 1.23s\tremaining: 3.5s\n",
            "50:\tlearn: 0.7051389\ttest: 0.3140235\tbest: 0.3155846 (49)\ttotal: 2.44s\tremaining: 2.34s\n",
            "75:\tlearn: 0.7382520\ttest: 0.3209368\tbest: 0.3228701 (68)\ttotal: 3.62s\tremaining: 1.14s\n",
            "99:\tlearn: 0.7610225\ttest: 0.3247898\tbest: 0.3267616 (97)\ttotal: 4.77s\tremaining: 0us\n",
            "bestTest = 0.3267615972\n",
            "bestIteration = 97\n",
            "0:\tlearn: 0.3093957\ttest: 0.1654032\tbest: 0.1654032 (0)\ttotal: 41ms\tremaining: 4.05s\n",
            "25:\tlearn: 0.6315835\ttest: 0.2995944\tbest: 0.3004395 (23)\ttotal: 1.21s\tremaining: 3.45s\n",
            "50:\tlearn: 0.6985552\ttest: 0.3132815\tbest: 0.3147055 (49)\ttotal: 2.44s\tremaining: 2.34s\n",
            "75:\tlearn: 0.7328774\ttest: 0.3179366\tbest: 0.3200574 (74)\ttotal: 3.63s\tremaining: 1.15s\n",
            "99:\tlearn: 0.7496895\ttest: 0.3255804\tbest: 0.3280488 (86)\ttotal: 4.77s\tremaining: 0us\n",
            "bestTest = 0.3280488401\n",
            "bestIteration = 86\n",
            "0:\tlearn: 0.2121852\ttest: 0.1313714\tbest: 0.1313714 (0)\ttotal: 12.5ms\tremaining: 1.24s\n",
            "25:\tlearn: 0.4171939\ttest: 0.2314476\tbest: 0.2319819 (24)\ttotal: 294ms\tremaining: 837ms\n",
            "50:\tlearn: 0.4699104\ttest: 0.2505687\tbest: 0.2511859 (48)\ttotal: 580ms\tremaining: 557ms\n",
            "75:\tlearn: 0.5100732\ttest: 0.2783021\tbest: 0.2783021 (75)\ttotal: 898ms\tremaining: 283ms\n",
            "99:\tlearn: 0.5367258\ttest: 0.2852173\tbest: 0.2863588 (83)\ttotal: 1.19s\tremaining: 0us\n",
            "bestTest = 0.2863587582\n",
            "bestIteration = 83\n",
            "0:\tlearn: 0.2121852\ttest: 0.1313714\tbest: 0.1313714 (0)\ttotal: 22.6ms\tremaining: 2.24s\n",
            "25:\tlearn: 0.4160441\ttest: 0.2317397\tbest: 0.2323702 (24)\ttotal: 304ms\tremaining: 865ms\n",
            "50:\tlearn: 0.4680794\ttest: 0.2509728\tbest: 0.2511489 (48)\ttotal: 614ms\tremaining: 590ms\n",
            "75:\tlearn: 0.5067327\ttest: 0.2783625\tbest: 0.2783625 (75)\ttotal: 929ms\tremaining: 293ms\n",
            "99:\tlearn: 0.5323239\ttest: 0.2838926\tbest: 0.2860267 (87)\ttotal: 1.22s\tremaining: 0us\n",
            "bestTest = 0.2860267268\n",
            "bestIteration = 87\n",
            "0:\tlearn: 0.2121852\ttest: 0.1313714\tbest: 0.1313714 (0)\ttotal: 13.2ms\tremaining: 1.31s\n",
            "25:\tlearn: 0.4148471\ttest: 0.2323426\tbest: 0.2336500 (24)\ttotal: 334ms\tremaining: 950ms\n",
            "50:\tlearn: 0.4679812\ttest: 0.2498275\tbest: 0.2518562 (48)\ttotal: 627ms\tremaining: 602ms\n",
            "75:\tlearn: 0.5017153\ttest: 0.2787718\tbest: 0.2787718 (75)\ttotal: 923ms\tremaining: 291ms\n",
            "99:\tlearn: 0.5299803\ttest: 0.2818893\tbest: 0.2854420 (88)\ttotal: 1.22s\tremaining: 0us\n",
            "bestTest = 0.2854420182\n",
            "bestIteration = 88\n",
            "20:\tloss: 0.2854420\tbest: 0.3327318 (12)\ttotal: 1m 15s\tremaining: 3m 34s\n",
            "0:\tlearn: 0.2121852\ttest: 0.1313714\tbest: 0.1313714 (0)\ttotal: 13ms\tremaining: 1.29s\n",
            "25:\tlearn: 0.4171939\ttest: 0.2314476\tbest: 0.2319819 (24)\ttotal: 316ms\tremaining: 900ms\n",
            "50:\tlearn: 0.4699104\ttest: 0.2507770\tbest: 0.2513941 (48)\ttotal: 625ms\tremaining: 600ms\n",
            "75:\tlearn: 0.5100732\ttest: 0.2782649\tbest: 0.2782649 (75)\ttotal: 923ms\tremaining: 291ms\n",
            "99:\tlearn: 0.5367258\ttest: 0.2848598\tbest: 0.2863215 (83)\ttotal: 1.24s\tremaining: 0us\n",
            "bestTest = 0.2863215244\n",
            "bestIteration = 83\n",
            "0:\tlearn: 0.2121852\ttest: 0.1313714\tbest: 0.1313714 (0)\ttotal: 12.6ms\tremaining: 1.25s\n",
            "25:\tlearn: 0.4160441\ttest: 0.2317397\tbest: 0.2323702 (24)\ttotal: 305ms\tremaining: 867ms\n",
            "50:\tlearn: 0.4680794\ttest: 0.2509728\tbest: 0.2511489 (48)\ttotal: 593ms\tremaining: 570ms\n",
            "75:\tlearn: 0.5067327\ttest: 0.2783625\tbest: 0.2783625 (75)\ttotal: 913ms\tremaining: 288ms\n",
            "99:\tlearn: 0.5323239\ttest: 0.2837806\tbest: 0.2860267 (87)\ttotal: 1.21s\tremaining: 0us\n",
            "bestTest = 0.2860267268\n",
            "bestIteration = 87\n",
            "0:\tlearn: 0.2121852\ttest: 0.1313714\tbest: 0.1313714 (0)\ttotal: 12.7ms\tremaining: 1.25s\n",
            "25:\tlearn: 0.4148471\ttest: 0.2323426\tbest: 0.2336500 (24)\ttotal: 312ms\tremaining: 887ms\n",
            "50:\tlearn: 0.4679812\ttest: 0.2500357\tbest: 0.2520644 (48)\ttotal: 616ms\tremaining: 592ms\n",
            "75:\tlearn: 0.5017153\ttest: 0.2790700\tbest: 0.2790700 (75)\ttotal: 922ms\tremaining: 291ms\n",
            "99:\tlearn: 0.5299803\ttest: 0.2821875\tbest: 0.2859485 (88)\ttotal: 1.22s\tremaining: 0us\n",
            "bestTest = 0.2859484708\n",
            "bestIteration = 88\n",
            "0:\tlearn: 0.2714599\ttest: 0.1729507\tbest: 0.1729507 (0)\ttotal: 24.1ms\tremaining: 2.38s\n",
            "25:\tlearn: 0.5294455\ttest: 0.2577043\tbest: 0.2577043 (25)\ttotal: 523ms\tremaining: 1.49s\n",
            "50:\tlearn: 0.6058757\ttest: 0.2988583\tbest: 0.2992787 (48)\ttotal: 1.05s\tremaining: 1s\n",
            "75:\tlearn: 0.6485525\ttest: 0.3139963\tbest: 0.3139963 (75)\ttotal: 1.53s\tremaining: 484ms\n",
            "99:\tlearn: 0.6756384\ttest: 0.3248167\tbest: 0.3248167 (99)\ttotal: 2.05s\tremaining: 0us\n",
            "bestTest = 0.3248166831\n",
            "bestIteration = 99\n",
            "0:\tlearn: 0.2714599\ttest: 0.1727052\tbest: 0.1727052 (0)\ttotal: 20.2ms\tremaining: 2s\n",
            "25:\tlearn: 0.5243750\ttest: 0.2589951\tbest: 0.2597502 (23)\ttotal: 548ms\tremaining: 1.56s\n",
            "50:\tlearn: 0.6032795\ttest: 0.2938756\tbest: 0.2938756 (50)\ttotal: 1.06s\tremaining: 1.01s\n",
            "75:\tlearn: 0.6380978\ttest: 0.3025170\tbest: 0.3037681 (71)\ttotal: 1.57s\tremaining: 498ms\n",
            "99:\tlearn: 0.6649811\ttest: 0.3125211\tbest: 0.3134736 (95)\ttotal: 2.07s\tremaining: 0us\n",
            "bestTest = 0.3134735729\n",
            "bestIteration = 95\n",
            "0:\tlearn: 0.2714599\ttest: 0.1727052\tbest: 0.1727052 (0)\ttotal: 21.7ms\tremaining: 2.15s\n",
            "25:\tlearn: 0.5200691\ttest: 0.2598894\tbest: 0.2601765 (23)\ttotal: 539ms\tremaining: 1.53s\n",
            "50:\tlearn: 0.5982039\ttest: 0.2945201\tbest: 0.2960206 (49)\ttotal: 1.05s\tremaining: 1.01s\n",
            "75:\tlearn: 0.6349577\ttest: 0.3059566\tbest: 0.3072508 (68)\ttotal: 1.57s\tremaining: 495ms\n",
            "99:\tlearn: 0.6611608\ttest: 0.3180511\tbest: 0.3204397 (96)\ttotal: 2.07s\tremaining: 0us\n",
            "bestTest = 0.320439694\n",
            "bestIteration = 96\n",
            "0:\tlearn: 0.2714599\ttest: 0.1729507\tbest: 0.1729507 (0)\ttotal: 19.9ms\tremaining: 1.97s\n",
            "25:\tlearn: 0.5294455\ttest: 0.2579498\tbest: 0.2579498 (25)\ttotal: 539ms\tremaining: 1.53s\n",
            "50:\tlearn: 0.6058757\ttest: 0.2987745\tbest: 0.2991949 (48)\ttotal: 1.08s\tremaining: 1.04s\n",
            "75:\tlearn: 0.6485525\ttest: 0.3139063\tbest: 0.3139063 (75)\ttotal: 1.6s\tremaining: 506ms\n",
            "99:\tlearn: 0.6756384\ttest: 0.3248167\tbest: 0.3248167 (99)\ttotal: 2.08s\tremaining: 0us\n",
            "bestTest = 0.3248166831\n",
            "bestIteration = 99\n",
            "0:\tlearn: 0.2714599\ttest: 0.1728172\tbest: 0.1728172 (0)\ttotal: 20.6ms\tremaining: 2.04s\n",
            "25:\tlearn: 0.5243750\ttest: 0.2611124\tbest: 0.2611124 (25)\ttotal: 532ms\tremaining: 1.51s\n",
            "50:\tlearn: 0.6032795\ttest: 0.2944222\tbest: 0.2944222 (50)\ttotal: 1.06s\tremaining: 1.02s\n",
            "75:\tlearn: 0.6380978\ttest: 0.3035361\tbest: 0.3043927 (71)\ttotal: 1.57s\tremaining: 498ms\n",
            "99:\tlearn: 0.6649811\ttest: 0.3135277\tbest: 0.3146603 (95)\ttotal: 2.07s\tremaining: 0us\n",
            "bestTest = 0.3146602779\n",
            "bestIteration = 95\n",
            "0:\tlearn: 0.2714599\ttest: 0.1725932\tbest: 0.1725932 (0)\ttotal: 21.4ms\tremaining: 2.12s\n",
            "25:\tlearn: 0.5200691\ttest: 0.2598489\tbest: 0.2601360 (23)\ttotal: 518ms\tremaining: 1.48s\n",
            "50:\tlearn: 0.5982039\ttest: 0.2943866\tbest: 0.2960954 (49)\ttotal: 1.04s\tremaining: 1000ms\n",
            "75:\tlearn: 0.6349577\ttest: 0.3049592\tbest: 0.3071174 (68)\ttotal: 1.55s\tremaining: 490ms\n",
            "99:\tlearn: 0.6611608\ttest: 0.3159680\tbest: 0.3186393 (96)\ttotal: 2.05s\tremaining: 0us\n",
            "bestTest = 0.3186392829\n",
            "bestIteration = 96\n",
            "0:\tlearn: 0.3274001\ttest: 0.1922160\tbest: 0.1922160 (0)\ttotal: 36.3ms\tremaining: 3.59s\n",
            "25:\tlearn: 0.6461837\ttest: 0.2987919\tbest: 0.2988514 (24)\ttotal: 1.04s\tremaining: 2.95s\n",
            "50:\tlearn: 0.7304175\ttest: 0.3222661\tbest: 0.3222661 (50)\ttotal: 2.05s\tremaining: 1.97s\n",
            "75:\tlearn: 0.7644085\ttest: 0.3374936\tbest: 0.3374936 (75)\ttotal: 3.03s\tremaining: 957ms\n",
            "99:\tlearn: 0.7935497\ttest: 0.3358348\tbest: 0.3385533 (82)\ttotal: 3.99s\tremaining: 0us\n",
            "bestTest = 0.3385533121\n",
            "bestIteration = 82\n",
            "30:\tloss: 0.3385533\tbest: 0.3385533 (30)\ttotal: 1m 45s\tremaining: 2m 50s\n",
            "0:\tlearn: 0.3274484\ttest: 0.1920077\tbest: 0.1920077 (0)\ttotal: 36.6ms\tremaining: 3.62s\n",
            "25:\tlearn: 0.6357004\ttest: 0.2934755\tbest: 0.2934755 (25)\ttotal: 1.04s\tremaining: 2.95s\n",
            "50:\tlearn: 0.7135939\ttest: 0.3055600\tbest: 0.3069570 (48)\ttotal: 2.04s\tremaining: 1.96s\n",
            "75:\tlearn: 0.7469475\ttest: 0.3232456\tbest: 0.3232456 (75)\ttotal: 3.02s\tremaining: 954ms\n",
            "99:\tlearn: 0.7757074\ttest: 0.3279863\tbest: 0.3279863 (99)\ttotal: 3.97s\tremaining: 0us\n",
            "bestTest = 0.3279862509\n",
            "bestIteration = 99\n",
            "0:\tlearn: 0.3274484\ttest: 0.1922840\tbest: 0.1922840 (0)\ttotal: 36.1ms\tremaining: 3.57s\n",
            "25:\tlearn: 0.6289210\ttest: 0.2997430\tbest: 0.3085529 (18)\ttotal: 1.04s\tremaining: 2.96s\n",
            "50:\tlearn: 0.6994457\ttest: 0.3109027\tbest: 0.3127534 (49)\ttotal: 2.05s\tremaining: 1.97s\n",
            "75:\tlearn: 0.7360859\ttest: 0.3183694\tbest: 0.3200022 (61)\ttotal: 3.01s\tremaining: 950ms\n",
            "99:\tlearn: 0.7636029\ttest: 0.3257987\tbest: 0.3276168 (92)\ttotal: 3.97s\tremaining: 0us\n",
            "bestTest = 0.327616787\n",
            "bestIteration = 92\n",
            "0:\tlearn: 0.3274001\ttest: 0.1922998\tbest: 0.1922998 (0)\ttotal: 36ms\tremaining: 3.56s\n",
            "25:\tlearn: 0.6461837\ttest: 0.2988320\tbest: 0.2988320 (25)\ttotal: 1.06s\tremaining: 3.02s\n",
            "50:\tlearn: 0.7304175\ttest: 0.3229151\tbest: 0.3229151 (50)\ttotal: 2.07s\tremaining: 1.99s\n",
            "75:\tlearn: 0.7644085\ttest: 0.3309319\tbest: 0.3345705 (68)\ttotal: 3.05s\tremaining: 963ms\n",
            "99:\tlearn: 0.7935497\ttest: 0.3346023\tbest: 0.3352075 (89)\ttotal: 4.02s\tremaining: 0us\n",
            "bestTest = 0.3352074831\n",
            "bestIteration = 89\n",
            "0:\tlearn: 0.3274484\ttest: 0.1922126\tbest: 0.1922126 (0)\ttotal: 39.5ms\tremaining: 3.91s\n",
            "25:\tlearn: 0.6357004\ttest: 0.2949628\tbest: 0.2949628 (25)\ttotal: 1.07s\tremaining: 3.04s\n",
            "50:\tlearn: 0.7135939\ttest: 0.3068714\tbest: 0.3085356 (48)\ttotal: 2.07s\tremaining: 1.99s\n",
            "75:\tlearn: 0.7469475\ttest: 0.3233233\tbest: 0.3233233 (75)\ttotal: 3.04s\tremaining: 960ms\n",
            "99:\tlearn: 0.7757074\ttest: 0.3278685\tbest: 0.3278832 (97)\ttotal: 4.02s\tremaining: 0us\n",
            "bestTest = 0.3278832237\n",
            "bestIteration = 97\n",
            "0:\tlearn: 0.3274484\ttest: 0.1915356\tbest: 0.1915356 (0)\ttotal: 40.4ms\tremaining: 4s\n",
            "25:\tlearn: 0.6289210\ttest: 0.2986398\tbest: 0.3075589 (18)\ttotal: 1.04s\tremaining: 2.96s\n",
            "50:\tlearn: 0.6994457\ttest: 0.3105419\tbest: 0.3117094 (49)\ttotal: 2.04s\tremaining: 1.97s\n",
            "75:\tlearn: 0.7360859\ttest: 0.3190244\tbest: 0.3220479 (61)\ttotal: 3.02s\tremaining: 954ms\n",
            "99:\tlearn: 0.7636029\ttest: 0.3268571\tbest: 0.3278126 (92)\ttotal: 4s\tremaining: 0us\n",
            "bestTest = 0.3278126198\n",
            "bestIteration = 92\n",
            "0:\tlearn: 0.2121852\ttest: 0.1313714\tbest: 0.1313714 (0)\ttotal: 16ms\tremaining: 1.58s\n",
            "25:\tlearn: 0.4171939\ttest: 0.2316277\tbest: 0.2321620 (24)\ttotal: 382ms\tremaining: 1.09s\n",
            "50:\tlearn: 0.4699956\ttest: 0.2507770\tbest: 0.2513941 (48)\ttotal: 783ms\tremaining: 752ms\n",
            "75:\tlearn: 0.5101333\ttest: 0.2785103\tbest: 0.2785103 (75)\ttotal: 1.15s\tremaining: 363ms\n",
            "99:\tlearn: 0.5367187\ttest: 0.2855337\tbest: 0.2862936 (83)\ttotal: 1.51s\tremaining: 0us\n",
            "bestTest = 0.2862935663\n",
            "bestIteration = 83\n",
            "0:\tlearn: 0.2123652\ttest: 0.1316792\tbest: 0.1316792 (0)\ttotal: 18.8ms\tremaining: 1.86s\n",
            "25:\tlearn: 0.4161042\ttest: 0.2323054\tbest: 0.2326904 (24)\ttotal: 378ms\tremaining: 1.07s\n",
            "50:\tlearn: 0.4682796\ttest: 0.2513893\tbest: 0.2514533 (48)\ttotal: 755ms\tremaining: 725ms\n",
            "75:\tlearn: 0.5058700\ttest: 0.2795737\tbest: 0.2795737 (75)\ttotal: 1.12s\tremaining: 354ms\n",
            "99:\tlearn: 0.5328962\ttest: 0.2844086\tbest: 0.2873608 (89)\ttotal: 1.47s\tremaining: 0us\n",
            "bestTest = 0.2873607598\n",
            "bestIteration = 89\n",
            "0:\tlearn: 0.2123652\ttest: 0.1316792\tbest: 0.1316792 (0)\ttotal: 15.7ms\tremaining: 1.55s\n",
            "25:\tlearn: 0.4147946\ttest: 0.2324547\tbest: 0.2337621 (24)\ttotal: 375ms\tremaining: 1.07s\n",
            "50:\tlearn: 0.4681314\ttest: 0.2498309\tbest: 0.2521673 (48)\ttotal: 764ms\tremaining: 734ms\n",
            "75:\tlearn: 0.5049162\ttest: 0.2792065\tbest: 0.2796135 (74)\ttotal: 1.14s\tremaining: 360ms\n",
            "99:\tlearn: 0.5311396\ttest: 0.2814881\tbest: 0.2850577 (84)\ttotal: 1.5s\tremaining: 0us\n",
            "bestTest = 0.2850577306\n",
            "bestIteration = 84\n",
            "0:\tlearn: 0.2121852\ttest: 0.1313714\tbest: 0.1313714 (0)\ttotal: 15.4ms\tremaining: 1.53s\n",
            "25:\tlearn: 0.4171939\ttest: 0.2316277\tbest: 0.2321620 (24)\ttotal: 384ms\tremaining: 1.09s\n",
            "50:\tlearn: 0.4699956\ttest: 0.2507770\tbest: 0.2513941 (48)\ttotal: 766ms\tremaining: 736ms\n",
            "75:\tlearn: 0.5101333\ttest: 0.2785103\tbest: 0.2785103 (75)\ttotal: 1.15s\tremaining: 363ms\n",
            "99:\tlearn: 0.5367187\ttest: 0.2855337\tbest: 0.2862936 (83)\ttotal: 1.5s\tremaining: 0us\n",
            "bestTest = 0.2862935663\n",
            "bestIteration = 83\n",
            "0:\tlearn: 0.2123652\ttest: 0.1316792\tbest: 0.1316792 (0)\ttotal: 15.1ms\tremaining: 1.5s\n",
            "25:\tlearn: 0.4161042\ttest: 0.2323054\tbest: 0.2326904 (24)\ttotal: 369ms\tremaining: 1.05s\n",
            "50:\tlearn: 0.4682796\ttest: 0.2513893\tbest: 0.2514533 (48)\ttotal: 778ms\tremaining: 748ms\n",
            "75:\tlearn: 0.5058700\ttest: 0.2795737\tbest: 0.2795737 (75)\ttotal: 1.15s\tremaining: 363ms\n",
            "99:\tlearn: 0.5328962\ttest: 0.2844086\tbest: 0.2873608 (89)\ttotal: 1.51s\tremaining: 0us\n",
            "bestTest = 0.2873607598\n",
            "bestIteration = 89\n",
            "40:\tloss: 0.2873608\tbest: 0.3385533 (30)\ttotal: 2m 23s\tremaining: 2m 20s\n",
            "0:\tlearn: 0.2123652\ttest: 0.1316792\tbest: 0.1316792 (0)\ttotal: 15.6ms\tremaining: 1.54s\n",
            "25:\tlearn: 0.4147946\ttest: 0.2324547\tbest: 0.2337621 (24)\ttotal: 381ms\tremaining: 1.08s\n",
            "50:\tlearn: 0.4681314\ttest: 0.2498309\tbest: 0.2521673 (48)\ttotal: 742ms\tremaining: 713ms\n",
            "75:\tlearn: 0.5049162\ttest: 0.2792065\tbest: 0.2796135 (74)\ttotal: 1.14s\tremaining: 359ms\n",
            "99:\tlearn: 0.5311396\ttest: 0.2814881\tbest: 0.2850577 (84)\ttotal: 1.51s\tremaining: 0us\n",
            "bestTest = 0.2850577306\n",
            "bestIteration = 84\n",
            "0:\tlearn: 0.2682781\ttest: 0.1727909\tbest: 0.1727909 (0)\ttotal: 27.6ms\tremaining: 2.73s\n",
            "25:\tlearn: 0.4995418\ttest: 0.2543159\tbest: 0.2543159 (25)\ttotal: 730ms\tremaining: 2.08s\n",
            "50:\tlearn: 0.5716976\ttest: 0.2849378\tbest: 0.2918258 (49)\ttotal: 1.38s\tremaining: 1.32s\n",
            "75:\tlearn: 0.6058162\ttest: 0.2985286\tbest: 0.2985286 (75)\ttotal: 2.02s\tremaining: 639ms\n",
            "99:\tlearn: 0.6337278\ttest: 0.3070652\tbest: 0.3073474 (97)\ttotal: 2.64s\tremaining: 0us\n",
            "bestTest = 0.3073473979\n",
            "bestIteration = 97\n",
            "0:\tlearn: 0.2682781\ttest: 0.1727909\tbest: 0.1727909 (0)\ttotal: 27.7ms\tremaining: 2.74s\n",
            "25:\tlearn: 0.4994820\ttest: 0.2524198\tbest: 0.2527316 (20)\ttotal: 693ms\tremaining: 1.97s\n",
            "50:\tlearn: 0.5733973\ttest: 0.2979791\tbest: 0.2996828 (48)\ttotal: 1.37s\tremaining: 1.32s\n",
            "75:\tlearn: 0.6048252\ttest: 0.3077230\tbest: 0.3077230 (75)\ttotal: 2.03s\tremaining: 641ms\n",
            "99:\tlearn: 0.6293159\ttest: 0.3143592\tbest: 0.3171381 (97)\ttotal: 2.67s\tremaining: 0us\n",
            "bestTest = 0.3171381374\n",
            "bestIteration = 97\n",
            "0:\tlearn: 0.2682781\ttest: 0.1727909\tbest: 0.1727909 (0)\ttotal: 27ms\tremaining: 2.67s\n",
            "25:\tlearn: 0.4956923\ttest: 0.2519970\tbest: 0.2530140 (20)\ttotal: 702ms\tremaining: 2s\n",
            "50:\tlearn: 0.5714362\ttest: 0.2930708\tbest: 0.2996145 (48)\ttotal: 1.39s\tremaining: 1.33s\n",
            "75:\tlearn: 0.6048631\ttest: 0.3031035\tbest: 0.3035256 (71)\ttotal: 2.05s\tremaining: 647ms\n",
            "99:\tlearn: 0.6295592\ttest: 0.3161048\tbest: 0.3177212 (98)\ttotal: 2.68s\tremaining: 0us\n",
            "bestTest = 0.317721193\n",
            "bestIteration = 98\n",
            "0:\tlearn: 0.2682781\ttest: 0.1727909\tbest: 0.1727909 (0)\ttotal: 28.3ms\tremaining: 2.8s\n",
            "25:\tlearn: 0.4995418\ttest: 0.2543159\tbest: 0.2543159 (25)\ttotal: 725ms\tremaining: 2.06s\n",
            "50:\tlearn: 0.5716976\ttest: 0.2849378\tbest: 0.2918258 (49)\ttotal: 1.38s\tremaining: 1.32s\n",
            "75:\tlearn: 0.6058162\ttest: 0.2985286\tbest: 0.2985286 (75)\ttotal: 2.03s\tremaining: 641ms\n",
            "99:\tlearn: 0.6337278\ttest: 0.3070652\tbest: 0.3073474 (97)\ttotal: 2.65s\tremaining: 0us\n",
            "bestTest = 0.3073473979\n",
            "bestIteration = 97\n",
            "0:\tlearn: 0.2682781\ttest: 0.1727909\tbest: 0.1727909 (0)\ttotal: 30.4ms\tremaining: 3.01s\n",
            "25:\tlearn: 0.4994820\ttest: 0.2524198\tbest: 0.2527316 (20)\ttotal: 691ms\tremaining: 1.97s\n",
            "50:\tlearn: 0.5733973\ttest: 0.2979791\tbest: 0.2996828 (48)\ttotal: 1.37s\tremaining: 1.32s\n",
            "75:\tlearn: 0.6048252\ttest: 0.3077230\tbest: 0.3077230 (75)\ttotal: 2.03s\tremaining: 642ms\n",
            "99:\tlearn: 0.6293159\ttest: 0.3143592\tbest: 0.3171381 (97)\ttotal: 2.64s\tremaining: 0us\n",
            "bestTest = 0.3171381374\n",
            "bestIteration = 97\n",
            "0:\tlearn: 0.2682781\ttest: 0.1727909\tbest: 0.1727909 (0)\ttotal: 25.5ms\tremaining: 2.52s\n",
            "25:\tlearn: 0.4956923\ttest: 0.2519970\tbest: 0.2530140 (20)\ttotal: 640ms\tremaining: 1.82s\n",
            "50:\tlearn: 0.5714362\ttest: 0.2930708\tbest: 0.2996145 (48)\ttotal: 1.34s\tremaining: 1.29s\n",
            "75:\tlearn: 0.6048631\ttest: 0.3031035\tbest: 0.3035256 (71)\ttotal: 1.99s\tremaining: 628ms\n",
            "99:\tlearn: 0.6295592\ttest: 0.3161048\tbest: 0.3177212 (98)\ttotal: 2.62s\tremaining: 0us\n",
            "bestTest = 0.317721193\n",
            "bestIteration = 98\n",
            "0:\tlearn: 0.3060020\ttest: 0.1815506\tbest: 0.1815506 (0)\ttotal: 27.6ms\tremaining: 2.73s\n",
            "25:\tlearn: 0.5344808\ttest: 0.2770547\tbest: 0.2914219 (15)\ttotal: 760ms\tremaining: 2.16s\n",
            "50:\tlearn: 0.5799311\ttest: 0.2917822\tbest: 0.2953791 (46)\ttotal: 1.48s\tremaining: 1.43s\n",
            "75:\tlearn: 0.6109155\ttest: 0.3052200\tbest: 0.3083374 (70)\ttotal: 2.21s\tremaining: 699ms\n",
            "99:\tlearn: 0.6339879\ttest: 0.3156896\tbest: 0.3158536 (98)\ttotal: 2.85s\tremaining: 0us\n",
            "bestTest = 0.3158535842\n",
            "bestIteration = 98\n",
            "0:\tlearn: 0.3057403\ttest: 0.1827295\tbest: 0.1827295 (0)\ttotal: 27.4ms\tremaining: 2.71s\n",
            "25:\tlearn: 0.5343485\ttest: 0.2756535\tbest: 0.2897790 (15)\ttotal: 738ms\tremaining: 2.1s\n",
            "50:\tlearn: 0.5780790\ttest: 0.2921381\tbest: 0.2949193 (45)\ttotal: 1.45s\tremaining: 1.4s\n",
            "75:\tlearn: 0.6067168\ttest: 0.3065936\tbest: 0.3065936 (75)\ttotal: 2.14s\tremaining: 677ms\n",
            "99:\tlearn: 0.6309425\ttest: 0.3140693\tbest: 0.3158901 (94)\ttotal: 2.84s\tremaining: 0us\n",
            "bestTest = 0.3158900534\n",
            "bestIteration = 94\n",
            "0:\tlearn: 0.3057403\ttest: 0.1827295\tbest: 0.1827295 (0)\ttotal: 27ms\tremaining: 2.68s\n",
            "25:\tlearn: 0.5322469\ttest: 0.2745853\tbest: 0.2761846 (22)\ttotal: 704ms\tremaining: 2s\n",
            "50:\tlearn: 0.5755466\ttest: 0.2887313\tbest: 0.2887313 (50)\ttotal: 1.36s\tremaining: 1.31s\n",
            "75:\tlearn: 0.6061353\ttest: 0.3007470\tbest: 0.3026470 (72)\ttotal: 2.03s\tremaining: 640ms\n",
            "99:\tlearn: 0.6292036\ttest: 0.3116005\tbest: 0.3120103 (98)\ttotal: 2.65s\tremaining: 0us\n",
            "bestTest = 0.3120103145\n",
            "bestIteration = 98\n",
            "50:\tloss: 0.3120103\tbest: 0.3385533 (30)\ttotal: 2m 59s\tremaining: 1m 45s\n",
            "0:\tlearn: 0.3060020\ttest: 0.1815506\tbest: 0.1815506 (0)\ttotal: 26.7ms\tremaining: 2.65s\n",
            "25:\tlearn: 0.5344808\ttest: 0.2770547\tbest: 0.2914219 (15)\ttotal: 687ms\tremaining: 1.95s\n",
            "50:\tlearn: 0.5799311\ttest: 0.2917822\tbest: 0.2953791 (46)\ttotal: 1.38s\tremaining: 1.33s\n",
            "75:\tlearn: 0.6109155\ttest: 0.3052200\tbest: 0.3083374 (70)\ttotal: 2.07s\tremaining: 653ms\n",
            "99:\tlearn: 0.6339879\ttest: 0.3156896\tbest: 0.3158536 (98)\ttotal: 2.74s\tremaining: 0us\n",
            "bestTest = 0.3158535842\n",
            "bestIteration = 98\n",
            "0:\tlearn: 0.3057403\ttest: 0.1827295\tbest: 0.1827295 (0)\ttotal: 26.9ms\tremaining: 2.67s\n",
            "25:\tlearn: 0.5343485\ttest: 0.2756535\tbest: 0.2897790 (15)\ttotal: 708ms\tremaining: 2.01s\n",
            "50:\tlearn: 0.5780790\ttest: 0.2921381\tbest: 0.2949193 (45)\ttotal: 1.37s\tremaining: 1.31s\n",
            "75:\tlearn: 0.6067168\ttest: 0.3065936\tbest: 0.3065936 (75)\ttotal: 2.05s\tremaining: 648ms\n",
            "99:\tlearn: 0.6309425\ttest: 0.3140693\tbest: 0.3158901 (94)\ttotal: 2.69s\tremaining: 0us\n",
            "bestTest = 0.3158900534\n",
            "bestIteration = 94\n",
            "0:\tlearn: 0.3057403\ttest: 0.1827295\tbest: 0.1827295 (0)\ttotal: 29ms\tremaining: 2.87s\n",
            "25:\tlearn: 0.5322469\ttest: 0.2745853\tbest: 0.2761846 (22)\ttotal: 759ms\tremaining: 2.16s\n",
            "50:\tlearn: 0.5755466\ttest: 0.2887313\tbest: 0.2887313 (50)\ttotal: 1.47s\tremaining: 1.41s\n",
            "75:\tlearn: 0.6061353\ttest: 0.3007470\tbest: 0.3026470 (72)\ttotal: 2.17s\tremaining: 685ms\n",
            "99:\tlearn: 0.6292036\ttest: 0.3116005\tbest: 0.3120103 (98)\ttotal: 2.84s\tremaining: 0us\n",
            "bestTest = 0.3120103145\n",
            "bestIteration = 98\n",
            "Estimating final quality...\n",
            "0:\tlearn: 0.3665629\ttest: 0.2114619\tbest: 0.2114619 (0)\n",
            "25:\tlearn: 0.6750109\ttest: 0.3195052\tbest: 0.3195052 (25)\n",
            "50:\tlearn: 0.7391092\ttest: 0.3316985\tbest: 0.3316985 (50)\n",
            "75:\tlearn: 0.7798360\ttest: 0.3396743\tbest: 0.3399552 (74)\ttotal: 38.5s\tremaining: 12.1s\n",
            "99:\tlearn: 0.8091796\ttest: 0.3443200\tbest: 0.3451940 (97)\ttotal: 54.9s\tremaining: 0us\n"
          ]
        }
      ]
    },
    {
      "cell_type": "code",
      "metadata": {
        "id": "bhtlTADAoKaf"
      },
      "source": [
        "model.save_model(\"/content/drive/MyDrive/multi_model.cbm\")"
      ],
      "execution_count": null,
      "outputs": []
    },
    {
      "cell_type": "code",
      "metadata": {
        "id": "W_ljYQlMKDiL"
      },
      "source": [
        "multi_params = grid_search_result_multi['params']"
      ],
      "execution_count": null,
      "outputs": []
    },
    {
      "cell_type": "code",
      "metadata": {
        "colab": {
          "base_uri": "https://localhost:8080/"
        },
        "id": "g5qQXBxyonyk",
        "outputId": "787bb630-3231-4f59-c53b-ffa2a4e48a76"
      },
      "source": [
        "multi_params"
      ],
      "execution_count": null,
      "outputs": [
        {
          "output_type": "execute_result",
          "data": {
            "text/plain": [
              "{'auto_class_weights': 'Balanced',\n",
              " 'depth': 8,\n",
              " 'grow_policy': 'Depthwise',\n",
              " 'l2_leaf_reg': 0.1}"
            ]
          },
          "metadata": {},
          "execution_count": 107
        }
      ]
    },
    {
      "cell_type": "code",
      "metadata": {
        "colab": {
          "base_uri": "https://localhost:8080/"
        },
        "id": "e7u6h00HKJS-",
        "outputId": "b66d61d9-b284-4a0c-9249-c4363245f7fe"
      },
      "source": [
        "model = CatBoostClassifier(eval_metric='Accuracy', iterations=300)\n",
        "model.fit(X_train, y_train, eval_set=(X_test, y_test))"
      ],
      "execution_count": null,
      "outputs": [
        {
          "output_type": "stream",
          "name": "stdout",
          "text": [
            "Learning rate set to 0.180379\n",
            "0:\tlearn: 0.3130368\ttest: 0.3028907\tbest: 0.3028907 (0)\ttotal: 407ms\tremaining: 2m 1s\n",
            "1:\tlearn: 0.3226032\ttest: 0.3081274\tbest: 0.3081274 (1)\ttotal: 818ms\tremaining: 2m 1s\n",
            "2:\tlearn: 0.3315411\ttest: 0.3148303\tbest: 0.3148303 (2)\ttotal: 1.24s\tremaining: 2m 2s\n",
            "3:\tlearn: 0.3455066\ttest: 0.3288647\tbest: 0.3288647 (3)\ttotal: 1.67s\tremaining: 2m 3s\n",
            "4:\tlearn: 0.3573075\ttest: 0.3355677\tbest: 0.3355677 (4)\ttotal: 2.11s\tremaining: 2m 4s\n",
            "5:\tlearn: 0.3652678\ttest: 0.3464600\tbest: 0.3464600 (5)\ttotal: 2.59s\tremaining: 2m 7s\n",
            "6:\tlearn: 0.3739264\ttest: 0.3508588\tbest: 0.3508588 (6)\ttotal: 3.01s\tremaining: 2m 5s\n",
            "7:\tlearn: 0.3776971\ttest: 0.3558860\tbest: 0.3558860 (7)\ttotal: 3.42s\tremaining: 2m 5s\n",
            "8:\tlearn: 0.3833531\ttest: 0.3617512\tbest: 0.3617512 (8)\ttotal: 3.84s\tremaining: 2m 4s\n",
            "9:\tlearn: 0.3849592\ttest: 0.3665689\tbest: 0.3665689 (9)\ttotal: 4.26s\tremaining: 2m 3s\n",
            "10:\tlearn: 0.3874729\ttest: 0.3686636\tbest: 0.3686636 (10)\ttotal: 4.66s\tremaining: 2m 2s\n",
            "11:\tlearn: 0.3928497\ttest: 0.3713867\tbest: 0.3713867 (11)\ttotal: 5.07s\tremaining: 2m 1s\n",
            "12:\tlearn: 0.3969695\ttest: 0.3743192\tbest: 0.3743192 (12)\ttotal: 5.46s\tremaining: 2m\n",
            "13:\tlearn: 0.4033238\ttest: 0.3782991\tbest: 0.3782991 (13)\ttotal: 5.87s\tremaining: 1m 59s\n",
            "14:\tlearn: 0.4059074\ttest: 0.3839548\tbest: 0.3839548 (14)\ttotal: 6.3s\tremaining: 1m 59s\n",
            "15:\tlearn: 0.4090496\ttest: 0.3852116\tbest: 0.3852116 (15)\ttotal: 6.69s\tremaining: 1m 58s\n",
            "16:\tlearn: 0.4126807\ttest: 0.3831169\tbest: 0.3852116 (15)\ttotal: 7.1s\tremaining: 1m 58s\n",
            "17:\tlearn: 0.4149152\ttest: 0.3862589\tbest: 0.3862589 (17)\ttotal: 7.5s\tremaining: 1m 57s\n",
            "18:\tlearn: 0.4188953\ttest: 0.3873062\tbest: 0.3873062 (18)\ttotal: 7.92s\tremaining: 1m 57s\n",
            "19:\tlearn: 0.4223169\ttest: 0.3919145\tbest: 0.3919145 (19)\ttotal: 8.32s\tremaining: 1m 56s\n",
            "20:\tlearn: 0.4242022\ttest: 0.3902388\tbest: 0.3919145 (19)\ttotal: 8.72s\tremaining: 1m 55s\n",
            "21:\tlearn: 0.4293695\ttest: 0.3921240\tbest: 0.3921240 (21)\ttotal: 9.14s\tremaining: 1m 55s\n",
            "22:\tlearn: 0.4318134\ttest: 0.3904483\tbest: 0.3921240 (21)\ttotal: 9.54s\tremaining: 1m 54s\n",
            "23:\tlearn: 0.4353746\ttest: 0.3937997\tbest: 0.3937997 (23)\ttotal: 9.96s\tremaining: 1m 54s\n",
            "24:\tlearn: 0.4383772\ttest: 0.3979891\tbest: 0.3979891 (24)\ttotal: 10.4s\tremaining: 1m 53s\n",
            "25:\tlearn: 0.4418686\ttest: 0.3988270\tbest: 0.3988270 (25)\ttotal: 10.8s\tremaining: 1m 53s\n",
            "26:\tlearn: 0.4450807\ttest: 0.3996649\tbest: 0.3996649 (26)\ttotal: 11.2s\tremaining: 1m 53s\n",
            "27:\tlearn: 0.4482927\ttest: 0.3992459\tbest: 0.3996649 (26)\ttotal: 11.6s\tremaining: 1m 52s\n",
            "28:\tlearn: 0.4509462\ttest: 0.4015501\tbest: 0.4015501 (28)\ttotal: 12s\tremaining: 1m 52s\n",
            "29:\tlearn: 0.4519936\ttest: 0.4030163\tbest: 0.4030163 (29)\ttotal: 12.4s\tremaining: 1m 51s\n",
            "30:\tlearn: 0.4531806\ttest: 0.4044826\tbest: 0.4044826 (30)\ttotal: 12.8s\tremaining: 1m 51s\n",
            "31:\tlearn: 0.4580686\ttest: 0.4067868\tbest: 0.4067868 (31)\ttotal: 13.2s\tremaining: 1m 50s\n",
            "32:\tlearn: 0.4582082\ttest: 0.4057394\tbest: 0.4067868 (31)\ttotal: 13.6s\tremaining: 1m 50s\n",
            "33:\tlearn: 0.4610013\ttest: 0.4093004\tbest: 0.4093004 (33)\ttotal: 14s\tremaining: 1m 49s\n",
            "34:\tlearn: 0.4674953\ttest: 0.4116045\tbest: 0.4116045 (34)\ttotal: 14.5s\tremaining: 1m 49s\n",
            "35:\tlearn: 0.4703582\ttest: 0.4113951\tbest: 0.4116045 (34)\ttotal: 14.9s\tremaining: 1m 49s\n",
            "36:\tlearn: 0.4710565\ttest: 0.4162128\tbest: 0.4162128 (36)\ttotal: 15.3s\tremaining: 1m 48s\n",
            "37:\tlearn: 0.4718944\ttest: 0.4136992\tbest: 0.4162128 (36)\ttotal: 15.7s\tremaining: 1m 48s\n",
            "38:\tlearn: 0.4753858\ttest: 0.4180980\tbest: 0.4180980 (38)\ttotal: 16.1s\tremaining: 1m 47s\n",
            "39:\tlearn: 0.4783884\ttest: 0.4191454\tbest: 0.4191454 (39)\ttotal: 16.5s\tremaining: 1m 47s\n",
            "40:\tlearn: 0.4801341\ttest: 0.4197738\tbest: 0.4197738 (40)\ttotal: 17s\tremaining: 1m 47s\n",
            "41:\tlearn: 0.4839746\ttest: 0.4220779\tbest: 0.4220779 (41)\ttotal: 17.4s\tremaining: 1m 46s\n",
            "42:\tlearn: 0.4854410\ttest: 0.4243821\tbest: 0.4243821 (42)\ttotal: 17.8s\tremaining: 1m 46s\n",
            "43:\tlearn: 0.4878849\ttest: 0.4237537\tbest: 0.4243821 (42)\ttotal: 18.2s\tremaining: 1m 45s\n",
            "44:\tlearn: 0.4899798\ttest: 0.4258483\tbest: 0.4258483 (44)\ttotal: 18.6s\tremaining: 1m 45s\n",
            "45:\tlearn: 0.4927030\ttest: 0.4268957\tbest: 0.4268957 (45)\ttotal: 19s\tremaining: 1m 44s\n",
            "46:\tlearn: 0.4952866\ttest: 0.4260578\tbest: 0.4268957 (45)\ttotal: 19.4s\tremaining: 1m 44s\n",
            "47:\tlearn: 0.4976608\ttest: 0.4281525\tbest: 0.4281525 (47)\ttotal: 19.8s\tremaining: 1m 44s\n",
            "48:\tlearn: 0.4977306\ttest: 0.4323419\tbest: 0.4323419 (48)\ttotal: 20.2s\tremaining: 1m 43s\n",
            "49:\tlearn: 0.5001047\ttest: 0.4327608\tbest: 0.4327608 (49)\ttotal: 20.6s\tremaining: 1m 43s\n",
            "50:\tlearn: 0.5017806\ttest: 0.4315040\tbest: 0.4327608 (49)\ttotal: 21s\tremaining: 1m 42s\n",
            "51:\tlearn: 0.5020599\ttest: 0.4325513\tbest: 0.4327608 (49)\ttotal: 21.4s\tremaining: 1m 42s\n",
            "52:\tlearn: 0.5047134\ttest: 0.4331797\tbest: 0.4331797 (52)\ttotal: 21.8s\tremaining: 1m 41s\n",
            "53:\tlearn: 0.5077159\ttest: 0.4356933\tbest: 0.4356933 (53)\ttotal: 22.2s\tremaining: 1m 41s\n",
            "54:\tlearn: 0.5102297\ttest: 0.4369501\tbest: 0.4369501 (54)\ttotal: 22.6s\tremaining: 1m 40s\n",
            "55:\tlearn: 0.5116961\ttest: 0.4371596\tbest: 0.4371596 (55)\ttotal: 23s\tremaining: 1m 40s\n",
            "56:\tlearn: 0.5133021\ttest: 0.4405111\tbest: 0.4405111 (56)\ttotal: 23.4s\tremaining: 1m 39s\n",
            "57:\tlearn: 0.5151177\ttest: 0.4415584\tbest: 0.4415584 (57)\ttotal: 23.8s\tremaining: 1m 39s\n",
            "58:\tlearn: 0.5166539\ttest: 0.4430247\tbest: 0.4430247 (58)\ttotal: 24.2s\tremaining: 1m 38s\n",
            "59:\tlearn: 0.5179108\ttest: 0.4413490\tbest: 0.4430247 (58)\ttotal: 24.6s\tremaining: 1m 38s\n",
            "60:\tlearn: 0.5199358\ttest: 0.4434437\tbest: 0.4434437 (60)\ttotal: 25s\tremaining: 1m 38s\n",
            "61:\tlearn: 0.5209832\ttest: 0.4400922\tbest: 0.4434437 (60)\ttotal: 25.4s\tremaining: 1m 37s\n",
            "62:\tlearn: 0.5221702\ttest: 0.4436531\tbest: 0.4436531 (62)\ttotal: 25.8s\tremaining: 1m 37s\n",
            "63:\tlearn: 0.5245444\ttest: 0.4423963\tbest: 0.4436531 (62)\ttotal: 26.2s\tremaining: 1m 36s\n",
            "64:\tlearn: 0.5248935\ttest: 0.4451194\tbest: 0.4451194 (64)\ttotal: 26.6s\tremaining: 1m 36s\n",
            "65:\tlearn: 0.5255220\ttest: 0.4438626\tbest: 0.4451194 (64)\ttotal: 27s\tremaining: 1m 35s\n",
            "66:\tlearn: 0.5281754\ttest: 0.4451194\tbest: 0.4451194 (64)\ttotal: 27.5s\tremaining: 1m 35s\n",
            "67:\tlearn: 0.5276866\ttest: 0.4417679\tbest: 0.4451194 (64)\ttotal: 27.9s\tremaining: 1m 35s\n",
            "68:\tlearn: 0.5315271\ttest: 0.4421868\tbest: 0.4451194 (64)\ttotal: 28.3s\tremaining: 1m 34s\n",
            "69:\tlearn: 0.5341107\ttest: 0.4432342\tbest: 0.4451194 (64)\ttotal: 28.7s\tremaining: 1m 34s\n",
            "70:\tlearn: 0.5352978\ttest: 0.4463762\tbest: 0.4463762 (70)\ttotal: 29.1s\tremaining: 1m 33s\n",
            "71:\tlearn: 0.5364151\ttest: 0.4490993\tbest: 0.4490993 (71)\ttotal: 29.5s\tremaining: 1m 33s\n",
            "72:\tlearn: 0.5395573\ttest: 0.4478425\tbest: 0.4490993 (71)\ttotal: 29.9s\tremaining: 1m 33s\n",
            "73:\tlearn: 0.5413030\ttest: 0.4488898\tbest: 0.4490993 (71)\ttotal: 30.3s\tremaining: 1m 32s\n",
            "74:\tlearn: 0.5413030\ttest: 0.4505656\tbest: 0.4505656 (74)\ttotal: 30.7s\tremaining: 1m 32s\n",
            "75:\tlearn: 0.5417219\ttest: 0.4505656\tbest: 0.4505656 (74)\ttotal: 31.1s\tremaining: 1m 31s\n",
            "76:\tlearn: 0.5420013\ttest: 0.4493088\tbest: 0.4505656 (74)\ttotal: 31.5s\tremaining: 1m 31s\n",
            "77:\tlearn: 0.5432582\ttest: 0.4503561\tbest: 0.4505656 (74)\ttotal: 31.9s\tremaining: 1m 30s\n",
            "78:\tlearn: 0.5447245\ttest: 0.4522413\tbest: 0.4522413 (78)\ttotal: 32.3s\tremaining: 1m 30s\n",
            "79:\tlearn: 0.5452832\ttest: 0.4493088\tbest: 0.4522413 (78)\ttotal: 32.7s\tremaining: 1m 29s\n",
            "80:\tlearn: 0.5464702\ttest: 0.4511940\tbest: 0.4522413 (78)\ttotal: 33.1s\tremaining: 1m 29s\n",
            "81:\tlearn: 0.5459116\ttest: 0.4499372\tbest: 0.4522413 (78)\ttotal: 33.5s\tremaining: 1m 29s\n",
            "82:\tlearn: 0.5466797\ttest: 0.4488898\tbest: 0.4522413 (78)\ttotal: 33.9s\tremaining: 1m 28s\n",
            "83:\tlearn: 0.5487047\ttest: 0.4484709\tbest: 0.4522413 (78)\ttotal: 34.3s\tremaining: 1m 28s\n",
            "84:\tlearn: 0.5504504\ttest: 0.4488898\tbest: 0.4522413 (78)\ttotal: 34.7s\tremaining: 1m 27s\n",
            "85:\tlearn: 0.5517771\ttest: 0.4511940\tbest: 0.4522413 (78)\ttotal: 35.1s\tremaining: 1m 27s\n",
            "86:\tlearn: 0.5535926\ttest: 0.4516129\tbest: 0.4522413 (78)\ttotal: 35.5s\tremaining: 1m 26s\n",
            "87:\tlearn: 0.5542909\ttest: 0.4518224\tbest: 0.4522413 (78)\ttotal: 35.9s\tremaining: 1m 26s\n",
            "88:\tlearn: 0.5542211\ttest: 0.4514034\tbest: 0.4522413 (78)\ttotal: 36.3s\tremaining: 1m 26s\n",
            "89:\tlearn: 0.5550590\ttest: 0.4499372\tbest: 0.4522413 (78)\ttotal: 36.7s\tremaining: 1m 25s\n",
            "90:\tlearn: 0.5567349\ttest: 0.4524508\tbest: 0.4524508 (90)\ttotal: 37.1s\tremaining: 1m 25s\n",
            "91:\tlearn: 0.5587599\ttest: 0.4509845\tbest: 0.4524508 (90)\ttotal: 37.5s\tremaining: 1m 24s\n",
            "92:\tlearn: 0.5595978\ttest: 0.4520318\tbest: 0.4524508 (90)\ttotal: 37.9s\tremaining: 1m 24s\n",
            "93:\tlearn: 0.5604357\ttest: 0.4541265\tbest: 0.4541265 (93)\ttotal: 38.3s\tremaining: 1m 23s\n",
            "94:\tlearn: 0.5611340\ttest: 0.4539171\tbest: 0.4541265 (93)\ttotal: 38.7s\tremaining: 1m 23s\n",
            "95:\tlearn: 0.5621116\ttest: 0.4543360\tbest: 0.4543360 (95)\ttotal: 39.1s\tremaining: 1m 23s\n",
            "96:\tlearn: 0.5639969\ttest: 0.4555928\tbest: 0.4555928 (96)\ttotal: 39.5s\tremaining: 1m 22s\n",
            "97:\tlearn: 0.5642064\ttest: 0.4560117\tbest: 0.4560117 (97)\ttotal: 39.9s\tremaining: 1m 22s\n",
            "98:\tlearn: 0.5647650\ttest: 0.4553833\tbest: 0.4560117 (97)\ttotal: 40.3s\tremaining: 1m 21s\n",
            "99:\tlearn: 0.5662314\ttest: 0.4528697\tbest: 0.4560117 (97)\ttotal: 40.7s\tremaining: 1m 21s\n",
            "100:\tlearn: 0.5663012\ttest: 0.4545455\tbest: 0.4560117 (97)\ttotal: 41.1s\tremaining: 1m 20s\n",
            "101:\tlearn: 0.5684659\ttest: 0.4568496\tbest: 0.4568496 (101)\ttotal: 41.5s\tremaining: 1m 20s\n",
            "102:\tlearn: 0.5689547\ttest: 0.4570591\tbest: 0.4570591 (102)\ttotal: 41.9s\tremaining: 1m 20s\n",
            "103:\tlearn: 0.5700719\ttest: 0.4562212\tbest: 0.4570591 (102)\ttotal: 42.3s\tremaining: 1m 19s\n",
            "104:\tlearn: 0.5708400\ttest: 0.4560117\tbest: 0.4570591 (102)\ttotal: 42.7s\tremaining: 1m 19s\n",
            "105:\tlearn: 0.5723762\ttest: 0.4585253\tbest: 0.4585253 (105)\ttotal: 43.1s\tremaining: 1m 18s\n",
            "106:\tlearn: 0.5748202\ttest: 0.4614579\tbest: 0.4614579 (106)\ttotal: 43.5s\tremaining: 1m 18s\n",
            "107:\tlearn: 0.5759374\ttest: 0.4602011\tbest: 0.4614579 (106)\ttotal: 43.9s\tremaining: 1m 18s\n",
            "108:\tlearn: 0.5768452\ttest: 0.4597822\tbest: 0.4614579 (106)\ttotal: 44.3s\tremaining: 1m 17s\n",
            "109:\tlearn: 0.5771943\ttest: 0.4606200\tbest: 0.4614579 (106)\ttotal: 44.7s\tremaining: 1m 17s\n",
            "110:\tlearn: 0.5797779\ttest: 0.4612484\tbest: 0.4614579 (106)\ttotal: 45.1s\tremaining: 1m 16s\n",
            "111:\tlearn: 0.5809650\ttest: 0.4599916\tbest: 0.4614579 (106)\ttotal: 45.5s\tremaining: 1m 16s\n",
            "112:\tlearn: 0.5821521\ttest: 0.4608295\tbest: 0.4614579 (106)\ttotal: 45.9s\tremaining: 1m 15s\n",
            "113:\tlearn: 0.5828504\ttest: 0.4625052\tbest: 0.4625052 (113)\ttotal: 46.3s\tremaining: 1m 15s\n",
            "114:\tlearn: 0.5845262\ttest: 0.4608295\tbest: 0.4625052 (113)\ttotal: 46.7s\tremaining: 1m 15s\n",
            "115:\tlearn: 0.5848754\ttest: 0.4625052\tbest: 0.4625052 (113)\ttotal: 47.1s\tremaining: 1m 14s\n",
            "116:\tlearn: 0.5857831\ttest: 0.4631336\tbest: 0.4631336 (116)\ttotal: 47.5s\tremaining: 1m 14s\n",
            "117:\tlearn: 0.5871797\ttest: 0.4631336\tbest: 0.4631336 (116)\ttotal: 47.9s\tremaining: 1m 13s\n",
            "118:\tlearn: 0.5880874\ttest: 0.4639715\tbest: 0.4639715 (118)\ttotal: 48.3s\tremaining: 1m 13s\n",
            "119:\tlearn: 0.5894141\ttest: 0.4635526\tbest: 0.4639715 (118)\ttotal: 48.7s\tremaining: 1m 13s\n",
            "120:\tlearn: 0.5901822\ttest: 0.4635526\tbest: 0.4639715 (118)\ttotal: 49.1s\tremaining: 1m 12s\n",
            "121:\tlearn: 0.5906710\ttest: 0.4631336\tbest: 0.4639715 (118)\ttotal: 49.5s\tremaining: 1m 12s\n",
            "122:\tlearn: 0.5934641\ttest: 0.4641810\tbest: 0.4641810 (122)\ttotal: 49.9s\tremaining: 1m 11s\n",
            "123:\tlearn: 0.5947909\ttest: 0.4635526\tbest: 0.4641810 (122)\ttotal: 50.3s\tremaining: 1m 11s\n",
            "124:\tlearn: 0.5962572\ttest: 0.4631336\tbest: 0.4641810 (122)\ttotal: 50.7s\tremaining: 1m 10s\n",
            "125:\tlearn: 0.5972348\ttest: 0.4650189\tbest: 0.4650189 (125)\ttotal: 51.1s\tremaining: 1m 10s\n",
            "126:\tlearn: 0.5985616\ttest: 0.4658567\tbest: 0.4658567 (126)\ttotal: 51.5s\tremaining: 1m 10s\n",
            "127:\tlearn: 0.5990503\ttest: 0.4650189\tbest: 0.4658567 (126)\ttotal: 51.9s\tremaining: 1m 9s\n",
            "128:\tlearn: 0.6014245\ttest: 0.4654378\tbest: 0.4658567 (126)\ttotal: 52.3s\tremaining: 1m 9s\n",
            "129:\tlearn: 0.6017736\ttest: 0.4660662\tbest: 0.4660662 (129)\ttotal: 52.7s\tremaining: 1m 8s\n",
            "130:\tlearn: 0.6033797\ttest: 0.4658567\tbest: 0.4660662 (129)\ttotal: 53.1s\tremaining: 1m 8s\n",
            "131:\tlearn: 0.6028210\ttest: 0.4641810\tbest: 0.4660662 (129)\ttotal: 53.5s\tremaining: 1m 8s\n",
            "132:\tlearn: 0.6044271\ttest: 0.4633431\tbest: 0.4660662 (129)\ttotal: 53.9s\tremaining: 1m 7s\n",
            "133:\tlearn: 0.6051952\ttest: 0.4652283\tbest: 0.4660662 (129)\ttotal: 54.3s\tremaining: 1m 7s\n",
            "134:\tlearn: 0.6069409\ttest: 0.4658567\tbest: 0.4660662 (129)\ttotal: 54.7s\tremaining: 1m 6s\n",
            "135:\tlearn: 0.6081279\ttest: 0.4662757\tbest: 0.4662757 (135)\ttotal: 55.1s\tremaining: 1m 6s\n",
            "136:\tlearn: 0.6091753\ttest: 0.4666946\tbest: 0.4666946 (136)\ttotal: 55.4s\tremaining: 1m 5s\n",
            "137:\tlearn: 0.6105719\ttest: 0.4671135\tbest: 0.4671135 (137)\ttotal: 55.8s\tremaining: 1m 5s\n",
            "138:\tlearn: 0.6102926\ttest: 0.4685798\tbest: 0.4685798 (138)\ttotal: 56.2s\tremaining: 1m 5s\n",
            "139:\tlearn: 0.6115495\ttest: 0.4685798\tbest: 0.4685798 (138)\ttotal: 56.6s\tremaining: 1m 4s\n",
            "140:\tlearn: 0.6116193\ttest: 0.4687893\tbest: 0.4687893 (140)\ttotal: 57s\tremaining: 1m 4s\n",
            "141:\tlearn: 0.6127365\ttest: 0.4683703\tbest: 0.4687893 (140)\ttotal: 57.4s\tremaining: 1m 3s\n",
            "142:\tlearn: 0.6129460\ttest: 0.4681609\tbest: 0.4687893 (140)\ttotal: 57.8s\tremaining: 1m 3s\n",
            "143:\tlearn: 0.6139236\ttest: 0.4677419\tbest: 0.4687893 (140)\ttotal: 58.2s\tremaining: 1m 3s\n",
            "144:\tlearn: 0.6159486\ttest: 0.4677419\tbest: 0.4687893 (140)\ttotal: 58.6s\tremaining: 1m 2s\n",
            "145:\tlearn: 0.6183926\ttest: 0.4669041\tbest: 0.4687893 (140)\ttotal: 59s\tremaining: 1m 2s\n",
            "146:\tlearn: 0.6186021\ttest: 0.4683703\tbest: 0.4687893 (140)\ttotal: 59.4s\tremaining: 1m 1s\n",
            "147:\tlearn: 0.6195796\ttest: 0.4677419\tbest: 0.4687893 (140)\ttotal: 59.8s\tremaining: 1m 1s\n",
            "148:\tlearn: 0.6196495\ttest: 0.4669041\tbest: 0.4687893 (140)\ttotal: 1m\tremaining: 1m 1s\n",
            "149:\tlearn: 0.6207667\ttest: 0.4662757\tbest: 0.4687893 (140)\ttotal: 1m\tremaining: 1m\n",
            "150:\tlearn: 0.6213253\ttest: 0.4681609\tbest: 0.4687893 (140)\ttotal: 1m 1s\tremaining: 1m\n",
            "151:\tlearn: 0.6216046\ttest: 0.4689987\tbest: 0.4689987 (151)\ttotal: 1m 1s\tremaining: 59.8s\n",
            "152:\tlearn: 0.6226520\ttest: 0.4675325\tbest: 0.4689987 (151)\ttotal: 1m 1s\tremaining: 59.4s\n",
            "153:\tlearn: 0.6246072\ttest: 0.4685798\tbest: 0.4689987 (151)\ttotal: 1m 2s\tremaining: 59s\n",
            "154:\tlearn: 0.6256546\ttest: 0.4687893\tbest: 0.4689987 (151)\ttotal: 1m 2s\tremaining: 58.6s\n",
            "155:\tlearn: 0.6260038\ttest: 0.4694177\tbest: 0.4694177 (155)\ttotal: 1m 3s\tremaining: 58.2s\n",
            "156:\tlearn: 0.6270512\ttest: 0.4708840\tbest: 0.4708840 (156)\ttotal: 1m 3s\tremaining: 57.8s\n",
            "157:\tlearn: 0.6275400\ttest: 0.4708840\tbest: 0.4708840 (156)\ttotal: 1m 3s\tremaining: 57.4s\n",
            "158:\tlearn: 0.6285874\ttest: 0.4698366\tbest: 0.4708840 (156)\ttotal: 1m 4s\tremaining: 57s\n",
            "159:\tlearn: 0.6302632\ttest: 0.4689987\tbest: 0.4708840 (156)\ttotal: 1m 4s\tremaining: 56.5s\n",
            "160:\tlearn: 0.6303331\ttest: 0.4700461\tbest: 0.4708840 (156)\ttotal: 1m 5s\tremaining: 56.1s\n",
            "161:\tlearn: 0.6306124\ttest: 0.4689987\tbest: 0.4708840 (156)\ttotal: 1m 5s\tremaining: 55.7s\n",
            "162:\tlearn: 0.6313107\ttest: 0.4706745\tbest: 0.4708840 (156)\ttotal: 1m 5s\tremaining: 55.3s\n",
            "163:\tlearn: 0.6320089\ttest: 0.4713029\tbest: 0.4713029 (163)\ttotal: 1m 6s\tremaining: 54.9s\n",
            "164:\tlearn: 0.6320788\ttest: 0.4692082\tbest: 0.4713029 (163)\ttotal: 1m 6s\tremaining: 54.5s\n",
            "165:\tlearn: 0.6328469\ttest: 0.4704650\tbest: 0.4713029 (163)\ttotal: 1m 6s\tremaining: 54.1s\n",
            "166:\tlearn: 0.6340339\ttest: 0.4700461\tbest: 0.4713029 (163)\ttotal: 1m 7s\tremaining: 53.7s\n",
            "167:\tlearn: 0.6338245\ttest: 0.4694177\tbest: 0.4713029 (163)\ttotal: 1m 7s\tremaining: 53.3s\n",
            "168:\tlearn: 0.6358495\ttest: 0.4733976\tbest: 0.4733976 (168)\ttotal: 1m 8s\tremaining: 52.9s\n",
            "169:\tlearn: 0.6362684\ttest: 0.4740260\tbest: 0.4740260 (169)\ttotal: 1m 8s\tremaining: 52.4s\n",
            "170:\tlearn: 0.6367572\ttest: 0.4748638\tbest: 0.4748638 (170)\ttotal: 1m 8s\tremaining: 52s\n",
            "171:\tlearn: 0.6373158\ttest: 0.4738165\tbest: 0.4748638 (170)\ttotal: 1m 9s\tremaining: 51.6s\n",
            "172:\tlearn: 0.6378046\ttest: 0.4729786\tbest: 0.4748638 (170)\ttotal: 1m 9s\tremaining: 51.2s\n",
            "173:\tlearn: 0.6385029\ttest: 0.4723502\tbest: 0.4748638 (170)\ttotal: 1m 10s\tremaining: 50.8s\n",
            "174:\tlearn: 0.6408072\ttest: 0.4742354\tbest: 0.4748638 (170)\ttotal: 1m 10s\tremaining: 50.4s\n",
            "175:\tlearn: 0.6413658\ttest: 0.4729786\tbest: 0.4748638 (170)\ttotal: 1m 10s\tremaining: 50s\n",
            "176:\tlearn: 0.6422736\ttest: 0.4723502\tbest: 0.4748638 (170)\ttotal: 1m 11s\tremaining: 49.6s\n",
            "177:\tlearn: 0.6431813\ttest: 0.4717218\tbest: 0.4748638 (170)\ttotal: 1m 11s\tremaining: 49.2s\n",
            "178:\tlearn: 0.6442986\ttest: 0.4738165\tbest: 0.4748638 (170)\ttotal: 1m 12s\tremaining: 48.8s\n",
            "179:\tlearn: 0.6455555\ttest: 0.4725597\tbest: 0.4748638 (170)\ttotal: 1m 12s\tremaining: 48.4s\n",
            "180:\tlearn: 0.6459046\ttest: 0.4721408\tbest: 0.4748638 (170)\ttotal: 1m 12s\tremaining: 48s\n",
            "181:\tlearn: 0.6463934\ttest: 0.4736070\tbest: 0.4748638 (170)\ttotal: 1m 13s\tremaining: 47.6s\n",
            "182:\tlearn: 0.6472313\ttest: 0.4729786\tbest: 0.4748638 (170)\ttotal: 1m 13s\tremaining: 47.1s\n",
            "183:\tlearn: 0.6480693\ttest: 0.4736070\tbest: 0.4748638 (170)\ttotal: 1m 14s\tremaining: 46.7s\n",
            "184:\tlearn: 0.6489072\ttest: 0.4729786\tbest: 0.4748638 (170)\ttotal: 1m 14s\tremaining: 46.3s\n",
            "185:\tlearn: 0.6493960\ttest: 0.4727692\tbest: 0.4748638 (170)\ttotal: 1m 14s\tremaining: 45.9s\n",
            "186:\tlearn: 0.6496753\ttest: 0.4725597\tbest: 0.4748638 (170)\ttotal: 1m 15s\tremaining: 45.5s\n",
            "187:\tlearn: 0.6511417\ttest: 0.4740260\tbest: 0.4748638 (170)\ttotal: 1m 15s\tremaining: 45.1s\n",
            "188:\tlearn: 0.6516305\ttest: 0.4744449\tbest: 0.4748638 (170)\ttotal: 1m 16s\tremaining: 44.7s\n",
            "189:\tlearn: 0.6530270\ttest: 0.4736070\tbest: 0.4748638 (170)\ttotal: 1m 16s\tremaining: 44.3s\n",
            "190:\tlearn: 0.6525382\ttest: 0.4736070\tbest: 0.4748638 (170)\ttotal: 1m 16s\tremaining: 43.9s\n",
            "191:\tlearn: 0.6529572\ttest: 0.4742354\tbest: 0.4748638 (170)\ttotal: 1m 17s\tremaining: 43.5s\n",
            "192:\tlearn: 0.6537253\ttest: 0.4748638\tbest: 0.4748638 (170)\ttotal: 1m 17s\tremaining: 43.1s\n",
            "193:\tlearn: 0.6544934\ttest: 0.4761207\tbest: 0.4761207 (193)\ttotal: 1m 18s\tremaining: 42.7s\n",
            "194:\tlearn: 0.6549124\ttest: 0.4752828\tbest: 0.4761207 (193)\ttotal: 1m 18s\tremaining: 42.3s\n",
            "195:\tlearn: 0.6555408\ttest: 0.4750733\tbest: 0.4761207 (193)\ttotal: 1m 18s\tremaining: 41.9s\n",
            "196:\tlearn: 0.6560296\ttest: 0.4750733\tbest: 0.4761207 (193)\ttotal: 1m 19s\tremaining: 41.5s\n",
            "197:\tlearn: 0.6555408\ttest: 0.4752828\tbest: 0.4761207 (193)\ttotal: 1m 19s\tremaining: 41.1s\n",
            "198:\tlearn: 0.6576356\ttest: 0.4754922\tbest: 0.4761207 (193)\ttotal: 1m 20s\tremaining: 40.7s\n",
            "199:\tlearn: 0.6588227\ttest: 0.4775869\tbest: 0.4775869 (199)\ttotal: 1m 20s\tremaining: 40.3s\n",
            "200:\tlearn: 0.6593813\ttest: 0.4767491\tbest: 0.4775869 (199)\ttotal: 1m 20s\tremaining: 39.9s\n",
            "201:\tlearn: 0.6602193\ttest: 0.4775869\tbest: 0.4775869 (199)\ttotal: 1m 21s\tremaining: 39.5s\n",
            "202:\tlearn: 0.6607779\ttest: 0.4771680\tbest: 0.4775869 (199)\ttotal: 1m 21s\tremaining: 39s\n",
            "203:\tlearn: 0.6619649\ttest: 0.4771680\tbest: 0.4775869 (199)\ttotal: 1m 22s\tremaining: 38.6s\n",
            "204:\tlearn: 0.6628029\ttest: 0.4759112\tbest: 0.4775869 (199)\ttotal: 1m 22s\tremaining: 38.2s\n",
            "205:\tlearn: 0.6623839\ttest: 0.4777964\tbest: 0.4777964 (205)\ttotal: 1m 22s\tremaining: 37.8s\n",
            "206:\tlearn: 0.6635012\ttest: 0.4780059\tbest: 0.4780059 (206)\ttotal: 1m 23s\tremaining: 37.4s\n",
            "207:\tlearn: 0.6637805\ttest: 0.4777964\tbest: 0.4780059 (206)\ttotal: 1m 23s\tremaining: 37s\n",
            "208:\tlearn: 0.6646184\ttest: 0.4765396\tbest: 0.4780059 (206)\ttotal: 1m 24s\tremaining: 36.6s\n",
            "209:\tlearn: 0.6651770\ttest: 0.4771680\tbest: 0.4780059 (206)\ttotal: 1m 24s\tremaining: 36.2s\n",
            "210:\tlearn: 0.6658055\ttest: 0.4775869\tbest: 0.4780059 (206)\ttotal: 1m 24s\tremaining: 35.8s\n",
            "211:\tlearn: 0.6665037\ttest: 0.4765396\tbest: 0.4780059 (206)\ttotal: 1m 25s\tremaining: 35.4s\n",
            "212:\tlearn: 0.6662943\ttest: 0.4777964\tbest: 0.4780059 (206)\ttotal: 1m 25s\tremaining: 35s\n",
            "213:\tlearn: 0.6677606\ttest: 0.4773775\tbest: 0.4780059 (206)\ttotal: 1m 26s\tremaining: 34.6s\n",
            "214:\tlearn: 0.6678305\ttest: 0.4773775\tbest: 0.4780059 (206)\ttotal: 1m 26s\tremaining: 34.2s\n",
            "215:\tlearn: 0.6683193\ttest: 0.4782153\tbest: 0.4782153 (215)\ttotal: 1m 26s\tremaining: 33.8s\n",
            "216:\tlearn: 0.6681796\ttest: 0.4773775\tbest: 0.4782153 (215)\ttotal: 1m 27s\tremaining: 33.4s\n",
            "217:\tlearn: 0.6692968\ttest: 0.4782153\tbest: 0.4782153 (215)\ttotal: 1m 27s\tremaining: 33s\n",
            "218:\tlearn: 0.6699951\ttest: 0.4780059\tbest: 0.4782153 (215)\ttotal: 1m 27s\tremaining: 32.5s\n",
            "219:\tlearn: 0.6699253\ttest: 0.4777964\tbest: 0.4782153 (215)\ttotal: 1m 28s\tremaining: 32.1s\n",
            "220:\tlearn: 0.6704839\ttest: 0.4790532\tbest: 0.4790532 (220)\ttotal: 1m 28s\tremaining: 31.7s\n",
            "221:\tlearn: 0.6709727\ttest: 0.4784248\tbest: 0.4790532 (220)\ttotal: 1m 29s\tremaining: 31.3s\n",
            "222:\tlearn: 0.6706236\ttest: 0.4777964\tbest: 0.4790532 (220)\ttotal: 1m 29s\tremaining: 30.9s\n",
            "223:\tlearn: 0.6714615\ttest: 0.4784248\tbest: 0.4790532 (220)\ttotal: 1m 29s\tremaining: 30.5s\n",
            "224:\tlearn: 0.6718805\ttest: 0.4788437\tbest: 0.4790532 (220)\ttotal: 1m 30s\tremaining: 30.1s\n",
            "225:\tlearn: 0.6725089\ttest: 0.4786343\tbest: 0.4790532 (220)\ttotal: 1m 30s\tremaining: 29.7s\n",
            "226:\tlearn: 0.6734865\ttest: 0.4775869\tbest: 0.4790532 (220)\ttotal: 1m 31s\tremaining: 29.3s\n",
            "227:\tlearn: 0.6739753\ttest: 0.4782153\tbest: 0.4790532 (220)\ttotal: 1m 31s\tremaining: 28.9s\n",
            "228:\tlearn: 0.6739055\ttest: 0.4790532\tbest: 0.4790532 (220)\ttotal: 1m 31s\tremaining: 28.5s\n",
            "229:\tlearn: 0.6748830\ttest: 0.4786343\tbest: 0.4790532 (220)\ttotal: 1m 32s\tremaining: 28.1s\n",
            "230:\tlearn: 0.6755813\ttest: 0.4784248\tbest: 0.4790532 (220)\ttotal: 1m 32s\tremaining: 27.7s\n",
            "231:\tlearn: 0.6762098\ttest: 0.4773775\tbest: 0.4790532 (220)\ttotal: 1m 33s\tremaining: 27.3s\n",
            "232:\tlearn: 0.6766986\ttest: 0.4780059\tbest: 0.4790532 (220)\ttotal: 1m 33s\tremaining: 26.9s\n",
            "233:\tlearn: 0.6775365\ttest: 0.4780059\tbest: 0.4790532 (220)\ttotal: 1m 33s\tremaining: 26.5s\n",
            "234:\tlearn: 0.6780253\ttest: 0.4803100\tbest: 0.4803100 (234)\ttotal: 1m 34s\tremaining: 26.1s\n",
            "235:\tlearn: 0.6787236\ttest: 0.4811479\tbest: 0.4811479 (235)\ttotal: 1m 34s\tremaining: 25.7s\n",
            "236:\tlearn: 0.6805391\ttest: 0.4805195\tbest: 0.4811479 (235)\ttotal: 1m 35s\tremaining: 25.3s\n",
            "237:\tlearn: 0.6810279\ttest: 0.4807289\tbest: 0.4811479 (235)\ttotal: 1m 35s\tremaining: 24.9s\n",
            "238:\tlearn: 0.6824244\ttest: 0.4803100\tbest: 0.4811479 (235)\ttotal: 1m 35s\tremaining: 24.5s\n",
            "239:\tlearn: 0.6831925\ttest: 0.4803100\tbest: 0.4811479 (235)\ttotal: 1m 36s\tremaining: 24.1s\n",
            "240:\tlearn: 0.6833322\ttest: 0.4809384\tbest: 0.4811479 (235)\ttotal: 1m 36s\tremaining: 23.7s\n",
            "241:\tlearn: 0.6837511\ttest: 0.4805195\tbest: 0.4811479 (235)\ttotal: 1m 37s\tremaining: 23.2s\n",
            "242:\tlearn: 0.6845891\ttest: 0.4803100\tbest: 0.4811479 (235)\ttotal: 1m 37s\tremaining: 22.8s\n",
            "243:\tlearn: 0.6857761\ttest: 0.4811479\tbest: 0.4811479 (235)\ttotal: 1m 37s\tremaining: 22.4s\n",
            "244:\tlearn: 0.6859158\ttest: 0.4813574\tbest: 0.4813574 (244)\ttotal: 1m 38s\tremaining: 22s\n",
            "245:\tlearn: 0.6861951\ttest: 0.4798911\tbest: 0.4813574 (244)\ttotal: 1m 38s\tremaining: 21.6s\n",
            "246:\tlearn: 0.6873822\ttest: 0.4807289\tbest: 0.4813574 (244)\ttotal: 1m 38s\tremaining: 21.2s\n",
            "247:\tlearn: 0.6875916\ttest: 0.4815668\tbest: 0.4815668 (247)\ttotal: 1m 39s\tremaining: 20.8s\n",
            "248:\tlearn: 0.6880106\ttest: 0.4821952\tbest: 0.4821952 (248)\ttotal: 1m 39s\tremaining: 20.4s\n",
            "249:\tlearn: 0.6878011\ttest: 0.4809384\tbest: 0.4821952 (248)\ttotal: 1m 40s\tremaining: 20s\n",
            "250:\tlearn: 0.6885692\ttest: 0.4813574\tbest: 0.4821952 (248)\ttotal: 1m 40s\tremaining: 19.6s\n",
            "251:\tlearn: 0.6902451\ttest: 0.4824047\tbest: 0.4824047 (251)\ttotal: 1m 40s\tremaining: 19.2s\n",
            "252:\tlearn: 0.6907339\ttest: 0.4821952\tbest: 0.4824047 (251)\ttotal: 1m 41s\tremaining: 18.8s\n",
            "253:\tlearn: 0.6913623\ttest: 0.4824047\tbest: 0.4824047 (251)\ttotal: 1m 41s\tremaining: 18.4s\n",
            "254:\tlearn: 0.6923399\ttest: 0.4805195\tbest: 0.4824047 (251)\ttotal: 1m 42s\tremaining: 18s\n",
            "255:\tlearn: 0.6922003\ttest: 0.4803100\tbest: 0.4824047 (251)\ttotal: 1m 42s\tremaining: 17.6s\n",
            "256:\tlearn: 0.6930382\ttest: 0.4819858\tbest: 0.4824047 (251)\ttotal: 1m 42s\tremaining: 17.2s\n",
            "257:\tlearn: 0.6939460\ttest: 0.4813574\tbest: 0.4824047 (251)\ttotal: 1m 43s\tremaining: 16.8s\n",
            "258:\tlearn: 0.6931080\ttest: 0.4815668\tbest: 0.4824047 (251)\ttotal: 1m 43s\tremaining: 16.4s\n",
            "259:\tlearn: 0.6942951\ttest: 0.4819858\tbest: 0.4824047 (251)\ttotal: 1m 43s\tremaining: 16s\n",
            "260:\tlearn: 0.6950632\ttest: 0.4821952\tbest: 0.4824047 (251)\ttotal: 1m 44s\tremaining: 15.6s\n",
            "261:\tlearn: 0.6947839\ttest: 0.4828236\tbest: 0.4828236 (261)\ttotal: 1m 44s\tremaining: 15.2s\n",
            "262:\tlearn: 0.6949235\ttest: 0.4813574\tbest: 0.4828236 (261)\ttotal: 1m 45s\tremaining: 14.8s\n",
            "263:\tlearn: 0.6952727\ttest: 0.4819858\tbest: 0.4828236 (261)\ttotal: 1m 45s\tremaining: 14.4s\n",
            "264:\tlearn: 0.6949235\ttest: 0.4824047\tbest: 0.4828236 (261)\ttotal: 1m 45s\tremaining: 14s\n",
            "265:\tlearn: 0.6954822\ttest: 0.4828236\tbest: 0.4828236 (261)\ttotal: 1m 46s\tremaining: 13.6s\n",
            "266:\tlearn: 0.6963201\ttest: 0.4838710\tbest: 0.4838710 (266)\ttotal: 1m 46s\tremaining: 13.2s\n",
            "267:\tlearn: 0.6968089\ttest: 0.4803100\tbest: 0.4838710 (266)\ttotal: 1m 47s\tremaining: 12.8s\n",
            "268:\tlearn: 0.6979261\ttest: 0.4828236\tbest: 0.4838710 (266)\ttotal: 1m 47s\tremaining: 12.4s\n",
            "269:\tlearn: 0.6980658\ttest: 0.4834520\tbest: 0.4838710 (266)\ttotal: 1m 47s\tremaining: 12s\n",
            "270:\tlearn: 0.6982054\ttest: 0.4830331\tbest: 0.4838710 (266)\ttotal: 1m 48s\tremaining: 11.6s\n",
            "271:\tlearn: 0.6986942\ttest: 0.4834520\tbest: 0.4838710 (266)\ttotal: 1m 48s\tremaining: 11.2s\n",
            "272:\tlearn: 0.6998115\ttest: 0.4819858\tbest: 0.4838710 (266)\ttotal: 1m 49s\tremaining: 10.8s\n",
            "273:\tlearn: 0.6997416\ttest: 0.4819858\tbest: 0.4838710 (266)\ttotal: 1m 49s\tremaining: 10.4s\n",
            "274:\tlearn: 0.7007192\ttest: 0.4828236\tbest: 0.4838710 (266)\ttotal: 1m 49s\tremaining: 9.98s\n",
            "275:\tlearn: 0.7008589\ttest: 0.4842899\tbest: 0.4842899 (275)\ttotal: 1m 50s\tremaining: 9.58s\n",
            "276:\tlearn: 0.7016270\ttest: 0.4828236\tbest: 0.4842899 (275)\ttotal: 1m 50s\tremaining: 9.18s\n",
            "277:\tlearn: 0.7021158\ttest: 0.4821952\tbest: 0.4842899 (275)\ttotal: 1m 50s\tremaining: 8.78s\n",
            "278:\tlearn: 0.7026744\ttest: 0.4826142\tbest: 0.4842899 (275)\ttotal: 1m 51s\tremaining: 8.38s\n",
            "279:\tlearn: 0.7029537\ttest: 0.4830331\tbest: 0.4842899 (275)\ttotal: 1m 51s\tremaining: 7.99s\n",
            "280:\tlearn: 0.7039313\ttest: 0.4847088\tbest: 0.4847088 (280)\ttotal: 1m 52s\tremaining: 7.58s\n",
            "281:\tlearn: 0.7038615\ttest: 0.4842899\tbest: 0.4847088 (280)\ttotal: 1m 52s\tremaining: 7.19s\n",
            "282:\tlearn: 0.7052580\ttest: 0.4819858\tbest: 0.4847088 (280)\ttotal: 1m 52s\tremaining: 6.79s\n",
            "283:\tlearn: 0.7067942\ttest: 0.4826142\tbest: 0.4847088 (280)\ttotal: 1m 53s\tremaining: 6.39s\n",
            "284:\tlearn: 0.7066546\ttest: 0.4817763\tbest: 0.4847088 (280)\ttotal: 1m 53s\tremaining: 5.99s\n",
            "285:\tlearn: 0.7069339\ttest: 0.4821952\tbest: 0.4847088 (280)\ttotal: 1m 54s\tremaining: 5.59s\n",
            "286:\tlearn: 0.7075623\ttest: 0.4819858\tbest: 0.4847088 (280)\ttotal: 1m 54s\tremaining: 5.19s\n",
            "287:\tlearn: 0.7072830\ttest: 0.4824047\tbest: 0.4847088 (280)\ttotal: 1m 54s\tremaining: 4.79s\n",
            "288:\tlearn: 0.7083304\ttest: 0.4828236\tbest: 0.4847088 (280)\ttotal: 1m 55s\tremaining: 4.39s\n",
            "289:\tlearn: 0.7089589\ttest: 0.4821952\tbest: 0.4847088 (280)\ttotal: 1m 55s\tremaining: 3.99s\n",
            "290:\tlearn: 0.7094477\ttest: 0.4836615\tbest: 0.4847088 (280)\ttotal: 1m 56s\tremaining: 3.59s\n",
            "291:\tlearn: 0.7098666\ttest: 0.4836615\tbest: 0.4847088 (280)\ttotal: 1m 56s\tremaining: 3.19s\n",
            "292:\tlearn: 0.7110537\ttest: 0.4819858\tbest: 0.4847088 (280)\ttotal: 1m 56s\tremaining: 2.79s\n",
            "293:\tlearn: 0.7116123\ttest: 0.4830331\tbest: 0.4847088 (280)\ttotal: 1m 57s\tremaining: 2.39s\n",
            "294:\tlearn: 0.7117520\ttest: 0.4815668\tbest: 0.4847088 (280)\ttotal: 1m 57s\tremaining: 1.99s\n",
            "295:\tlearn: 0.7116821\ttest: 0.4801005\tbest: 0.4847088 (280)\ttotal: 1m 58s\tremaining: 1.59s\n",
            "296:\tlearn: 0.7111934\ttest: 0.4828236\tbest: 0.4847088 (280)\ttotal: 1m 58s\tremaining: 1.2s\n",
            "297:\tlearn: 0.7116821\ttest: 0.4826142\tbest: 0.4847088 (280)\ttotal: 1m 58s\tremaining: 798ms\n",
            "298:\tlearn: 0.7121709\ttest: 0.4832426\tbest: 0.4847088 (280)\ttotal: 1m 59s\tremaining: 399ms\n",
            "299:\tlearn: 0.7124502\ttest: 0.4834520\tbest: 0.4847088 (280)\ttotal: 1m 59s\tremaining: 0us\n",
            "\n",
            "bestTest = 0.4847088395\n",
            "bestIteration = 280\n",
            "\n",
            "Shrink model to first 281 iterations.\n"
          ]
        },
        {
          "output_type": "execute_result",
          "data": {
            "text/plain": [
              "<catboost.core.CatBoostClassifier at 0x7f2a3ec21190>"
            ]
          },
          "metadata": {},
          "execution_count": 70
        }
      ]
    },
    {
      "cell_type": "code",
      "metadata": {
        "id": "U3ElUpmLKfXB"
      },
      "source": [
        "model.save_model(\"/content/drive/MyDrive/multi_model.cbm\")"
      ],
      "execution_count": null,
      "outputs": []
    },
    {
      "cell_type": "code",
      "metadata": {
        "id": "lbduxz-TrGsU"
      },
      "source": [
        "y_pred = model.predict(X_test)\n",
        "metrics = prfs(y_test, y_pred)"
      ],
      "execution_count": null,
      "outputs": []
    },
    {
      "cell_type": "code",
      "metadata": {
        "colab": {
          "base_uri": "https://localhost:8080/"
        },
        "id": "iVzWiTKzsJll",
        "outputId": "c9c44ebb-5edb-4466-eb2a-4b2dcfadb37c"
      },
      "source": [
        "metrics"
      ],
      "execution_count": null,
      "outputs": [
        {
          "output_type": "execute_result",
          "data": {
            "text/plain": [
              "(array([0.36809816, 0.41025641, 0.4801444 , 0.75      , 0.48791541,\n",
              "        1.        , 0.50184957, 0.        , 0.39240506, 0.5228833 ,\n",
              "        0.56985294, 0.23529412]),\n",
              " array([0.28526149, 0.16494845, 0.4149766 , 0.2       , 0.60373832,\n",
              "        0.2       , 0.69453925, 0.        , 0.21088435, 0.62688615,\n",
              "        0.36299766, 0.05797101]),\n",
              " array([0.32142857, 0.23529412, 0.44518828, 0.31578947, 0.53968254,\n",
              "        0.33333333, 0.58267717, 0.        , 0.27433628, 0.57018091,\n",
              "        0.4434907 , 0.09302326]),\n",
              " array([ 631,   97,  641,   15,  535,   15, 1172,    2,  441,  729,  427,\n",
              "          69]))"
            ]
          },
          "metadata": {},
          "execution_count": 96
        }
      ]
    },
    {
      "cell_type": "code",
      "metadata": {
        "colab": {
          "base_uri": "https://localhost:8080/"
        },
        "id": "__1vPihhrV_X",
        "outputId": "b8502f96-e92b-4aa6-b06e-9f373a00069d"
      },
      "source": [
        "for c in range(len(metrics[0])):\n",
        "  print(\"Class {}, Precision: {:1.4f}, Recall: {:1.4f}, F1: {:1.4f}\".\n",
        "        format(c, metrics[0][c], metrics[1][c], metrics[2][c]))"
      ],
      "execution_count": null,
      "outputs": [
        {
          "output_type": "stream",
          "name": "stdout",
          "text": [
            "Class 0, Precision: 0.3681, Recall: 0.2853, F1: 0.3214\n",
            "Class 1, Precision: 0.4103, Recall: 0.1649, F1: 0.2353\n",
            "Class 2, Precision: 0.4801, Recall: 0.4150, F1: 0.4452\n",
            "Class 3, Precision: 0.7500, Recall: 0.2000, F1: 0.3158\n",
            "Class 4, Precision: 0.4879, Recall: 0.6037, F1: 0.5397\n",
            "Class 5, Precision: 1.0000, Recall: 0.2000, F1: 0.3333\n",
            "Class 6, Precision: 0.5018, Recall: 0.6945, F1: 0.5827\n",
            "Class 7, Precision: 0.0000, Recall: 0.0000, F1: 0.0000\n",
            "Class 8, Precision: 0.3924, Recall: 0.2109, F1: 0.2743\n",
            "Class 9, Precision: 0.5229, Recall: 0.6269, F1: 0.5702\n",
            "Class 10, Precision: 0.5699, Recall: 0.3630, F1: 0.4435\n",
            "Class 11, Precision: 0.2353, Recall: 0.0580, F1: 0.0930\n"
          ]
        }
      ]
    },
    {
      "cell_type": "code",
      "metadata": {
        "id": "jEgx_U1jsAqF"
      },
      "source": [
        ""
      ],
      "execution_count": null,
      "outputs": []
    }
  ]
}